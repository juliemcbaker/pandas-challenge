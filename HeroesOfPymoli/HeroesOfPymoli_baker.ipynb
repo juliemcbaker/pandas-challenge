{
 "cells": [
  {
   "cell_type": "markdown",
   "metadata": {},
   "source": [
    "### Note\n",
    "* Instructions have been included for each segment. You do not have to follow them exactly, but they are included to help you think through the steps."
   ]
  },
  {
   "cell_type": "code",
   "execution_count": null,
   "metadata": {},
   "outputs": [],
   "source": [
    "# Julie Baker\n",
    "# Heroes of Pymoli\n",
    "# June 2021"
   ]
  },
  {
   "cell_type": "code",
   "execution_count": 199,
   "metadata": {},
   "outputs": [],
   "source": [
    "# Dependencies and Setup --> need to make sure it's on my 3.8.5 to get to work right now\n",
    "import pandas as pd\n",
    "import os\n",
    "import csv\n",
    "\n",
    "# File to Load (Remember to Change These)\n",
    "file_to_load = os.path.join(os.getcwd(), \"Resources\", \"purchase_data.csv\")\n",
    "\n",
    "# Read Purchasing File and store into Pandas data frame\n",
    "purchase_df = pd.read_csv(file_to_load)"
   ]
  },
  {
   "cell_type": "code",
   "execution_count": 200,
   "metadata": {},
   "outputs": [
    {
     "output_type": "execute_result",
     "data": {
      "text/plain": [
       "   Purchase ID             SN  Age Gender  Item ID  \\\n",
       "0            0        Lisim78   20   Male      108   \n",
       "1            1    Lisovynya38   40   Male      143   \n",
       "2            2     Ithergue48   24   Male       92   \n",
       "3            3  Chamassasya86   24   Male      100   \n",
       "4            4      Iskosia90   23   Male      131   \n",
       "\n",
       "                                   Item Name  Price  \n",
       "0  Extraction, Quickblade Of Trembling Hands   3.53  \n",
       "1                          Frenzied Scimitar   1.56  \n",
       "2                               Final Critic   4.88  \n",
       "3                                Blindscythe   3.27  \n",
       "4                                       Fury   1.44  "
      ],
      "text/html": "<div>\n<style scoped>\n    .dataframe tbody tr th:only-of-type {\n        vertical-align: middle;\n    }\n\n    .dataframe tbody tr th {\n        vertical-align: top;\n    }\n\n    .dataframe thead th {\n        text-align: right;\n    }\n</style>\n<table border=\"1\" class=\"dataframe\">\n  <thead>\n    <tr style=\"text-align: right;\">\n      <th></th>\n      <th>Purchase ID</th>\n      <th>SN</th>\n      <th>Age</th>\n      <th>Gender</th>\n      <th>Item ID</th>\n      <th>Item Name</th>\n      <th>Price</th>\n    </tr>\n  </thead>\n  <tbody>\n    <tr>\n      <th>0</th>\n      <td>0</td>\n      <td>Lisim78</td>\n      <td>20</td>\n      <td>Male</td>\n      <td>108</td>\n      <td>Extraction, Quickblade Of Trembling Hands</td>\n      <td>3.53</td>\n    </tr>\n    <tr>\n      <th>1</th>\n      <td>1</td>\n      <td>Lisovynya38</td>\n      <td>40</td>\n      <td>Male</td>\n      <td>143</td>\n      <td>Frenzied Scimitar</td>\n      <td>1.56</td>\n    </tr>\n    <tr>\n      <th>2</th>\n      <td>2</td>\n      <td>Ithergue48</td>\n      <td>24</td>\n      <td>Male</td>\n      <td>92</td>\n      <td>Final Critic</td>\n      <td>4.88</td>\n    </tr>\n    <tr>\n      <th>3</th>\n      <td>3</td>\n      <td>Chamassasya86</td>\n      <td>24</td>\n      <td>Male</td>\n      <td>100</td>\n      <td>Blindscythe</td>\n      <td>3.27</td>\n    </tr>\n    <tr>\n      <th>4</th>\n      <td>4</td>\n      <td>Iskosia90</td>\n      <td>23</td>\n      <td>Male</td>\n      <td>131</td>\n      <td>Fury</td>\n      <td>1.44</td>\n    </tr>\n  </tbody>\n</table>\n</div>"
     },
     "metadata": {},
     "execution_count": 200
    }
   ],
   "source": [
    "# just looking at data\n",
    "purchase_df.head(5)"
   ]
  },
  {
   "cell_type": "markdown",
   "metadata": {},
   "source": [
    "## Player Count"
   ]
  },
  {
   "cell_type": "markdown",
   "metadata": {},
   "source": [
    "* Display the total number of players\n"
   ]
  },
  {
   "cell_type": "code",
   "execution_count": 201,
   "metadata": {},
   "outputs": [
    {
     "output_type": "stream",
     "name": "stdout",
     "text": [
      "576\n"
     ]
    }
   ],
   "source": [
    "# SN unique\n",
    "user_count = len(purchase_df.SN.unique())\n",
    "print(user_count)"
   ]
  },
  {
   "cell_type": "markdown",
   "metadata": {},
   "source": [
    "## Purchasing Analysis (Total)"
   ]
  },
  {
   "cell_type": "markdown",
   "metadata": {},
   "source": [
    "* Run basic calculations to obtain number of unique items, average price, etc.\n",
    "\n",
    "\n",
    "* Create a summary data frame to hold the results\n",
    "\n",
    "\n",
    "* Optional: give the displayed data cleaner formatting\n",
    "\n",
    "\n",
    "* Display the summary data frame\n"
   ]
  },
  {
   "cell_type": "code",
   "execution_count": 202,
   "metadata": {},
   "outputs": [
    {
     "output_type": "execute_result",
     "data": {
      "text/plain": [
       "   Unique Users  Unique Items  Average Price  Total Purchases  Total Revenue\n",
       "0           576           179       3.050987              780        2379.77"
      ],
      "text/html": "<div>\n<style scoped>\n    .dataframe tbody tr th:only-of-type {\n        vertical-align: middle;\n    }\n\n    .dataframe tbody tr th {\n        vertical-align: top;\n    }\n\n    .dataframe thead th {\n        text-align: right;\n    }\n</style>\n<table border=\"1\" class=\"dataframe\">\n  <thead>\n    <tr style=\"text-align: right;\">\n      <th></th>\n      <th>Unique Users</th>\n      <th>Unique Items</th>\n      <th>Average Price</th>\n      <th>Total Purchases</th>\n      <th>Total Revenue</th>\n    </tr>\n  </thead>\n  <tbody>\n    <tr>\n      <th>0</th>\n      <td>576</td>\n      <td>179</td>\n      <td>3.050987</td>\n      <td>780</td>\n      <td>2379.77</td>\n    </tr>\n  </tbody>\n</table>\n</div>"
     },
     "metadata": {},
     "execution_count": 202
    }
   ],
   "source": [
    "## WORK ON FORMATTING IF TIME LATER ##\n",
    "# ===================================\n",
    "# unique items\n",
    "item_count = len(purchase_df[\"Item ID\"].unique())\n",
    "# average purchase price\n",
    "avg_purchase = purchase_df.Price.mean()\n",
    "#.. avg_purchase['Average Price'] = avg_purchase['Average Price'].map(\"${:,.2}\".format)\n",
    "# total number of purchases\n",
    "total_purchases = len(purchase_df['Purchase ID'])\n",
    "# total revenue\n",
    "total_rev = purchase_df.Price.sum()\n",
    "\n",
    "purchase_analysis_df = pd.DataFrame(data = [[user_count, item_count, avg_purchase, total_purchases, total_rev]], columns=[\"Unique Users\", \"Unique Items\", \"Average Price\", \"Total Purchases\", \"Total Revenue\"])\n",
    "\n",
    "### pd.options.display.float_format = '${:, .2f}'.format\n",
    "\n",
    "purchase_analysis_df"
   ]
  },
  {
   "cell_type": "code",
   "execution_count": 203,
   "metadata": {
    "scrolled": true
   },
   "outputs": [
    {
     "output_type": "execute_result",
     "data": {
      "text/plain": [
       "     PurchaseID             SN  Age  Gender  ItemID  \\\n",
       "0             0        Lisim78   20    Male     108   \n",
       "1             1    Lisovynya38   40    Male     143   \n",
       "2             2     Ithergue48   24    Male      92   \n",
       "3             3  Chamassasya86   24    Male     100   \n",
       "4             4      Iskosia90   23    Male     131   \n",
       "..          ...            ...  ...     ...     ...   \n",
       "775         775     Aethedru70   21  Female      60   \n",
       "776         776         Iral74   21    Male     164   \n",
       "777         777     Yathecal72   20    Male      67   \n",
       "778         778        Sisur91    7    Male      92   \n",
       "779         779      Ennrian78   24    Male      50   \n",
       "\n",
       "                                      ItemName  Price  \n",
       "0    Extraction, Quickblade Of Trembling Hands   3.53  \n",
       "1                            Frenzied Scimitar   1.56  \n",
       "2                                 Final Critic   4.88  \n",
       "3                                  Blindscythe   3.27  \n",
       "4                                         Fury   1.44  \n",
       "..                                         ...    ...  \n",
       "775                                       Wolf   3.54  \n",
       "776                           Exiled Doomblade   1.63  \n",
       "777      Celeste, Incarnation of the Corrupted   3.46  \n",
       "778                               Final Critic   4.19  \n",
       "779                                       Dawn   4.60  \n",
       "\n",
       "[780 rows x 7 columns]"
      ],
      "text/html": "<div>\n<style scoped>\n    .dataframe tbody tr th:only-of-type {\n        vertical-align: middle;\n    }\n\n    .dataframe tbody tr th {\n        vertical-align: top;\n    }\n\n    .dataframe thead th {\n        text-align: right;\n    }\n</style>\n<table border=\"1\" class=\"dataframe\">\n  <thead>\n    <tr style=\"text-align: right;\">\n      <th></th>\n      <th>PurchaseID</th>\n      <th>SN</th>\n      <th>Age</th>\n      <th>Gender</th>\n      <th>ItemID</th>\n      <th>ItemName</th>\n      <th>Price</th>\n    </tr>\n  </thead>\n  <tbody>\n    <tr>\n      <th>0</th>\n      <td>0</td>\n      <td>Lisim78</td>\n      <td>20</td>\n      <td>Male</td>\n      <td>108</td>\n      <td>Extraction, Quickblade Of Trembling Hands</td>\n      <td>3.53</td>\n    </tr>\n    <tr>\n      <th>1</th>\n      <td>1</td>\n      <td>Lisovynya38</td>\n      <td>40</td>\n      <td>Male</td>\n      <td>143</td>\n      <td>Frenzied Scimitar</td>\n      <td>1.56</td>\n    </tr>\n    <tr>\n      <th>2</th>\n      <td>2</td>\n      <td>Ithergue48</td>\n      <td>24</td>\n      <td>Male</td>\n      <td>92</td>\n      <td>Final Critic</td>\n      <td>4.88</td>\n    </tr>\n    <tr>\n      <th>3</th>\n      <td>3</td>\n      <td>Chamassasya86</td>\n      <td>24</td>\n      <td>Male</td>\n      <td>100</td>\n      <td>Blindscythe</td>\n      <td>3.27</td>\n    </tr>\n    <tr>\n      <th>4</th>\n      <td>4</td>\n      <td>Iskosia90</td>\n      <td>23</td>\n      <td>Male</td>\n      <td>131</td>\n      <td>Fury</td>\n      <td>1.44</td>\n    </tr>\n    <tr>\n      <th>...</th>\n      <td>...</td>\n      <td>...</td>\n      <td>...</td>\n      <td>...</td>\n      <td>...</td>\n      <td>...</td>\n      <td>...</td>\n    </tr>\n    <tr>\n      <th>775</th>\n      <td>775</td>\n      <td>Aethedru70</td>\n      <td>21</td>\n      <td>Female</td>\n      <td>60</td>\n      <td>Wolf</td>\n      <td>3.54</td>\n    </tr>\n    <tr>\n      <th>776</th>\n      <td>776</td>\n      <td>Iral74</td>\n      <td>21</td>\n      <td>Male</td>\n      <td>164</td>\n      <td>Exiled Doomblade</td>\n      <td>1.63</td>\n    </tr>\n    <tr>\n      <th>777</th>\n      <td>777</td>\n      <td>Yathecal72</td>\n      <td>20</td>\n      <td>Male</td>\n      <td>67</td>\n      <td>Celeste, Incarnation of the Corrupted</td>\n      <td>3.46</td>\n    </tr>\n    <tr>\n      <th>778</th>\n      <td>778</td>\n      <td>Sisur91</td>\n      <td>7</td>\n      <td>Male</td>\n      <td>92</td>\n      <td>Final Critic</td>\n      <td>4.19</td>\n    </tr>\n    <tr>\n      <th>779</th>\n      <td>779</td>\n      <td>Ennrian78</td>\n      <td>24</td>\n      <td>Male</td>\n      <td>50</td>\n      <td>Dawn</td>\n      <td>4.60</td>\n    </tr>\n  </tbody>\n</table>\n<p>780 rows × 7 columns</p>\n</div>"
     },
     "metadata": {},
     "execution_count": 203
    }
   ],
   "source": [
    "# Renaming columns to remove spaces \n",
    "update_purchase_df = purchase_df.rename(columns={'Purchase ID':'PurchaseID', 'Item ID' : 'ItemID', 'Item Name' : 'ItemName'})\n",
    "\n",
    "update_purchase_df"
   ]
  },
  {
   "cell_type": "markdown",
   "metadata": {},
   "source": [
    "## Gender Demographics"
   ]
  },
  {
   "cell_type": "markdown",
   "metadata": {},
   "source": [
    "* Percentage and Count of Male Players\n",
    "\n",
    "\n",
    "* Percentage and Count of Female Players\n",
    "\n",
    "\n",
    "* Percentage and Count of Other / Non-Disclosed\n",
    "\n",
    "\n"
   ]
  },
  {
   "cell_type": "code",
   "execution_count": 204,
   "metadata": {},
   "outputs": [
    {
     "output_type": "execute_result",
     "data": {
      "text/plain": [
       "Gender\n",
       "Female                   113\n",
       "Male                     652\n",
       "Other / Non-Disclosed     15\n",
       "Name: Gender, dtype: int64"
      ]
     },
     "metadata": {},
     "execution_count": 204
    }
   ],
   "source": [
    "# gender demographics; based on code example from stackoverflow.com\n",
    "gender_incorrect = update_purchase_df.groupby(['Gender'])['Gender'].count()\n",
    "\n",
    "## THERE IS A PROBLEM WITH THIS -- it's based on all lines of data, but should just be subset based on user id to remove duplicates--discrepancy can be seen between these values and those generated from the newly created dataframes below\n",
    "gender_incorrect"
   ]
  },
  {
   "cell_type": "code",
   "execution_count": 205,
   "metadata": {},
   "outputs": [],
   "source": [
    "# Creating dataframes for each gender group because using the original dataframe doesn't take duplicate users into account\n",
    "\n",
    "# Female users\n",
    "female_users_df = update_purchase_df.loc[update_purchase_df[\"Gender\"] == \"Female\", :]\n",
    "# Male users\n",
    "male_users_df = update_purchase_df.loc[update_purchase_df[\"Gender\"] == \"Male\", :]\n",
    "# Other users\n",
    "other_users_df = update_purchase_df.loc[update_purchase_df[\"Gender\"] == \"Other / Non-Disclosed\", :]"
   ]
  },
  {
   "cell_type": "code",
   "execution_count": 206,
   "metadata": {},
   "outputs": [],
   "source": [
    "# female count\n",
    "female_count = len(female_users_df.SN.unique())\n",
    "# female percentage\n",
    "female_percent = (female_count / user_count)*100"
   ]
  },
  {
   "cell_type": "code",
   "execution_count": 207,
   "metadata": {},
   "outputs": [],
   "source": [
    "# male count & percentage\n",
    "male_count = len(male_users_df.SN.unique())\n",
    "male_percent = male_count / user_count*100"
   ]
  },
  {
   "cell_type": "code",
   "execution_count": 208,
   "metadata": {},
   "outputs": [],
   "source": [
    "# other count & percentage\n",
    "other_count = len(other_users_df.SN.unique())\n",
    "other_percent = (other_count / user_count)*100"
   ]
  },
  {
   "cell_type": "code",
   "execution_count": 209,
   "metadata": {},
   "outputs": [
    {
     "output_type": "execute_result",
     "data": {
      "text/plain": [
       "                  Gender  Player Count  Percent of Players\n",
       "0                 Female            81           14.062500\n",
       "1                   Male           484           84.027778\n",
       "2  Other / Not Disclosed            11            1.909722\n",
       "3          Total Players           576          100.000000"
      ],
      "text/html": "<div>\n<style scoped>\n    .dataframe tbody tr th:only-of-type {\n        vertical-align: middle;\n    }\n\n    .dataframe tbody tr th {\n        vertical-align: top;\n    }\n\n    .dataframe thead th {\n        text-align: right;\n    }\n</style>\n<table border=\"1\" class=\"dataframe\">\n  <thead>\n    <tr style=\"text-align: right;\">\n      <th></th>\n      <th>Gender</th>\n      <th>Player Count</th>\n      <th>Percent of Players</th>\n    </tr>\n  </thead>\n  <tbody>\n    <tr>\n      <th>0</th>\n      <td>Female</td>\n      <td>81</td>\n      <td>14.062500</td>\n    </tr>\n    <tr>\n      <th>1</th>\n      <td>Male</td>\n      <td>484</td>\n      <td>84.027778</td>\n    </tr>\n    <tr>\n      <th>2</th>\n      <td>Other / Not Disclosed</td>\n      <td>11</td>\n      <td>1.909722</td>\n    </tr>\n    <tr>\n      <th>3</th>\n      <td>Total Players</td>\n      <td>576</td>\n      <td>100.000000</td>\n    </tr>\n  </tbody>\n</table>\n</div>"
     },
     "metadata": {},
     "execution_count": 209
    }
   ],
   "source": [
    "# Gender Demographics Output\n",
    "\n",
    "gender_demo_df = pd.DataFrame({\n",
    "    \"Gender\": [\"Female\", \"Male\", \"Other / Not Disclosed\", \"Total Players\"],\n",
    "    \"Player Count\": [female_count, male_count, other_count, user_count],\n",
    "    \"Percent of Players\": [female_percent, male_percent, other_percent, 100]\n",
    "})\n",
    "\n",
    "# gender_demo_df[\"Percent of Players\"] = gender_demo_df[\"Percent of Players\"].map('{:.2%f}')\n",
    "# pd.options.display.float_format = '{:.2%}'.format FIGURE THIS OUT LATER, WAS MESSING UP STUFF LATER\n",
    "\n",
    "#purchase_analysis_df = pd.DataFrame(data = [[user_count, item_count, avg_purchase, total_purchases, total_rev]], columns=[\"Unique Users\", \"Unique Items\", \"Average Price\", \"Total Purchases\", \"Total Revenue\"])\n",
    "gender_demo_df"
   ]
  },
  {
   "cell_type": "markdown",
   "metadata": {},
   "source": [
    "\n",
    "## Purchasing Analysis (Gender)"
   ]
  },
  {
   "cell_type": "markdown",
   "metadata": {},
   "source": [
    "* Run basic calculations to obtain purchase count, avg. purchase price, avg. purchase total per person etc. by gender\n",
    "\n",
    "\n",
    "\n",
    "\n",
    "* Create a summary data frame to hold the results\n",
    "\n",
    "\n",
    "* Optional: give the displayed data cleaner formatting\n",
    "\n",
    "\n",
    "* Display the summary data frame"
   ]
  },
  {
   "cell_type": "code",
   "execution_count": 210,
   "metadata": {},
   "outputs": [],
   "source": [
    "# purchase count by gender\n",
    "female_purchases = female_users_df[\"PurchaseID\"].count()\n",
    "male_purchases = male_users_df[\"PurchaseID\"].count()\n",
    "other_purchases = other_users_df[\"PurchaseID\"].count()"
   ]
  },
  {
   "cell_type": "code",
   "execution_count": 211,
   "metadata": {},
   "outputs": [],
   "source": [
    "# average purchase price by gender\n",
    "avg_price_female = female_users_df.Price.mean()\n",
    "avg_price_male = male_users_df.Price.mean()\n",
    "avg_price_other = other_users_df.Price.mean()"
   ]
  },
  {
   "cell_type": "code",
   "execution_count": 212,
   "metadata": {},
   "outputs": [],
   "source": [
    "# total purchase value by gender\n",
    "total_rev = purchase_df.Price.sum()\n",
    "total_purchase_female = female_users_df.Price.sum()\n",
    "total_purchase_male = male_users_df.Price.sum()\n",
    "total_purchase_other = other_users_df.Price.sum()"
   ]
  },
  {
   "cell_type": "code",
   "execution_count": 213,
   "metadata": {},
   "outputs": [],
   "source": [
    "# average purchase total per PERSON per GENDER\n",
    "avg_purchase = purchase_df.Price.mean()\n",
    "avg_total_females = total_purchase_female/female_count\n",
    "avg_total_males = total_purchase_male/male_count\n",
    "avg_total_other = total_purchase_other/other_count\n"
   ]
  },
  {
   "cell_type": "code",
   "execution_count": 214,
   "metadata": {},
   "outputs": [
    {
     "output_type": "execute_result",
     "data": {
      "text/plain": [
       "                  Gender  Player Count  Percent of Players  Purchase Count  \\\n",
       "0                 Female            81           14.062500             113   \n",
       "1                   Male           484           84.027778             652   \n",
       "2  Other / Not Disclosed            11            1.909722              15   \n",
       "\n",
       "   Average Purchase Price  Total Purchase Value  \\\n",
       "0                3.203009                361.94   \n",
       "1                3.017853               1967.64   \n",
       "2                3.346000                 50.19   \n",
       "\n",
       "   Average Purchase Total per Person by Gender  \n",
       "0                                     4.468395  \n",
       "1                                     4.065372  \n",
       "2                                     4.562727  "
      ],
      "text/html": "<div>\n<style scoped>\n    .dataframe tbody tr th:only-of-type {\n        vertical-align: middle;\n    }\n\n    .dataframe tbody tr th {\n        vertical-align: top;\n    }\n\n    .dataframe thead th {\n        text-align: right;\n    }\n</style>\n<table border=\"1\" class=\"dataframe\">\n  <thead>\n    <tr style=\"text-align: right;\">\n      <th></th>\n      <th>Gender</th>\n      <th>Player Count</th>\n      <th>Percent of Players</th>\n      <th>Purchase Count</th>\n      <th>Average Purchase Price</th>\n      <th>Total Purchase Value</th>\n      <th>Average Purchase Total per Person by Gender</th>\n    </tr>\n  </thead>\n  <tbody>\n    <tr>\n      <th>0</th>\n      <td>Female</td>\n      <td>81</td>\n      <td>14.062500</td>\n      <td>113</td>\n      <td>3.203009</td>\n      <td>361.94</td>\n      <td>4.468395</td>\n    </tr>\n    <tr>\n      <th>1</th>\n      <td>Male</td>\n      <td>484</td>\n      <td>84.027778</td>\n      <td>652</td>\n      <td>3.017853</td>\n      <td>1967.64</td>\n      <td>4.065372</td>\n    </tr>\n    <tr>\n      <th>2</th>\n      <td>Other / Not Disclosed</td>\n      <td>11</td>\n      <td>1.909722</td>\n      <td>15</td>\n      <td>3.346000</td>\n      <td>50.19</td>\n      <td>4.562727</td>\n    </tr>\n  </tbody>\n</table>\n</div>"
     },
     "metadata": {},
     "execution_count": 214
    }
   ],
   "source": [
    "## PURCHASING ANALYSIS (Gender)\n",
    "\n",
    "gender_purchasing_df = pd.DataFrame({\n",
    "    \"Gender\": [\"Female\", \"Male\", \"Other / Not Disclosed\"],\n",
    "    \"Player Count\": [female_count, male_count, other_count],\n",
    "    \"Percent of Players\": [female_percent, male_percent, other_percent],\n",
    "    \"Purchase Count\": [female_purchases, male_purchases, other_purchases],\n",
    "    \"Average Purchase Price\": [avg_price_female, avg_price_male, avg_price_other],\n",
    "    \"Total Purchase Value\": [total_purchase_female, total_purchase_male, total_purchase_other],\n",
    "    \"Average Purchase Total per Person by Gender\": [avg_total_females, avg_total_males, avg_total_other]\n",
    "})\n",
    "gender_purchasing_df"
   ]
  },
  {
   "cell_type": "markdown",
   "metadata": {},
   "source": [
    "## Age Demographics"
   ]
  },
  {
   "cell_type": "markdown",
   "metadata": {},
   "source": [
    "* Establish bins for ages\n",
    "\n",
    "\n",
    "* Categorize the existing players using the age bins. Hint: use pd.cut()\n",
    "\n",
    "\n",
    "* Calculate the numbers and percentages by age group\n",
    "\n",
    "\n",
    "* Create a summary data frame to hold the results\n",
    "\n",
    "\n",
    "* Optional: round the percentage column to two decimal points\n",
    "\n",
    "\n",
    "* Display Age Demographics Table\n"
   ]
  },
  {
   "cell_type": "code",
   "execution_count": 215,
   "metadata": {},
   "outputs": [],
   "source": [
    "# esatblish bins for ages\n",
    "\n",
    "bins = [0, 10, 14, 18, 22, 26, 30, 34, 38, 42, 46]\n",
    "age_labels = [\"10 and under\", \"11-14\", \"15-18\", \"19-22\", \"23-26\", \"27-30\", \"31-34\", \"35-38\", \"39-42\", \"43-46\"]"
   ]
  },
  {
   "cell_type": "code",
   "execution_count": 216,
   "metadata": {},
   "outputs": [
    {
     "output_type": "execute_result",
     "data": {
      "text/plain": [
       "     PurchaseID             SN  Age  Gender  ItemID  \\\n",
       "0             0        Lisim78   20    Male     108   \n",
       "1             1    Lisovynya38   40    Male     143   \n",
       "2             2     Ithergue48   24    Male      92   \n",
       "3             3  Chamassasya86   24    Male     100   \n",
       "4             4      Iskosia90   23    Male     131   \n",
       "..          ...            ...  ...     ...     ...   \n",
       "775         775     Aethedru70   21  Female      60   \n",
       "776         776         Iral74   21    Male     164   \n",
       "777         777     Yathecal72   20    Male      67   \n",
       "778         778        Sisur91    7    Male      92   \n",
       "779         779      Ennrian78   24    Male      50   \n",
       "\n",
       "                                      ItemName  Price     Age Group  \n",
       "0    Extraction, Quickblade Of Trembling Hands   3.53         19-22  \n",
       "1                            Frenzied Scimitar   1.56         39-42  \n",
       "2                                 Final Critic   4.88         23-26  \n",
       "3                                  Blindscythe   3.27         23-26  \n",
       "4                                         Fury   1.44         23-26  \n",
       "..                                         ...    ...           ...  \n",
       "775                                       Wolf   3.54         19-22  \n",
       "776                           Exiled Doomblade   1.63         19-22  \n",
       "777      Celeste, Incarnation of the Corrupted   3.46         19-22  \n",
       "778                               Final Critic   4.19  10 and under  \n",
       "779                                       Dawn   4.60         23-26  \n",
       "\n",
       "[780 rows x 8 columns]"
      ],
      "text/html": "<div>\n<style scoped>\n    .dataframe tbody tr th:only-of-type {\n        vertical-align: middle;\n    }\n\n    .dataframe tbody tr th {\n        vertical-align: top;\n    }\n\n    .dataframe thead th {\n        text-align: right;\n    }\n</style>\n<table border=\"1\" class=\"dataframe\">\n  <thead>\n    <tr style=\"text-align: right;\">\n      <th></th>\n      <th>PurchaseID</th>\n      <th>SN</th>\n      <th>Age</th>\n      <th>Gender</th>\n      <th>ItemID</th>\n      <th>ItemName</th>\n      <th>Price</th>\n      <th>Age Group</th>\n    </tr>\n  </thead>\n  <tbody>\n    <tr>\n      <th>0</th>\n      <td>0</td>\n      <td>Lisim78</td>\n      <td>20</td>\n      <td>Male</td>\n      <td>108</td>\n      <td>Extraction, Quickblade Of Trembling Hands</td>\n      <td>3.53</td>\n      <td>19-22</td>\n    </tr>\n    <tr>\n      <th>1</th>\n      <td>1</td>\n      <td>Lisovynya38</td>\n      <td>40</td>\n      <td>Male</td>\n      <td>143</td>\n      <td>Frenzied Scimitar</td>\n      <td>1.56</td>\n      <td>39-42</td>\n    </tr>\n    <tr>\n      <th>2</th>\n      <td>2</td>\n      <td>Ithergue48</td>\n      <td>24</td>\n      <td>Male</td>\n      <td>92</td>\n      <td>Final Critic</td>\n      <td>4.88</td>\n      <td>23-26</td>\n    </tr>\n    <tr>\n      <th>3</th>\n      <td>3</td>\n      <td>Chamassasya86</td>\n      <td>24</td>\n      <td>Male</td>\n      <td>100</td>\n      <td>Blindscythe</td>\n      <td>3.27</td>\n      <td>23-26</td>\n    </tr>\n    <tr>\n      <th>4</th>\n      <td>4</td>\n      <td>Iskosia90</td>\n      <td>23</td>\n      <td>Male</td>\n      <td>131</td>\n      <td>Fury</td>\n      <td>1.44</td>\n      <td>23-26</td>\n    </tr>\n    <tr>\n      <th>...</th>\n      <td>...</td>\n      <td>...</td>\n      <td>...</td>\n      <td>...</td>\n      <td>...</td>\n      <td>...</td>\n      <td>...</td>\n      <td>...</td>\n    </tr>\n    <tr>\n      <th>775</th>\n      <td>775</td>\n      <td>Aethedru70</td>\n      <td>21</td>\n      <td>Female</td>\n      <td>60</td>\n      <td>Wolf</td>\n      <td>3.54</td>\n      <td>19-22</td>\n    </tr>\n    <tr>\n      <th>776</th>\n      <td>776</td>\n      <td>Iral74</td>\n      <td>21</td>\n      <td>Male</td>\n      <td>164</td>\n      <td>Exiled Doomblade</td>\n      <td>1.63</td>\n      <td>19-22</td>\n    </tr>\n    <tr>\n      <th>777</th>\n      <td>777</td>\n      <td>Yathecal72</td>\n      <td>20</td>\n      <td>Male</td>\n      <td>67</td>\n      <td>Celeste, Incarnation of the Corrupted</td>\n      <td>3.46</td>\n      <td>19-22</td>\n    </tr>\n    <tr>\n      <th>778</th>\n      <td>778</td>\n      <td>Sisur91</td>\n      <td>7</td>\n      <td>Male</td>\n      <td>92</td>\n      <td>Final Critic</td>\n      <td>4.19</td>\n      <td>10 and under</td>\n    </tr>\n    <tr>\n      <th>779</th>\n      <td>779</td>\n      <td>Ennrian78</td>\n      <td>24</td>\n      <td>Male</td>\n      <td>50</td>\n      <td>Dawn</td>\n      <td>4.60</td>\n      <td>23-26</td>\n    </tr>\n  </tbody>\n</table>\n<p>780 rows × 8 columns</p>\n</div>"
     },
     "metadata": {},
     "execution_count": 216
    }
   ],
   "source": [
    "# use pd.cut() to categorize players using age bins\n",
    "pd.cut(update_purchase_df[\"Age\"], bins, labels=age_labels).head()\n",
    "\n",
    "age_df = update_purchase_df\n",
    "age_df[\"Age Group\"] = pd.cut(age_df[\"Age\"], bins, labels=age_labels)\n",
    "age_df"
   ]
  },
  {
   "cell_type": "code",
   "execution_count": 218,
   "metadata": {},
   "outputs": [],
   "source": [
    "# Creating dataframes for each age group\n",
    "\n",
    "group01_df = age_df.loc[update_purchase_df[\"Age Group\"] == \"10 and under\", :]\n",
    "group02_df = age_df.loc[update_purchase_df[\"Age Group\"] == \"11-14\", :]\n",
    "group03_df = age_df.loc[update_purchase_df[\"Age Group\"] == \"15-18\", :]\n",
    "group04_df = age_df.loc[update_purchase_df[\"Age Group\"] == \"19-22\", :]\n",
    "group05_df = age_df.loc[update_purchase_df[\"Age Group\"] == \"23-26\", :]\n",
    "group06_df = age_df.loc[update_purchase_df[\"Age Group\"] == \"27-30\", :]\n",
    "group07_df = age_df.loc[update_purchase_df[\"Age Group\"] == \"31-34\", :]\n",
    "group08_df = age_df.loc[update_purchase_df[\"Age Group\"] == \"35-38\", :]\n",
    "group09_df = age_df.loc[update_purchase_df[\"Age Group\"] == \"39-42\", :]\n",
    "group10_df = age_df.loc[update_purchase_df[\"Age Group\"] == \"43-46\", :]"
   ]
  },
  {
   "cell_type": "code",
   "execution_count": 219,
   "metadata": {},
   "outputs": [],
   "source": [
    "# age group counts\n",
    "grp01_users = len(group01_df['SN'].unique())\n",
    "grp02_users = len(group02_df['SN'].unique())\n",
    "grp03_users = len(group03_df['SN'].unique())\n",
    "grp04_users = len(group04_df['SN'].unique())\n",
    "grp05_users = len(group05_df['SN'].unique())\n",
    "grp06_users = len(group06_df['SN'].unique())\n",
    "grp07_users = len(group07_df['SN'].unique())\n",
    "grp08_users = len(group08_df['SN'].unique())\n",
    "grp09_users = len(group09_df['SN'].unique())\n",
    "grp10_users = len(group10_df['SN'].unique())\n",
    "\n",
    "age_counts = [grp01_users, grp02_users, grp03_users, grp04_users, grp05_users, grp06_users, grp07_users, grp08_users, grp09_users, grp10_users]"
   ]
  },
  {
   "cell_type": "code",
   "execution_count": 223,
   "metadata": {},
   "outputs": [],
   "source": [
    "# age group percents\n",
    "grp01_percent = grp01_users / user_count *100\n",
    "grp02_percent = grp02_users / user_count *100\n",
    "grp03_percent = grp03_users / user_count *100\n",
    "grp04_percent = grp04_users / user_count *100\n",
    "grp05_percent = grp05_users / user_count *100\n",
    "grp06_percent = grp06_users / user_count *100\n",
    "grp07_percent = grp07_users / user_count *100\n",
    "grp08_percent = grp08_users / user_count *100\n",
    "grp09_percent = grp09_users / user_count *100\n",
    "grp10_percent = grp10_users / user_count *100\n",
    "\n",
    "age_percents = [grp01_percent, grp02_percent, grp03_percent, grp04_percent, grp05_percent, grp06_percent, grp07_percent, grp08_percent, grp09_percent, grp10_percent]"
   ]
  },
  {
   "cell_type": "code",
   "execution_count": 224,
   "metadata": {},
   "outputs": [],
   "source": [
    "# create a summary df to hold the results; opt: round percentage to two decimals\n",
    "age_demo_df = pd.DataFrame({\n",
    "    \"Age\": age_labels,\n",
    "    \"Player Count\": age_counts,\n",
    "    \"Percent of Players\": age_percents\n",
    "})"
   ]
  },
  {
   "cell_type": "code",
   "execution_count": 225,
   "metadata": {},
   "outputs": [
    {
     "output_type": "execute_result",
     "data": {
      "text/plain": [
       "            Age  Player Count  Percent of Players\n",
       "0  10 and under            24            4.166667\n",
       "1         11-14            15            2.604167\n",
       "2         15-18            90           15.625000\n",
       "3         19-22           178           30.902778\n",
       "4         23-26           151           26.215278\n",
       "5         27-30            48            8.333333\n",
       "6         31-34            27            4.687500\n",
       "7         35-38            25            4.340278\n",
       "8         39-42            14            2.430556\n",
       "9         43-46             4            0.694444"
      ],
      "text/html": "<div>\n<style scoped>\n    .dataframe tbody tr th:only-of-type {\n        vertical-align: middle;\n    }\n\n    .dataframe tbody tr th {\n        vertical-align: top;\n    }\n\n    .dataframe thead th {\n        text-align: right;\n    }\n</style>\n<table border=\"1\" class=\"dataframe\">\n  <thead>\n    <tr style=\"text-align: right;\">\n      <th></th>\n      <th>Age</th>\n      <th>Player Count</th>\n      <th>Percent of Players</th>\n    </tr>\n  </thead>\n  <tbody>\n    <tr>\n      <th>0</th>\n      <td>10 and under</td>\n      <td>24</td>\n      <td>4.166667</td>\n    </tr>\n    <tr>\n      <th>1</th>\n      <td>11-14</td>\n      <td>15</td>\n      <td>2.604167</td>\n    </tr>\n    <tr>\n      <th>2</th>\n      <td>15-18</td>\n      <td>90</td>\n      <td>15.625000</td>\n    </tr>\n    <tr>\n      <th>3</th>\n      <td>19-22</td>\n      <td>178</td>\n      <td>30.902778</td>\n    </tr>\n    <tr>\n      <th>4</th>\n      <td>23-26</td>\n      <td>151</td>\n      <td>26.215278</td>\n    </tr>\n    <tr>\n      <th>5</th>\n      <td>27-30</td>\n      <td>48</td>\n      <td>8.333333</td>\n    </tr>\n    <tr>\n      <th>6</th>\n      <td>31-34</td>\n      <td>27</td>\n      <td>4.687500</td>\n    </tr>\n    <tr>\n      <th>7</th>\n      <td>35-38</td>\n      <td>25</td>\n      <td>4.340278</td>\n    </tr>\n    <tr>\n      <th>8</th>\n      <td>39-42</td>\n      <td>14</td>\n      <td>2.430556</td>\n    </tr>\n    <tr>\n      <th>9</th>\n      <td>43-46</td>\n      <td>4</td>\n      <td>0.694444</td>\n    </tr>\n  </tbody>\n</table>\n</div>"
     },
     "metadata": {},
     "execution_count": 225
    }
   ],
   "source": [
    "# display Age Demographics Table\n",
    "age_demo_df"
   ]
  },
  {
   "cell_type": "markdown",
   "metadata": {},
   "source": [
    "## Purchasing Analysis (Age)"
   ]
  },
  {
   "cell_type": "markdown",
   "metadata": {},
   "source": [
    "* Bin the purchase_data data frame by age\n",
    "\n",
    "\n",
    "* Run basic calculations to obtain purchase count, avg. purchase price, avg. purchase total per person etc. in the table below\n",
    "\n",
    "\n",
    "* Create a summary data frame to hold the results\n",
    "\n",
    "\n",
    "* Optional: give the displayed data cleaner formatting\n",
    "\n",
    "\n",
    "* Display the summary data frame"
   ]
  },
  {
   "cell_type": "code",
   "execution_count": 246,
   "metadata": {},
   "outputs": [],
   "source": [
    "# calculate the numbers & percentages by age group: purchase count, avg purchase price, total purchase value, avg purchase total per person by age\n",
    "###  NEED TO FIGURE OUT HOW TO SAVE THIS IN A WAY THAT OUTPUT CAN BE CALLED -OUTSIDE- THE FUNCTION SO CAN CONCATENATE ALL RESULTS\n",
    "\n",
    "def analyze_purchases(your_frame):\n",
    "    your_group = your_frame[\"Age Group\"]\n",
    "    purchase_count = len(your_frame['PurchaseID'])\n",
    "    avg_price = your_frame.Price.mean()\n",
    "    total_value = your_frame.Price.sum()\n",
    "    users_in_grp = len(your_frame['SN'].unique())\n",
    "    avg_total_grp = total_value / users_in_grp\n",
    "    your_output_df = pd.DataFrame({\n",
    "        \"Age Group\": [your_group],\n",
    "        \"Users in Group\": [users_in_grp],\n",
    "        \"Purchase Count\": [purchase_count],\n",
    "        \"Average Purchase Price\": [avg_price],\n",
    "        \"Total Purchase Value\": [total_value],\n",
    "        \"Average Purchase Total per Person by Age\": [avg_total_grp] \n",
    "        })\n",
    "    #print(purchase_count, avg_price, total_value, users_in_grp, avg_total_grp)\n",
    "    print(your_output_df)"
   ]
  },
  {
   "cell_type": "code",
   "execution_count": 248,
   "metadata": {},
   "outputs": [
    {
     "output_type": "stream",
     "name": "stdout",
     "text": [
      "                                           Age Group  Users in Group  \\\n0  248    43-46\n674    43-46\n728    43-46\n761    ...               4   \n\n   Purchase Count  Average Purchase Price  Total Purchase Value  \\\n0               4                   2.765                 11.06   \n\n   Average Purchase Total per Person by Age  \n0                                     2.765  \n"
     ]
    }
   ],
   "source": [
    "### Why does my output_df not look like a df?\n",
    "### Why am I getting multiple lines on this? \n",
    "analyze_purchases(group10_df)\n"
   ]
  },
  {
   "cell_type": "code",
   "execution_count": null,
   "metadata": {},
   "outputs": [],
   "source": [
    "# Compile all summary data"
   ]
  },
  {
   "cell_type": "code",
   "execution_count": null,
   "metadata": {},
   "outputs": [],
   "source": [
    "# display Purchasing Analysis (Age)"
   ]
  },
  {
   "cell_type": "markdown",
   "metadata": {},
   "source": [
    "## Top Spenders"
   ]
  },
  {
   "cell_type": "markdown",
   "metadata": {},
   "source": [
    "* Run basic calculations to obtain the results in the table below\n",
    "\n",
    "\n",
    "* Create a summary data frame to hold the results\n",
    "\n",
    "\n",
    "* Sort the total purchase value column in descending order\n",
    "\n",
    "\n",
    "* Optional: give the displayed data cleaner formatting\n",
    "\n",
    "\n",
    "* Display a preview of the summary data frame\n",
    "\n"
   ]
  },
  {
   "cell_type": "code",
   "execution_count": null,
   "metadata": {},
   "outputs": [],
   "source": [
    "# Find Top 5 Spenders by total purchase value"
   ]
  },
  {
   "cell_type": "code",
   "execution_count": null,
   "metadata": {},
   "outputs": [],
   "source": [
    "# Table should have: SN, purchase count, average purchase price, total purchase value"
   ]
  },
  {
   "cell_type": "markdown",
   "metadata": {},
   "source": [
    "## Most Popular Items"
   ]
  },
  {
   "cell_type": "markdown",
   "metadata": {},
   "source": [
    "* Retrieve the Item ID, Item Name, and Item Price columns\n",
    "\n",
    "\n",
    "* Group by Item ID and Item Name. Perform calculations to obtain purchase count, average item price, and total purchase value\n",
    "\n",
    "\n",
    "* Create a summary data frame to hold the results\n",
    "\n",
    "\n",
    "* Sort the purchase count column in descending order\n",
    "\n",
    "\n",
    "* Optional: give the displayed data cleaner formatting\n",
    "\n",
    "\n",
    "* Display a preview of the summary data frame\n",
    "\n"
   ]
  },
  {
   "cell_type": "code",
   "execution_count": null,
   "metadata": {},
   "outputs": [],
   "source": []
  },
  {
   "cell_type": "markdown",
   "metadata": {},
   "source": [
    "## Most Profitable Items"
   ]
  },
  {
   "cell_type": "markdown",
   "metadata": {},
   "source": [
    "* Sort the above table by total purchase value in descending order\n",
    "\n",
    "\n",
    "* Optional: give the displayed data cleaner formatting\n",
    "\n",
    "\n",
    "* Display a preview of the data frame\n",
    "\n"
   ]
  },
  {
   "cell_type": "code",
   "execution_count": null,
   "metadata": {
    "scrolled": true
   },
   "outputs": [],
   "source": []
  }
 ],
 "metadata": {
  "anaconda-cloud": {},
  "kernel_info": {
   "name": "python3"
  },
  "kernelspec": {
   "name": "python385jvsc74a57bd0797aaa517c2851f29685343c41d423cf5c6e3497bc2091e34cd352c6f05b7b6f",
   "display_name": "Python 3.8.5 64-bit ('base': conda)"
  },
  "language_info": {
   "codemirror_mode": {
    "name": "ipython",
    "version": 3
   },
   "file_extension": ".py",
   "mimetype": "text/x-python",
   "name": "python",
   "nbconvert_exporter": "python",
   "pygments_lexer": "ipython3",
   "version": "3.8.5"
  },
  "latex_envs": {
   "LaTeX_envs_menu_present": true,
   "autoclose": false,
   "autocomplete": true,
   "bibliofile": "biblio.bib",
   "cite_by": "apalike",
   "current_citInitial": 1,
   "eqLabelWithNumbers": true,
   "eqNumInitial": 1,
   "hotkeys": {
    "equation": "Ctrl-E",
    "itemize": "Ctrl-I"
   },
   "labels_anchors": false,
   "latex_user_defs": false,
   "report_style_numbering": false,
   "user_envs_cfg": false
  },
  "nteract": {
   "version": "0.2.0"
  },
  "metadata": {
   "interpreter": {
    "hash": "aee8b7b246df8f9039afb4144a1f6fd8d2ca17a180786b69acc140d282b71a49"
   }
  }
 },
 "nbformat": 4,
 "nbformat_minor": 2
}