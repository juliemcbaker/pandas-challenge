{
 "cells": [
  {
   "cell_type": "markdown",
   "metadata": {},
   "source": [
    "### Note\n",
    "* Instructions have been included for each segment. You do not have to follow them exactly, but they are included to help you think through the steps."
   ]
  },
  {
   "cell_type": "code",
   "execution_count": null,
   "metadata": {},
   "outputs": [],
   "source": [
    "# Julie Baker\n",
    "# Heroes of Pymoli\n",
    "# June 2021"
   ]
  },
  {
   "cell_type": "code",
   "execution_count": 58,
   "metadata": {},
   "outputs": [],
   "source": [
    "# Dependencies and Setup --> need to make sure it's on my 3.8.5 to get to work right now\n",
    "import pandas as pd\n",
    "import os\n",
    "import csv\n",
    "\n",
    "# File to Load (Remember to Change These)\n",
    "file_to_load = os.path.join(os.getcwd(), \"Resources\", \"purchase_data.csv\")\n",
    "\n",
    "# Read Purchasing File and store into Pandas data frame\n",
    "purchase_df = pd.read_csv(file_to_load)"
   ]
  },
  {
   "cell_type": "code",
   "execution_count": 59,
   "metadata": {},
   "outputs": [
    {
     "output_type": "execute_result",
     "data": {
      "text/plain": [
       "   Purchase ID             SN  Age Gender  Item ID  \\\n",
       "0            0        Lisim78   20   Male      108   \n",
       "1            1    Lisovynya38   40   Male      143   \n",
       "2            2     Ithergue48   24   Male       92   \n",
       "3            3  Chamassasya86   24   Male      100   \n",
       "4            4      Iskosia90   23   Male      131   \n",
       "\n",
       "                                   Item Name  Price  \n",
       "0  Extraction, Quickblade Of Trembling Hands   3.53  \n",
       "1                          Frenzied Scimitar   1.56  \n",
       "2                               Final Critic   4.88  \n",
       "3                                Blindscythe   3.27  \n",
       "4                                       Fury   1.44  "
      ],
      "text/html": "<div>\n<style scoped>\n    .dataframe tbody tr th:only-of-type {\n        vertical-align: middle;\n    }\n\n    .dataframe tbody tr th {\n        vertical-align: top;\n    }\n\n    .dataframe thead th {\n        text-align: right;\n    }\n</style>\n<table border=\"1\" class=\"dataframe\">\n  <thead>\n    <tr style=\"text-align: right;\">\n      <th></th>\n      <th>Purchase ID</th>\n      <th>SN</th>\n      <th>Age</th>\n      <th>Gender</th>\n      <th>Item ID</th>\n      <th>Item Name</th>\n      <th>Price</th>\n    </tr>\n  </thead>\n  <tbody>\n    <tr>\n      <th>0</th>\n      <td>0</td>\n      <td>Lisim78</td>\n      <td>20</td>\n      <td>Male</td>\n      <td>108</td>\n      <td>Extraction, Quickblade Of Trembling Hands</td>\n      <td>3.53</td>\n    </tr>\n    <tr>\n      <th>1</th>\n      <td>1</td>\n      <td>Lisovynya38</td>\n      <td>40</td>\n      <td>Male</td>\n      <td>143</td>\n      <td>Frenzied Scimitar</td>\n      <td>1.56</td>\n    </tr>\n    <tr>\n      <th>2</th>\n      <td>2</td>\n      <td>Ithergue48</td>\n      <td>24</td>\n      <td>Male</td>\n      <td>92</td>\n      <td>Final Critic</td>\n      <td>4.88</td>\n    </tr>\n    <tr>\n      <th>3</th>\n      <td>3</td>\n      <td>Chamassasya86</td>\n      <td>24</td>\n      <td>Male</td>\n      <td>100</td>\n      <td>Blindscythe</td>\n      <td>3.27</td>\n    </tr>\n    <tr>\n      <th>4</th>\n      <td>4</td>\n      <td>Iskosia90</td>\n      <td>23</td>\n      <td>Male</td>\n      <td>131</td>\n      <td>Fury</td>\n      <td>1.44</td>\n    </tr>\n  </tbody>\n</table>\n</div>"
     },
     "metadata": {},
     "execution_count": 59
    }
   ],
   "source": [
    "# just looking at data\n",
    "purchase_df.head(5)"
   ]
  },
  {
   "cell_type": "markdown",
   "metadata": {},
   "source": [
    "## Player Count"
   ]
  },
  {
   "cell_type": "markdown",
   "metadata": {},
   "source": [
    "* Display the total number of players\n"
   ]
  },
  {
   "cell_type": "code",
   "execution_count": 60,
   "metadata": {},
   "outputs": [
    {
     "output_type": "stream",
     "name": "stdout",
     "text": [
      "576\n"
     ]
    }
   ],
   "source": [
    "# SN unique\n",
    "user_count = len(purchase_df['SN'].unique())\n",
    "print(user_count)"
   ]
  },
  {
   "cell_type": "markdown",
   "metadata": {},
   "source": [
    "## Purchasing Analysis (Total)"
   ]
  },
  {
   "cell_type": "markdown",
   "metadata": {},
   "source": [
    "* Run basic calculations to obtain number of unique items, average price, etc.\n",
    "\n",
    "\n",
    "* Create a summary data frame to hold the results\n",
    "\n",
    "\n",
    "* Optional: give the displayed data cleaner formatting\n",
    "\n",
    "\n",
    "* Display the summary data frame\n"
   ]
  },
  {
   "cell_type": "code",
   "execution_count": 61,
   "metadata": {},
   "outputs": [
    {
     "output_type": "execute_result",
     "data": {
      "text/plain": [
       "   Unique Users  Unique Items  Average Price  Total Purchases  Total Revenue\n",
       "0           576           179       3.050987              780        2379.77"
      ],
      "text/html": "<div>\n<style scoped>\n    .dataframe tbody tr th:only-of-type {\n        vertical-align: middle;\n    }\n\n    .dataframe tbody tr th {\n        vertical-align: top;\n    }\n\n    .dataframe thead th {\n        text-align: right;\n    }\n</style>\n<table border=\"1\" class=\"dataframe\">\n  <thead>\n    <tr style=\"text-align: right;\">\n      <th></th>\n      <th>Unique Users</th>\n      <th>Unique Items</th>\n      <th>Average Price</th>\n      <th>Total Purchases</th>\n      <th>Total Revenue</th>\n    </tr>\n  </thead>\n  <tbody>\n    <tr>\n      <th>0</th>\n      <td>576</td>\n      <td>179</td>\n      <td>3.050987</td>\n      <td>780</td>\n      <td>2379.77</td>\n    </tr>\n  </tbody>\n</table>\n</div>"
     },
     "metadata": {},
     "execution_count": 61
    }
   ],
   "source": [
    "## WORK ON FORMATTING IF TIME LATER ##\n",
    "# ===================================\n",
    "# unique items\n",
    "item_count = purchase_df[\"Item ID\"].nunique()\n",
    "# average purchase price\n",
    "avg_purchase = purchase_df.Price.mean()\n",
    "#.. avg_purchase['Average Price'] = avg_purchase['Average Price'].map(\"${:,.2}\".format)\n",
    "# total number of purchases\n",
    "total_purchases = len(purchase_df['Purchase ID'])\n",
    "# total revenue\n",
    "total_rev = purchase_df.Price.sum()\n",
    "\n",
    "purchase_analysis_df = pd.DataFrame(data = [[user_count, item_count, avg_purchase, total_purchases, total_rev]], columns=[\"Unique Users\", \"Unique Items\", \"Average Price\", \"Total Purchases\", \"Total Revenue\"])\n",
    "\n",
    "### pd.options.display.float_format = '${:, .2f}'.format\n",
    "\n",
    "purchase_analysis_df"
   ]
  },
  {
   "cell_type": "code",
   "execution_count": 62,
   "metadata": {
    "scrolled": true
   },
   "outputs": [
    {
     "output_type": "execute_result",
     "data": {
      "text/plain": [
       "     PurchaseID             SN  Age  Gender  ItemID  \\\n",
       "0             0        Lisim78   20    Male     108   \n",
       "1             1    Lisovynya38   40    Male     143   \n",
       "2             2     Ithergue48   24    Male      92   \n",
       "3             3  Chamassasya86   24    Male     100   \n",
       "4             4      Iskosia90   23    Male     131   \n",
       "..          ...            ...  ...     ...     ...   \n",
       "775         775     Aethedru70   21  Female      60   \n",
       "776         776         Iral74   21    Male     164   \n",
       "777         777     Yathecal72   20    Male      67   \n",
       "778         778        Sisur91    7    Male      92   \n",
       "779         779      Ennrian78   24    Male      50   \n",
       "\n",
       "                                      ItemName  Price  \n",
       "0    Extraction, Quickblade Of Trembling Hands   3.53  \n",
       "1                            Frenzied Scimitar   1.56  \n",
       "2                                 Final Critic   4.88  \n",
       "3                                  Blindscythe   3.27  \n",
       "4                                         Fury   1.44  \n",
       "..                                         ...    ...  \n",
       "775                                       Wolf   3.54  \n",
       "776                           Exiled Doomblade   1.63  \n",
       "777      Celeste, Incarnation of the Corrupted   3.46  \n",
       "778                               Final Critic   4.19  \n",
       "779                                       Dawn   4.60  \n",
       "\n",
       "[780 rows x 7 columns]"
      ],
      "text/html": "<div>\n<style scoped>\n    .dataframe tbody tr th:only-of-type {\n        vertical-align: middle;\n    }\n\n    .dataframe tbody tr th {\n        vertical-align: top;\n    }\n\n    .dataframe thead th {\n        text-align: right;\n    }\n</style>\n<table border=\"1\" class=\"dataframe\">\n  <thead>\n    <tr style=\"text-align: right;\">\n      <th></th>\n      <th>PurchaseID</th>\n      <th>SN</th>\n      <th>Age</th>\n      <th>Gender</th>\n      <th>ItemID</th>\n      <th>ItemName</th>\n      <th>Price</th>\n    </tr>\n  </thead>\n  <tbody>\n    <tr>\n      <th>0</th>\n      <td>0</td>\n      <td>Lisim78</td>\n      <td>20</td>\n      <td>Male</td>\n      <td>108</td>\n      <td>Extraction, Quickblade Of Trembling Hands</td>\n      <td>3.53</td>\n    </tr>\n    <tr>\n      <th>1</th>\n      <td>1</td>\n      <td>Lisovynya38</td>\n      <td>40</td>\n      <td>Male</td>\n      <td>143</td>\n      <td>Frenzied Scimitar</td>\n      <td>1.56</td>\n    </tr>\n    <tr>\n      <th>2</th>\n      <td>2</td>\n      <td>Ithergue48</td>\n      <td>24</td>\n      <td>Male</td>\n      <td>92</td>\n      <td>Final Critic</td>\n      <td>4.88</td>\n    </tr>\n    <tr>\n      <th>3</th>\n      <td>3</td>\n      <td>Chamassasya86</td>\n      <td>24</td>\n      <td>Male</td>\n      <td>100</td>\n      <td>Blindscythe</td>\n      <td>3.27</td>\n    </tr>\n    <tr>\n      <th>4</th>\n      <td>4</td>\n      <td>Iskosia90</td>\n      <td>23</td>\n      <td>Male</td>\n      <td>131</td>\n      <td>Fury</td>\n      <td>1.44</td>\n    </tr>\n    <tr>\n      <th>...</th>\n      <td>...</td>\n      <td>...</td>\n      <td>...</td>\n      <td>...</td>\n      <td>...</td>\n      <td>...</td>\n      <td>...</td>\n    </tr>\n    <tr>\n      <th>775</th>\n      <td>775</td>\n      <td>Aethedru70</td>\n      <td>21</td>\n      <td>Female</td>\n      <td>60</td>\n      <td>Wolf</td>\n      <td>3.54</td>\n    </tr>\n    <tr>\n      <th>776</th>\n      <td>776</td>\n      <td>Iral74</td>\n      <td>21</td>\n      <td>Male</td>\n      <td>164</td>\n      <td>Exiled Doomblade</td>\n      <td>1.63</td>\n    </tr>\n    <tr>\n      <th>777</th>\n      <td>777</td>\n      <td>Yathecal72</td>\n      <td>20</td>\n      <td>Male</td>\n      <td>67</td>\n      <td>Celeste, Incarnation of the Corrupted</td>\n      <td>3.46</td>\n    </tr>\n    <tr>\n      <th>778</th>\n      <td>778</td>\n      <td>Sisur91</td>\n      <td>7</td>\n      <td>Male</td>\n      <td>92</td>\n      <td>Final Critic</td>\n      <td>4.19</td>\n    </tr>\n    <tr>\n      <th>779</th>\n      <td>779</td>\n      <td>Ennrian78</td>\n      <td>24</td>\n      <td>Male</td>\n      <td>50</td>\n      <td>Dawn</td>\n      <td>4.60</td>\n    </tr>\n  </tbody>\n</table>\n<p>780 rows × 7 columns</p>\n</div>"
     },
     "metadata": {},
     "execution_count": 62
    }
   ],
   "source": [
    "# Renaming columns to remove spaces \n",
    "update_purchase_df = purchase_df.rename(columns={'Purchase ID':'PurchaseID', 'Item ID' : 'ItemID', 'Item Name' : 'ItemName'})\n",
    "\n",
    "update_purchase_df"
   ]
  },
  {
   "cell_type": "markdown",
   "metadata": {},
   "source": [
    "## Gender Demographics"
   ]
  },
  {
   "cell_type": "markdown",
   "metadata": {},
   "source": [
    "* Percentage and Count of Male Players\n",
    "\n",
    "\n",
    "* Percentage and Count of Female Players\n",
    "\n",
    "\n",
    "* Percentage and Count of Other / Non-Disclosed\n",
    "\n",
    "\n"
   ]
  },
  {
   "cell_type": "code",
   "execution_count": 334,
   "metadata": {},
   "outputs": [
    {
     "output_type": "execute_result",
     "data": {
      "text/plain": [
       "Gender\n",
       "Female                    81\n",
       "Male                     484\n",
       "Other / Non-Disclosed     11\n",
       "Name: SN, dtype: int64"
      ]
     },
     "metadata": {},
     "execution_count": 334
    }
   ],
   "source": [
    "# gender count\n",
    "gender_fixed_df = update_purchase_df.groupby(['Gender'])['SN'].nunique()\n",
    "gender_fixed_df\n"
   ]
  },
  {
   "cell_type": "code",
   "execution_count": 338,
   "metadata": {},
   "outputs": [
    {
     "output_type": "execute_result",
     "data": {
      "text/plain": [
       "Gender\n",
       "Female                   113\n",
       "Male                     652\n",
       "Other / Non-Disclosed     15\n",
       "Name: SN, dtype: int64"
      ]
     },
     "metadata": {},
     "execution_count": 338
    }
   ],
   "source": [
    "#  purchase count by gender\n",
    "gender_purch_df = update_purchase_df.groupby(['Gender'])['SN'].count()\n",
    "gender_purch_df"
   ]
  },
  {
   "cell_type": "code",
   "execution_count": 339,
   "metadata": {},
   "outputs": [
    {
     "output_type": "execute_result",
     "data": {
      "text/plain": [
       "                       SN_x  SN_y\n",
       "Gender                           \n",
       "Female                   81   113\n",
       "Male                    484   652\n",
       "Other / Non-Disclosed    11    15"
      ],
      "text/html": "<div>\n<style scoped>\n    .dataframe tbody tr th:only-of-type {\n        vertical-align: middle;\n    }\n\n    .dataframe tbody tr th {\n        vertical-align: top;\n    }\n\n    .dataframe thead th {\n        text-align: right;\n    }\n</style>\n<table border=\"1\" class=\"dataframe\">\n  <thead>\n    <tr style=\"text-align: right;\">\n      <th></th>\n      <th>SN_x</th>\n      <th>SN_y</th>\n    </tr>\n    <tr>\n      <th>Gender</th>\n      <th></th>\n      <th></th>\n    </tr>\n  </thead>\n  <tbody>\n    <tr>\n      <th>Female</th>\n      <td>81</td>\n      <td>113</td>\n    </tr>\n    <tr>\n      <th>Male</th>\n      <td>484</td>\n      <td>652</td>\n    </tr>\n    <tr>\n      <th>Other / Non-Disclosed</th>\n      <td>11</td>\n      <td>15</td>\n    </tr>\n  </tbody>\n</table>\n</div>"
     },
     "metadata": {},
     "execution_count": 339
    }
   ],
   "source": [
    "gender_compiling_df = pd.merge(gender_fixed_df, gender_purch_df, on='Gender')\n",
    "gender_compiling_df"
   ]
  },
  {
   "cell_type": "code",
   "execution_count": 353,
   "metadata": {},
   "outputs": [
    {
     "output_type": "execute_result",
     "data": {
      "text/plain": [
       "                       Player Count  Purchase Count  Percentage of Players\n",
       "Gender                                                                    \n",
       "Female                           81             113              14.062500\n",
       "Male                            484             652              84.027778\n",
       "Other / Non-Disclosed            11              15               1.909722"
      ],
      "text/html": "<div>\n<style scoped>\n    .dataframe tbody tr th:only-of-type {\n        vertical-align: middle;\n    }\n\n    .dataframe tbody tr th {\n        vertical-align: top;\n    }\n\n    .dataframe thead th {\n        text-align: right;\n    }\n</style>\n<table border=\"1\" class=\"dataframe\">\n  <thead>\n    <tr style=\"text-align: right;\">\n      <th></th>\n      <th>Player Count</th>\n      <th>Purchase Count</th>\n      <th>Percentage of Players</th>\n    </tr>\n    <tr>\n      <th>Gender</th>\n      <th></th>\n      <th></th>\n      <th></th>\n    </tr>\n  </thead>\n  <tbody>\n    <tr>\n      <th>Female</th>\n      <td>81</td>\n      <td>113</td>\n      <td>14.062500</td>\n    </tr>\n    <tr>\n      <th>Male</th>\n      <td>484</td>\n      <td>652</td>\n      <td>84.027778</td>\n    </tr>\n    <tr>\n      <th>Other / Non-Disclosed</th>\n      <td>11</td>\n      <td>15</td>\n      <td>1.909722</td>\n    </tr>\n  </tbody>\n</table>\n</div>"
     },
     "metadata": {},
     "execution_count": 353
    }
   ],
   "source": [
    "gender_compiling_df = gender_compiling_df.rename(columns={'SN_x': 'Player Count', 'SN_y': 'Purchase Count'})\n",
    "gender_compiling_df"
   ]
  },
  {
   "cell_type": "code",
   "execution_count": 354,
   "metadata": {},
   "outputs": [
    {
     "output_type": "execute_result",
     "data": {
      "text/plain": [
       "Gender\n",
       "Female                   14.062500\n",
       "Male                     84.027778\n",
       "Other / Non-Disclosed     1.909722\n",
       "Name: Player Count, dtype: float64"
      ]
     },
     "metadata": {},
     "execution_count": 354
    }
   ],
   "source": [
    "gender_percent_df = gender_compiling_df['Percentage of Players'] = (gender_compiling_df['Player Count'] / user_count)*100\n",
    "gender_percent_df"
   ]
  },
  {
   "cell_type": "code",
   "execution_count": 355,
   "metadata": {},
   "outputs": [
    {
     "output_type": "execute_result",
     "data": {
      "text/plain": [
       "                       Player Count  Percent of Players\n",
       "Gender                                                 \n",
       "Female                           81           14.062500\n",
       "Male                            484           84.027778\n",
       "Other / Non-Disclosed            11            1.909722"
      ],
      "text/html": "<div>\n<style scoped>\n    .dataframe tbody tr th:only-of-type {\n        vertical-align: middle;\n    }\n\n    .dataframe tbody tr th {\n        vertical-align: top;\n    }\n\n    .dataframe thead th {\n        text-align: right;\n    }\n</style>\n<table border=\"1\" class=\"dataframe\">\n  <thead>\n    <tr style=\"text-align: right;\">\n      <th></th>\n      <th>Player Count</th>\n      <th>Percent of Players</th>\n    </tr>\n    <tr>\n      <th>Gender</th>\n      <th></th>\n      <th></th>\n    </tr>\n  </thead>\n  <tbody>\n    <tr>\n      <th>Female</th>\n      <td>81</td>\n      <td>14.062500</td>\n    </tr>\n    <tr>\n      <th>Male</th>\n      <td>484</td>\n      <td>84.027778</td>\n    </tr>\n    <tr>\n      <th>Other / Non-Disclosed</th>\n      <td>11</td>\n      <td>1.909722</td>\n    </tr>\n  </tbody>\n</table>\n</div>"
     },
     "metadata": {},
     "execution_count": 355
    }
   ],
   "source": [
    "# gender demographics table\n",
    "gender_demographics_df = pd.merge(gender_fixed_df, gender_percent_df, on='Gender')\n",
    "gender_demographics_df = gender_demographics_df.rename(columns={'SN':'Player Count', 'Player Count':'Percent of Players'})\n",
    "gender_demographics_df"
   ]
  },
  {
   "cell_type": "code",
   "execution_count": 356,
   "metadata": {},
   "outputs": [
    {
     "output_type": "execute_result",
     "data": {
      "text/plain": [
       "Gender\n",
       "Female                   3.203009\n",
       "Male                     3.017853\n",
       "Other / Non-Disclosed    3.346000\n",
       "Name: Price, dtype: float64"
      ]
     },
     "metadata": {},
     "execution_count": 356
    }
   ],
   "source": [
    "# average purchase price\n",
    "gender_price_df = update_purchase_df.groupby(['Gender'])['Price'].mean()\n",
    "gender_price_df"
   ]
  },
  {
   "cell_type": "code",
   "execution_count": 357,
   "metadata": {},
   "outputs": [
    {
     "output_type": "execute_result",
     "data": {
      "text/plain": [
       "Gender\n",
       "Female                    361.94\n",
       "Male                     1967.64\n",
       "Other / Non-Disclosed      50.19\n",
       "Name: Price, dtype: float64"
      ]
     },
     "metadata": {},
     "execution_count": 357
    }
   ],
   "source": [
    "# total purchase value\n",
    "gender_value_df = update_purchase_df.groupby(['Gender'])['Price'].sum()\n",
    "gender_value_df"
   ]
  },
  {
   "cell_type": "code",
   "execution_count": 362,
   "metadata": {},
   "outputs": [
    {
     "output_type": "execute_result",
     "data": {
      "text/plain": [
       "                       Player Count  Purchase Count  Percentage of Players  \\\n",
       "Gender                                                                       \n",
       "Female                           81             113              14.062500   \n",
       "Male                            484             652              84.027778   \n",
       "Other / Non-Disclosed            11              15               1.909722   \n",
       "\n",
       "                          Price  \n",
       "Gender                           \n",
       "Female                 3.203009  \n",
       "Male                   3.017853  \n",
       "Other / Non-Disclosed  3.346000  "
      ],
      "text/html": "<div>\n<style scoped>\n    .dataframe tbody tr th:only-of-type {\n        vertical-align: middle;\n    }\n\n    .dataframe tbody tr th {\n        vertical-align: top;\n    }\n\n    .dataframe thead th {\n        text-align: right;\n    }\n</style>\n<table border=\"1\" class=\"dataframe\">\n  <thead>\n    <tr style=\"text-align: right;\">\n      <th></th>\n      <th>Player Count</th>\n      <th>Purchase Count</th>\n      <th>Percentage of Players</th>\n      <th>Price</th>\n    </tr>\n    <tr>\n      <th>Gender</th>\n      <th></th>\n      <th></th>\n      <th></th>\n      <th></th>\n    </tr>\n  </thead>\n  <tbody>\n    <tr>\n      <th>Female</th>\n      <td>81</td>\n      <td>113</td>\n      <td>14.062500</td>\n      <td>3.203009</td>\n    </tr>\n    <tr>\n      <th>Male</th>\n      <td>484</td>\n      <td>652</td>\n      <td>84.027778</td>\n      <td>3.017853</td>\n    </tr>\n    <tr>\n      <th>Other / Non-Disclosed</th>\n      <td>11</td>\n      <td>15</td>\n      <td>1.909722</td>\n      <td>3.346000</td>\n    </tr>\n  </tbody>\n</table>\n</div>"
     },
     "metadata": {},
     "execution_count": 362
    }
   ],
   "source": [
    "gender_compile_df2 = pd.merge(gender_compiling_df, gender_price_df, on='Gender')\n",
    "gender_compile_df2"
   ]
  },
  {
   "cell_type": "code",
   "execution_count": 363,
   "metadata": {},
   "outputs": [
    {
     "output_type": "execute_result",
     "data": {
      "text/plain": [
       "                       Player Count  Purchase Count  Percentage of Players  \\\n",
       "Gender                                                                       \n",
       "Female                           81             113              14.062500   \n",
       "Male                            484             652              84.027778   \n",
       "Other / Non-Disclosed            11              15               1.909722   \n",
       "\n",
       "                        Price_x  Price_y  \n",
       "Gender                                    \n",
       "Female                 3.203009   361.94  \n",
       "Male                   3.017853  1967.64  \n",
       "Other / Non-Disclosed  3.346000    50.19  "
      ],
      "text/html": "<div>\n<style scoped>\n    .dataframe tbody tr th:only-of-type {\n        vertical-align: middle;\n    }\n\n    .dataframe tbody tr th {\n        vertical-align: top;\n    }\n\n    .dataframe thead th {\n        text-align: right;\n    }\n</style>\n<table border=\"1\" class=\"dataframe\">\n  <thead>\n    <tr style=\"text-align: right;\">\n      <th></th>\n      <th>Player Count</th>\n      <th>Purchase Count</th>\n      <th>Percentage of Players</th>\n      <th>Price_x</th>\n      <th>Price_y</th>\n    </tr>\n    <tr>\n      <th>Gender</th>\n      <th></th>\n      <th></th>\n      <th></th>\n      <th></th>\n      <th></th>\n    </tr>\n  </thead>\n  <tbody>\n    <tr>\n      <th>Female</th>\n      <td>81</td>\n      <td>113</td>\n      <td>14.062500</td>\n      <td>3.203009</td>\n      <td>361.94</td>\n    </tr>\n    <tr>\n      <th>Male</th>\n      <td>484</td>\n      <td>652</td>\n      <td>84.027778</td>\n      <td>3.017853</td>\n      <td>1967.64</td>\n    </tr>\n    <tr>\n      <th>Other / Non-Disclosed</th>\n      <td>11</td>\n      <td>15</td>\n      <td>1.909722</td>\n      <td>3.346000</td>\n      <td>50.19</td>\n    </tr>\n  </tbody>\n</table>\n</div>"
     },
     "metadata": {},
     "execution_count": 363
    }
   ],
   "source": [
    "gender_compile_df3 = pd.merge(gender_compile_df2, gender_value_df, on='Gender')\n",
    "gender_compile_df3"
   ]
  },
  {
   "cell_type": "code",
   "execution_count": 365,
   "metadata": {},
   "outputs": [
    {
     "output_type": "execute_result",
     "data": {
      "text/plain": [
       "                       Player Count  Purchase Count  Percentage of Players  \\\n",
       "Gender                                                                       \n",
       "Female                           81             113              14.062500   \n",
       "Male                            484             652              84.027778   \n",
       "Other / Non-Disclosed            11              15               1.909722   \n",
       "\n",
       "                       Average Purchase Price  Total Purchase Value  \n",
       "Gender                                                               \n",
       "Female                               3.203009                361.94  \n",
       "Male                                 3.017853               1967.64  \n",
       "Other / Non-Disclosed                3.346000                 50.19  "
      ],
      "text/html": "<div>\n<style scoped>\n    .dataframe tbody tr th:only-of-type {\n        vertical-align: middle;\n    }\n\n    .dataframe tbody tr th {\n        vertical-align: top;\n    }\n\n    .dataframe thead th {\n        text-align: right;\n    }\n</style>\n<table border=\"1\" class=\"dataframe\">\n  <thead>\n    <tr style=\"text-align: right;\">\n      <th></th>\n      <th>Player Count</th>\n      <th>Purchase Count</th>\n      <th>Percentage of Players</th>\n      <th>Average Purchase Price</th>\n      <th>Total Purchase Value</th>\n    </tr>\n    <tr>\n      <th>Gender</th>\n      <th></th>\n      <th></th>\n      <th></th>\n      <th></th>\n      <th></th>\n    </tr>\n  </thead>\n  <tbody>\n    <tr>\n      <th>Female</th>\n      <td>81</td>\n      <td>113</td>\n      <td>14.062500</td>\n      <td>3.203009</td>\n      <td>361.94</td>\n    </tr>\n    <tr>\n      <th>Male</th>\n      <td>484</td>\n      <td>652</td>\n      <td>84.027778</td>\n      <td>3.017853</td>\n      <td>1967.64</td>\n    </tr>\n    <tr>\n      <th>Other / Non-Disclosed</th>\n      <td>11</td>\n      <td>15</td>\n      <td>1.909722</td>\n      <td>3.346000</td>\n      <td>50.19</td>\n    </tr>\n  </tbody>\n</table>\n</div>"
     },
     "metadata": {},
     "execution_count": 365
    }
   ],
   "source": [
    "# rename columns\n",
    "gender_compile_df3 = gender_compile_df3.rename(columns={'Price_x':'Average Purchase Price','Price_y':'Total Purchase Value'})\n",
    "gender_compile_df3"
   ]
  },
  {
   "cell_type": "code",
   "execution_count": 367,
   "metadata": {},
   "outputs": [
    {
     "output_type": "execute_result",
     "data": {
      "text/plain": [
       "                       Player Count  Purchase Count  Percentage of Players  \\\n",
       "Gender                                                                       \n",
       "Female                           81             113              14.062500   \n",
       "Male                            484             652              84.027778   \n",
       "Other / Non-Disclosed            11              15               1.909722   \n",
       "\n",
       "                       Average Purchase Price  Total Purchase Value  \\\n",
       "Gender                                                                \n",
       "Female                               3.203009                361.94   \n",
       "Male                                 3.017853               1967.64   \n",
       "Other / Non-Disclosed                3.346000                 50.19   \n",
       "\n",
       "                       Average Purchase Total per Person  \n",
       "Gender                                                    \n",
       "Female                                          4.468395  \n",
       "Male                                            4.065372  \n",
       "Other / Non-Disclosed                           4.562727  "
      ],
      "text/html": "<div>\n<style scoped>\n    .dataframe tbody tr th:only-of-type {\n        vertical-align: middle;\n    }\n\n    .dataframe tbody tr th {\n        vertical-align: top;\n    }\n\n    .dataframe thead th {\n        text-align: right;\n    }\n</style>\n<table border=\"1\" class=\"dataframe\">\n  <thead>\n    <tr style=\"text-align: right;\">\n      <th></th>\n      <th>Player Count</th>\n      <th>Purchase Count</th>\n      <th>Percentage of Players</th>\n      <th>Average Purchase Price</th>\n      <th>Total Purchase Value</th>\n      <th>Average Purchase Total per Person</th>\n    </tr>\n    <tr>\n      <th>Gender</th>\n      <th></th>\n      <th></th>\n      <th></th>\n      <th></th>\n      <th></th>\n      <th></th>\n    </tr>\n  </thead>\n  <tbody>\n    <tr>\n      <th>Female</th>\n      <td>81</td>\n      <td>113</td>\n      <td>14.062500</td>\n      <td>3.203009</td>\n      <td>361.94</td>\n      <td>4.468395</td>\n    </tr>\n    <tr>\n      <th>Male</th>\n      <td>484</td>\n      <td>652</td>\n      <td>84.027778</td>\n      <td>3.017853</td>\n      <td>1967.64</td>\n      <td>4.065372</td>\n    </tr>\n    <tr>\n      <th>Other / Non-Disclosed</th>\n      <td>11</td>\n      <td>15</td>\n      <td>1.909722</td>\n      <td>3.346000</td>\n      <td>50.19</td>\n      <td>4.562727</td>\n    </tr>\n  </tbody>\n</table>\n</div>"
     },
     "metadata": {},
     "execution_count": 367
    }
   ],
   "source": [
    "# average purchase by person\n",
    "gender_compile_df3['Average Purchase Total per Person'] = (gender_compile_df3['Total Purchase Value'] /gender_compile_df3['Player Count'])\n",
    "gender_compile_df3"
   ]
  },
  {
   "cell_type": "code",
   "execution_count": 369,
   "metadata": {},
   "outputs": [
    {
     "output_type": "execute_result",
     "data": {
      "text/plain": [
       "                       Purchase Count  Average Purchase Price  \\\n",
       "Gender                                                          \n",
       "Female                            113                3.203009   \n",
       "Male                              652                3.017853   \n",
       "Other / Non-Disclosed              15                3.346000   \n",
       "\n",
       "                       Total Purchase Value  Average Purchase Total per Person  \n",
       "Gender                                                                          \n",
       "Female                               361.94                           4.468395  \n",
       "Male                                1967.64                           4.065372  \n",
       "Other / Non-Disclosed                 50.19                           4.562727  "
      ],
      "text/html": "<div>\n<style scoped>\n    .dataframe tbody tr th:only-of-type {\n        vertical-align: middle;\n    }\n\n    .dataframe tbody tr th {\n        vertical-align: top;\n    }\n\n    .dataframe thead th {\n        text-align: right;\n    }\n</style>\n<table border=\"1\" class=\"dataframe\">\n  <thead>\n    <tr style=\"text-align: right;\">\n      <th></th>\n      <th>Purchase Count</th>\n      <th>Average Purchase Price</th>\n      <th>Total Purchase Value</th>\n      <th>Average Purchase Total per Person</th>\n    </tr>\n    <tr>\n      <th>Gender</th>\n      <th></th>\n      <th></th>\n      <th></th>\n      <th></th>\n    </tr>\n  </thead>\n  <tbody>\n    <tr>\n      <th>Female</th>\n      <td>113</td>\n      <td>3.203009</td>\n      <td>361.94</td>\n      <td>4.468395</td>\n    </tr>\n    <tr>\n      <th>Male</th>\n      <td>652</td>\n      <td>3.017853</td>\n      <td>1967.64</td>\n      <td>4.065372</td>\n    </tr>\n    <tr>\n      <th>Other / Non-Disclosed</th>\n      <td>15</td>\n      <td>3.346000</td>\n      <td>50.19</td>\n      <td>4.562727</td>\n    </tr>\n  </tbody>\n</table>\n</div>"
     },
     "metadata": {},
     "execution_count": 369
    }
   ],
   "source": [
    "# ** PURCHASING ANALYSIS (GENDER) **\n",
    "gender_results_df = gender_compile_df3.drop(columns=['Player Count','Percentage of Players'])\n",
    "gender_results_df"
   ]
  },
  {
   "cell_type": "code",
   "execution_count": 64,
   "metadata": {},
   "outputs": [],
   "source": [
    "# Creating dataframes for each gender group because using the original dataframe doesn't take duplicate users into account\n",
    "\n",
    "# Female users\n",
    "female_users_df = update_purchase_df.loc[update_purchase_df[\"Gender\"] == \"Female\", :]\n",
    "# Male users\n",
    "male_users_df = update_purchase_df.loc[update_purchase_df[\"Gender\"] == \"Male\", :]\n",
    "# Other users\n",
    "other_users_df = update_purchase_df.loc[update_purchase_df[\"Gender\"] == \"Other / Non-Disclosed\", :]"
   ]
  },
  {
   "cell_type": "code",
   "execution_count": 65,
   "metadata": {},
   "outputs": [],
   "source": [
    "# female count\n",
    "female_count = len(female_users_df.SN.unique())\n",
    "# female percentage\n",
    "female_percent = (female_count / user_count)*100"
   ]
  },
  {
   "cell_type": "code",
   "execution_count": 66,
   "metadata": {},
   "outputs": [],
   "source": [
    "# male count & percentage\n",
    "male_count = len(male_users_df.SN.unique())\n",
    "male_percent = male_count / user_count*100"
   ]
  },
  {
   "cell_type": "code",
   "execution_count": 67,
   "metadata": {},
   "outputs": [],
   "source": [
    "# other count & percentage\n",
    "other_count = len(other_users_df.SN.unique())\n",
    "other_percent = (other_count / user_count)*100"
   ]
  },
  {
   "cell_type": "code",
   "execution_count": 68,
   "metadata": {},
   "outputs": [
    {
     "output_type": "execute_result",
     "data": {
      "text/plain": [
       "                  Gender  Player Count  Percent of Players\n",
       "0                 Female            81           14.062500\n",
       "1                   Male           484           84.027778\n",
       "2  Other / Not Disclosed            11            1.909722\n",
       "3          Total Players           576          100.000000"
      ],
      "text/html": "<div>\n<style scoped>\n    .dataframe tbody tr th:only-of-type {\n        vertical-align: middle;\n    }\n\n    .dataframe tbody tr th {\n        vertical-align: top;\n    }\n\n    .dataframe thead th {\n        text-align: right;\n    }\n</style>\n<table border=\"1\" class=\"dataframe\">\n  <thead>\n    <tr style=\"text-align: right;\">\n      <th></th>\n      <th>Gender</th>\n      <th>Player Count</th>\n      <th>Percent of Players</th>\n    </tr>\n  </thead>\n  <tbody>\n    <tr>\n      <th>0</th>\n      <td>Female</td>\n      <td>81</td>\n      <td>14.062500</td>\n    </tr>\n    <tr>\n      <th>1</th>\n      <td>Male</td>\n      <td>484</td>\n      <td>84.027778</td>\n    </tr>\n    <tr>\n      <th>2</th>\n      <td>Other / Not Disclosed</td>\n      <td>11</td>\n      <td>1.909722</td>\n    </tr>\n    <tr>\n      <th>3</th>\n      <td>Total Players</td>\n      <td>576</td>\n      <td>100.000000</td>\n    </tr>\n  </tbody>\n</table>\n</div>"
     },
     "metadata": {},
     "execution_count": 68
    }
   ],
   "source": [
    "# Gender Demographics Output\n",
    "\n",
    "gender_demo_df = pd.DataFrame({\n",
    "    \"Gender\": [\"Female\", \"Male\", \"Other / Not Disclosed\", \"Total Players\"],\n",
    "    \"Player Count\": [female_count, male_count, other_count, user_count],\n",
    "    \"Percent of Players\": [female_percent, male_percent, other_percent, 100]\n",
    "})\n",
    "\n",
    "# gender_demo_df[\"Percent of Players\"] = gender_demo_df[\"Percent of Players\"].map('{:.2%f}')\n",
    "# pd.options.display.float_format = '{:.2%}'.format FIGURE THIS OUT LATER, WAS MESSING UP STUFF LATER\n",
    "\n",
    "#purchase_analysis_df = pd.DataFrame(data = [[user_count, item_count, avg_purchase, total_purchases, total_rev]], columns=[\"Unique Users\", \"Unique Items\", \"Average Price\", \"Total Purchases\", \"Total Revenue\"])\n",
    "gender_demo_df"
   ]
  },
  {
   "cell_type": "markdown",
   "metadata": {},
   "source": [
    "\n",
    "## Purchasing Analysis (Gender)"
   ]
  },
  {
   "cell_type": "markdown",
   "metadata": {},
   "source": [
    "* Run basic calculations to obtain purchase count, avg. purchase price, avg. purchase total per person etc. by gender\n",
    "\n",
    "\n",
    "\n",
    "\n",
    "* Create a summary data frame to hold the results\n",
    "\n",
    "\n",
    "* Optional: give the displayed data cleaner formatting\n",
    "\n",
    "\n",
    "* Display the summary data frame"
   ]
  },
  {
   "cell_type": "code",
   "execution_count": 69,
   "metadata": {},
   "outputs": [],
   "source": [
    "# purchase count by gender\n",
    "female_purchases = female_users_df[\"PurchaseID\"].count()\n",
    "male_purchases = male_users_df[\"PurchaseID\"].count()\n",
    "other_purchases = other_users_df[\"PurchaseID\"].count()"
   ]
  },
  {
   "cell_type": "code",
   "execution_count": 70,
   "metadata": {},
   "outputs": [],
   "source": [
    "# average purchase price by gender\n",
    "avg_price_female = female_users_df.Price.mean()\n",
    "avg_price_male = male_users_df.Price.mean()\n",
    "avg_price_other = other_users_df.Price.mean()"
   ]
  },
  {
   "cell_type": "code",
   "execution_count": 71,
   "metadata": {},
   "outputs": [],
   "source": [
    "# total purchase value by gender\n",
    "total_rev = purchase_df.Price.sum()\n",
    "total_purchase_female = female_users_df.Price.sum()\n",
    "total_purchase_male = male_users_df.Price.sum()\n",
    "total_purchase_other = other_users_df.Price.sum()"
   ]
  },
  {
   "cell_type": "code",
   "execution_count": 72,
   "metadata": {},
   "outputs": [],
   "source": [
    "# average purchase total per PERSON per GENDER\n",
    "avg_purchase = purchase_df.Price.mean()\n",
    "avg_total_females = total_purchase_female/female_count\n",
    "avg_total_males = total_purchase_male/male_count\n",
    "avg_total_other = total_purchase_other/other_count\n"
   ]
  },
  {
   "cell_type": "code",
   "execution_count": 73,
   "metadata": {},
   "outputs": [
    {
     "output_type": "execute_result",
     "data": {
      "text/plain": [
       "                  Gender  Player Count  Percent of Players  Purchase Count  \\\n",
       "0                 Female            81           14.062500             113   \n",
       "1                   Male           484           84.027778             652   \n",
       "2  Other / Not Disclosed            11            1.909722              15   \n",
       "\n",
       "   Average Purchase Price  Total Purchase Value  \\\n",
       "0                3.203009                361.94   \n",
       "1                3.017853               1967.64   \n",
       "2                3.346000                 50.19   \n",
       "\n",
       "   Average Purchase Total per Person by Gender  \n",
       "0                                     4.468395  \n",
       "1                                     4.065372  \n",
       "2                                     4.562727  "
      ],
      "text/html": "<div>\n<style scoped>\n    .dataframe tbody tr th:only-of-type {\n        vertical-align: middle;\n    }\n\n    .dataframe tbody tr th {\n        vertical-align: top;\n    }\n\n    .dataframe thead th {\n        text-align: right;\n    }\n</style>\n<table border=\"1\" class=\"dataframe\">\n  <thead>\n    <tr style=\"text-align: right;\">\n      <th></th>\n      <th>Gender</th>\n      <th>Player Count</th>\n      <th>Percent of Players</th>\n      <th>Purchase Count</th>\n      <th>Average Purchase Price</th>\n      <th>Total Purchase Value</th>\n      <th>Average Purchase Total per Person by Gender</th>\n    </tr>\n  </thead>\n  <tbody>\n    <tr>\n      <th>0</th>\n      <td>Female</td>\n      <td>81</td>\n      <td>14.062500</td>\n      <td>113</td>\n      <td>3.203009</td>\n      <td>361.94</td>\n      <td>4.468395</td>\n    </tr>\n    <tr>\n      <th>1</th>\n      <td>Male</td>\n      <td>484</td>\n      <td>84.027778</td>\n      <td>652</td>\n      <td>3.017853</td>\n      <td>1967.64</td>\n      <td>4.065372</td>\n    </tr>\n    <tr>\n      <th>2</th>\n      <td>Other / Not Disclosed</td>\n      <td>11</td>\n      <td>1.909722</td>\n      <td>15</td>\n      <td>3.346000</td>\n      <td>50.19</td>\n      <td>4.562727</td>\n    </tr>\n  </tbody>\n</table>\n</div>"
     },
     "metadata": {},
     "execution_count": 73
    }
   ],
   "source": [
    "## PURCHASING ANALYSIS (Gender)\n",
    "\n",
    "gender_purchasing_df = pd.DataFrame({\n",
    "    \"Gender\": [\"Female\", \"Male\", \"Other / Not Disclosed\"],\n",
    "    \"Player Count\": [female_count, male_count, other_count],\n",
    "    \"Percent of Players\": [female_percent, male_percent, other_percent],\n",
    "    \"Purchase Count\": [female_purchases, male_purchases, other_purchases],\n",
    "    \"Average Purchase Price\": [avg_price_female, avg_price_male, avg_price_other],\n",
    "    \"Total Purchase Value\": [total_purchase_female, total_purchase_male, total_purchase_other],\n",
    "    \"Average Purchase Total per Person by Gender\": [avg_total_females, avg_total_males, avg_total_other]\n",
    "})\n",
    "gender_purchasing_df"
   ]
  },
  {
   "cell_type": "markdown",
   "metadata": {},
   "source": [
    "## Age Demographics"
   ]
  },
  {
   "cell_type": "markdown",
   "metadata": {},
   "source": [
    "* Establish bins for ages\n",
    "\n",
    "\n",
    "* Categorize the existing players using the age bins. Hint: use pd.cut()\n",
    "\n",
    "\n",
    "* Calculate the numbers and percentages by age group\n",
    "\n",
    "\n",
    "* Create a summary data frame to hold the results\n",
    "\n",
    "\n",
    "* Optional: round the percentage column to two decimal points\n",
    "\n",
    "\n",
    "* Display Age Demographics Table\n"
   ]
  },
  {
   "cell_type": "code",
   "execution_count": 259,
   "metadata": {},
   "outputs": [],
   "source": [
    "# esatblish bins for ages\n",
    "bins = [0, 9, 14, 19, 24, 29, 34, 39, 44, 49]\n",
    "age_labels = [\"under 10\", \"10-14\", \"15-19\", \"20-24\", \"25-29\", \"30-34\", \"35-39\", \"40-44\", \"45-49\"]"
   ]
  },
  {
   "cell_type": "code",
   "execution_count": 265,
   "metadata": {},
   "outputs": [
    {
     "output_type": "execute_result",
     "data": {
      "text/plain": [
       "     PurchaseID             SN  Age  Gender  ItemID  \\\n",
       "0             0        Lisim78   20    Male     108   \n",
       "1             1    Lisovynya38   40    Male     143   \n",
       "2             2     Ithergue48   24    Male      92   \n",
       "3             3  Chamassasya86   24    Male     100   \n",
       "4             4      Iskosia90   23    Male     131   \n",
       "..          ...            ...  ...     ...     ...   \n",
       "775         775     Aethedru70   21  Female      60   \n",
       "776         776         Iral74   21    Male     164   \n",
       "777         777     Yathecal72   20    Male      67   \n",
       "778         778        Sisur91    7    Male      92   \n",
       "779         779      Ennrian78   24    Male      50   \n",
       "\n",
       "                                      ItemName  Price Age Group  \n",
       "0    Extraction, Quickblade Of Trembling Hands   3.53     20-24  \n",
       "1                            Frenzied Scimitar   1.56     40-44  \n",
       "2                                 Final Critic   4.88     20-24  \n",
       "3                                  Blindscythe   3.27     20-24  \n",
       "4                                         Fury   1.44     20-24  \n",
       "..                                         ...    ...       ...  \n",
       "775                                       Wolf   3.54     20-24  \n",
       "776                           Exiled Doomblade   1.63     20-24  \n",
       "777      Celeste, Incarnation of the Corrupted   3.46     20-24  \n",
       "778                               Final Critic   4.19  under 10  \n",
       "779                                       Dawn   4.60     20-24  \n",
       "\n",
       "[780 rows x 8 columns]"
      ],
      "text/html": "<div>\n<style scoped>\n    .dataframe tbody tr th:only-of-type {\n        vertical-align: middle;\n    }\n\n    .dataframe tbody tr th {\n        vertical-align: top;\n    }\n\n    .dataframe thead th {\n        text-align: right;\n    }\n</style>\n<table border=\"1\" class=\"dataframe\">\n  <thead>\n    <tr style=\"text-align: right;\">\n      <th></th>\n      <th>PurchaseID</th>\n      <th>SN</th>\n      <th>Age</th>\n      <th>Gender</th>\n      <th>ItemID</th>\n      <th>ItemName</th>\n      <th>Price</th>\n      <th>Age Group</th>\n    </tr>\n  </thead>\n  <tbody>\n    <tr>\n      <th>0</th>\n      <td>0</td>\n      <td>Lisim78</td>\n      <td>20</td>\n      <td>Male</td>\n      <td>108</td>\n      <td>Extraction, Quickblade Of Trembling Hands</td>\n      <td>3.53</td>\n      <td>20-24</td>\n    </tr>\n    <tr>\n      <th>1</th>\n      <td>1</td>\n      <td>Lisovynya38</td>\n      <td>40</td>\n      <td>Male</td>\n      <td>143</td>\n      <td>Frenzied Scimitar</td>\n      <td>1.56</td>\n      <td>40-44</td>\n    </tr>\n    <tr>\n      <th>2</th>\n      <td>2</td>\n      <td>Ithergue48</td>\n      <td>24</td>\n      <td>Male</td>\n      <td>92</td>\n      <td>Final Critic</td>\n      <td>4.88</td>\n      <td>20-24</td>\n    </tr>\n    <tr>\n      <th>3</th>\n      <td>3</td>\n      <td>Chamassasya86</td>\n      <td>24</td>\n      <td>Male</td>\n      <td>100</td>\n      <td>Blindscythe</td>\n      <td>3.27</td>\n      <td>20-24</td>\n    </tr>\n    <tr>\n      <th>4</th>\n      <td>4</td>\n      <td>Iskosia90</td>\n      <td>23</td>\n      <td>Male</td>\n      <td>131</td>\n      <td>Fury</td>\n      <td>1.44</td>\n      <td>20-24</td>\n    </tr>\n    <tr>\n      <th>...</th>\n      <td>...</td>\n      <td>...</td>\n      <td>...</td>\n      <td>...</td>\n      <td>...</td>\n      <td>...</td>\n      <td>...</td>\n      <td>...</td>\n    </tr>\n    <tr>\n      <th>775</th>\n      <td>775</td>\n      <td>Aethedru70</td>\n      <td>21</td>\n      <td>Female</td>\n      <td>60</td>\n      <td>Wolf</td>\n      <td>3.54</td>\n      <td>20-24</td>\n    </tr>\n    <tr>\n      <th>776</th>\n      <td>776</td>\n      <td>Iral74</td>\n      <td>21</td>\n      <td>Male</td>\n      <td>164</td>\n      <td>Exiled Doomblade</td>\n      <td>1.63</td>\n      <td>20-24</td>\n    </tr>\n    <tr>\n      <th>777</th>\n      <td>777</td>\n      <td>Yathecal72</td>\n      <td>20</td>\n      <td>Male</td>\n      <td>67</td>\n      <td>Celeste, Incarnation of the Corrupted</td>\n      <td>3.46</td>\n      <td>20-24</td>\n    </tr>\n    <tr>\n      <th>778</th>\n      <td>778</td>\n      <td>Sisur91</td>\n      <td>7</td>\n      <td>Male</td>\n      <td>92</td>\n      <td>Final Critic</td>\n      <td>4.19</td>\n      <td>under 10</td>\n    </tr>\n    <tr>\n      <th>779</th>\n      <td>779</td>\n      <td>Ennrian78</td>\n      <td>24</td>\n      <td>Male</td>\n      <td>50</td>\n      <td>Dawn</td>\n      <td>4.60</td>\n      <td>20-24</td>\n    </tr>\n  </tbody>\n</table>\n<p>780 rows × 8 columns</p>\n</div>"
     },
     "metadata": {},
     "execution_count": 265
    }
   ],
   "source": [
    "# use pd.cut() to categorize players using age bins\n",
    "age_df = update_purchase_df\n",
    "age_df[\"Age Group\"] = pd.cut(age_df[\"Age\"], bins, labels=age_labels, include_lowest=False)\n",
    "age_df"
   ]
  },
  {
   "cell_type": "code",
   "execution_count": 299,
   "metadata": {},
   "outputs": [],
   "source": [
    "# age demographics; counts members for each age group & drops duplicates based on 'SN'\n",
    "age_counts_df2 = age_df.groupby('Age Group')['SN'].nunique()"
   ]
  },
  {
   "cell_type": "code",
   "execution_count": 301,
   "metadata": {},
   "outputs": [],
   "source": [
    "# AGE ANALYSIS NEEDS:  group count, percent of players\n",
    "# I couldn't get it to add my calculated column to the df above, so I created this one & merged them. AND THEN...it was totally fine with me adding a calculated column.\n",
    "age_counts_df3 = age_df.groupby('Age Group')['SN'].nunique()\n",
    "age_demos_df = pd.merge(age_counts_df2, age_counts_df3, on='Age Group')"
   ]
  },
  {
   "cell_type": "code",
   "execution_count": 302,
   "metadata": {},
   "outputs": [],
   "source": [
    "# calculate percentage of players by age\n",
    "age_demos_df['Percentage of Players'] = (age_demos_df['SN_x'] / user_count)*100"
   ]
  },
  {
   "cell_type": "code",
   "execution_count": 315,
   "metadata": {},
   "outputs": [
    {
     "output_type": "execute_result",
     "data": {
      "text/plain": [
       "           Player Count  Percentage of Players\n",
       "Age Group                                     \n",
       "under 10             17               2.951389\n",
       "10-14                22               3.819444\n",
       "15-19               107              18.576389\n",
       "20-24               258              44.791667\n",
       "25-29                77              13.368056\n",
       "30-34                52               9.027778\n",
       "35-39                31               5.381944\n",
       "40-44                11               1.909722\n",
       "45-49                 1               0.173611"
      ],
      "text/html": "<div>\n<style scoped>\n    .dataframe tbody tr th:only-of-type {\n        vertical-align: middle;\n    }\n\n    .dataframe tbody tr th {\n        vertical-align: top;\n    }\n\n    .dataframe thead th {\n        text-align: right;\n    }\n</style>\n<table border=\"1\" class=\"dataframe\">\n  <thead>\n    <tr style=\"text-align: right;\">\n      <th></th>\n      <th>Player Count</th>\n      <th>Percentage of Players</th>\n    </tr>\n    <tr>\n      <th>Age Group</th>\n      <th></th>\n      <th></th>\n    </tr>\n  </thead>\n  <tbody>\n    <tr>\n      <th>under 10</th>\n      <td>17</td>\n      <td>2.951389</td>\n    </tr>\n    <tr>\n      <th>10-14</th>\n      <td>22</td>\n      <td>3.819444</td>\n    </tr>\n    <tr>\n      <th>15-19</th>\n      <td>107</td>\n      <td>18.576389</td>\n    </tr>\n    <tr>\n      <th>20-24</th>\n      <td>258</td>\n      <td>44.791667</td>\n    </tr>\n    <tr>\n      <th>25-29</th>\n      <td>77</td>\n      <td>13.368056</td>\n    </tr>\n    <tr>\n      <th>30-34</th>\n      <td>52</td>\n      <td>9.027778</td>\n    </tr>\n    <tr>\n      <th>35-39</th>\n      <td>31</td>\n      <td>5.381944</td>\n    </tr>\n    <tr>\n      <th>40-44</th>\n      <td>11</td>\n      <td>1.909722</td>\n    </tr>\n    <tr>\n      <th>45-49</th>\n      <td>1</td>\n      <td>0.173611</td>\n    </tr>\n  </tbody>\n</table>\n</div>"
     },
     "metadata": {},
     "execution_count": 315
    }
   ],
   "source": [
    "# renaming the columns I want to keep then dropping the column I don't need\n",
    "age_demos_df = age_demos_df.rename(columns={'SN_x': 'Player Count', 'Percentage of Players': 'Percentage of Players'})\n",
    "age_demos_df = age_demos_df.drop(columns='SN_y')\n",
    "age_demos_df\n"
   ]
  },
  {
   "cell_type": "code",
   "execution_count": null,
   "metadata": {},
   "outputs": [],
   "source": [
    "## Building purchase analysis next"
   ]
  },
  {
   "cell_type": "code",
   "execution_count": 320,
   "metadata": {},
   "outputs": [],
   "source": [
    "# purchase count\n",
    "purchase_byAge_df = age_df.groupby('Age Group')['SN'].count()"
   ]
  },
  {
   "cell_type": "code",
   "execution_count": 321,
   "metadata": {},
   "outputs": [],
   "source": [
    "# avg purchase price\n",
    "avg_byAge_df = age_df.groupby('Age Group')['Price'].mean()"
   ]
  },
  {
   "cell_type": "code",
   "execution_count": 322,
   "metadata": {},
   "outputs": [],
   "source": [
    "# total purchase value\n",
    "total_byAge_df = age_df.groupby('Age Group')['Price'].sum()"
   ]
  },
  {
   "cell_type": "code",
   "execution_count": 314,
   "metadata": {},
   "outputs": [
    {
     "output_type": "execute_result",
     "data": {
      "text/plain": [
       "           Purchase Count  Average Purchase  Total Purchase Value\n",
       "Age Group                                                        \n",
       "under 10               23          3.353478                 77.13\n",
       "10-14                  28          2.956429                 82.78\n",
       "15-19                 136          3.035956                412.89\n",
       "20-24                 365          3.052219               1114.06\n",
       "25-29                 101          2.900990                293.00\n",
       "30-34                  73          2.931507                214.00\n",
       "35-39                  41          3.601707                147.67\n",
       "40-44                  12          3.045000                 36.54\n",
       "45-49                   1          1.700000                  1.70"
      ],
      "text/html": "<div>\n<style scoped>\n    .dataframe tbody tr th:only-of-type {\n        vertical-align: middle;\n    }\n\n    .dataframe tbody tr th {\n        vertical-align: top;\n    }\n\n    .dataframe thead th {\n        text-align: right;\n    }\n</style>\n<table border=\"1\" class=\"dataframe\">\n  <thead>\n    <tr style=\"text-align: right;\">\n      <th></th>\n      <th>Purchase Count</th>\n      <th>Average Purchase</th>\n      <th>Total Purchase Value</th>\n    </tr>\n    <tr>\n      <th>Age Group</th>\n      <th></th>\n      <th></th>\n      <th></th>\n    </tr>\n  </thead>\n  <tbody>\n    <tr>\n      <th>under 10</th>\n      <td>23</td>\n      <td>3.353478</td>\n      <td>77.13</td>\n    </tr>\n    <tr>\n      <th>10-14</th>\n      <td>28</td>\n      <td>2.956429</td>\n      <td>82.78</td>\n    </tr>\n    <tr>\n      <th>15-19</th>\n      <td>136</td>\n      <td>3.035956</td>\n      <td>412.89</td>\n    </tr>\n    <tr>\n      <th>20-24</th>\n      <td>365</td>\n      <td>3.052219</td>\n      <td>1114.06</td>\n    </tr>\n    <tr>\n      <th>25-29</th>\n      <td>101</td>\n      <td>2.900990</td>\n      <td>293.00</td>\n    </tr>\n    <tr>\n      <th>30-34</th>\n      <td>73</td>\n      <td>2.931507</td>\n      <td>214.00</td>\n    </tr>\n    <tr>\n      <th>35-39</th>\n      <td>41</td>\n      <td>3.601707</td>\n      <td>147.67</td>\n    </tr>\n    <tr>\n      <th>40-44</th>\n      <td>12</td>\n      <td>3.045000</td>\n      <td>36.54</td>\n    </tr>\n    <tr>\n      <th>45-49</th>\n      <td>1</td>\n      <td>1.700000</td>\n      <td>1.70</td>\n    </tr>\n  </tbody>\n</table>\n</div>"
     },
     "metadata": {},
     "execution_count": 314
    }
   ],
   "source": [
    "# creating compiled df for results\n",
    "age_results_df = pd.merge(purchase_byAge_df, avg_byAge_df, on='Age Group')\n",
    "age_results_df = pd.merge(age_results_df, total_byAge_df, on='Age Group')\n",
    "age_results_df = age_results_df.rename(columns={'SN': 'Purchase Count', 'Price_x': 'Average Purchase', 'Price_y':'Total Purchase Value'})\n",
    "age_results_df"
   ]
  },
  {
   "cell_type": "code",
   "execution_count": 318,
   "metadata": {},
   "outputs": [
    {
     "output_type": "execute_result",
     "data": {
      "text/plain": [
       "           Purchase Count  Average Purchase  Total Purchase Value  \\\n",
       "Age Group                                                           \n",
       "under 10               23          3.353478                 77.13   \n",
       "10-14                  28          2.956429                 82.78   \n",
       "15-19                 136          3.035956                412.89   \n",
       "20-24                 365          3.052219               1114.06   \n",
       "25-29                 101          2.900990                293.00   \n",
       "30-34                  73          2.931507                214.00   \n",
       "35-39                  41          3.601707                147.67   \n",
       "40-44                  12          3.045000                 36.54   \n",
       "45-49                   1          1.700000                  1.70   \n",
       "\n",
       "           Average Total per Person  \n",
       "Age Group                            \n",
       "under 10                   4.537059  \n",
       "10-14                      3.762727  \n",
       "15-19                      3.858785  \n",
       "20-24                      4.318062  \n",
       "25-29                      3.805195  \n",
       "30-34                      4.115385  \n",
       "35-39                      4.763548  \n",
       "40-44                      3.321818  \n",
       "45-49                      1.700000  "
      ],
      "text/html": "<div>\n<style scoped>\n    .dataframe tbody tr th:only-of-type {\n        vertical-align: middle;\n    }\n\n    .dataframe tbody tr th {\n        vertical-align: top;\n    }\n\n    .dataframe thead th {\n        text-align: right;\n    }\n</style>\n<table border=\"1\" class=\"dataframe\">\n  <thead>\n    <tr style=\"text-align: right;\">\n      <th></th>\n      <th>Purchase Count</th>\n      <th>Average Purchase</th>\n      <th>Total Purchase Value</th>\n      <th>Average Total per Person</th>\n    </tr>\n    <tr>\n      <th>Age Group</th>\n      <th></th>\n      <th></th>\n      <th></th>\n      <th></th>\n    </tr>\n  </thead>\n  <tbody>\n    <tr>\n      <th>under 10</th>\n      <td>23</td>\n      <td>3.353478</td>\n      <td>77.13</td>\n      <td>4.537059</td>\n    </tr>\n    <tr>\n      <th>10-14</th>\n      <td>28</td>\n      <td>2.956429</td>\n      <td>82.78</td>\n      <td>3.762727</td>\n    </tr>\n    <tr>\n      <th>15-19</th>\n      <td>136</td>\n      <td>3.035956</td>\n      <td>412.89</td>\n      <td>3.858785</td>\n    </tr>\n    <tr>\n      <th>20-24</th>\n      <td>365</td>\n      <td>3.052219</td>\n      <td>1114.06</td>\n      <td>4.318062</td>\n    </tr>\n    <tr>\n      <th>25-29</th>\n      <td>101</td>\n      <td>2.900990</td>\n      <td>293.00</td>\n      <td>3.805195</td>\n    </tr>\n    <tr>\n      <th>30-34</th>\n      <td>73</td>\n      <td>2.931507</td>\n      <td>214.00</td>\n      <td>4.115385</td>\n    </tr>\n    <tr>\n      <th>35-39</th>\n      <td>41</td>\n      <td>3.601707</td>\n      <td>147.67</td>\n      <td>4.763548</td>\n    </tr>\n    <tr>\n      <th>40-44</th>\n      <td>12</td>\n      <td>3.045000</td>\n      <td>36.54</td>\n      <td>3.321818</td>\n    </tr>\n    <tr>\n      <th>45-49</th>\n      <td>1</td>\n      <td>1.700000</td>\n      <td>1.70</td>\n      <td>1.700000</td>\n    </tr>\n  </tbody>\n</table>\n</div>"
     },
     "metadata": {},
     "execution_count": 318
    }
   ],
   "source": [
    "# adding the calculated column for average purchase total per person\n",
    "age_results_df['Average Total per Person'] = (age_results_df['Total Purchase Value'] / age_demos_df['Player Count'])\n",
    "age_results_df"
   ]
  },
  {
   "cell_type": "markdown",
   "metadata": {},
   "source": [
    "## Purchasing Analysis (Age)"
   ]
  },
  {
   "cell_type": "markdown",
   "metadata": {},
   "source": [
    "* Bin the purchase_data data frame by age\n",
    "\n",
    "\n",
    "* Run basic calculations to obtain purchase count, avg. purchase price, avg. purchase total per person etc. in the table below\n",
    "\n",
    "\n",
    "* Create a summary data frame to hold the results\n",
    "\n",
    "\n",
    "* Optional: give the displayed data cleaner formatting\n",
    "\n",
    "\n",
    "* Display the summary data frame"
   ]
  },
  {
   "cell_type": "code",
   "execution_count": null,
   "metadata": {},
   "outputs": [],
   "source": []
  },
  {
   "cell_type": "code",
   "execution_count": 84,
   "metadata": {},
   "outputs": [
    {
     "output_type": "stream",
     "name": "stdout",
     "text": [
      "                                           Age Group  Users in Group  \\\n0  248      Isursuir31\n674         Aeral68\n728   ...               4   \n\n   Purchase Count  Average Purchase Price  Total Purchase Value  \\\n0               4                   2.765                 11.06   \n\n   Average Purchase Total per Person by Age  \n0                                     2.765  \n"
     ]
    }
   ],
   "source": [
    "# Compile all summary data\n",
    "print(grp_10_results_df)"
   ]
  },
  {
   "cell_type": "code",
   "execution_count": 85,
   "metadata": {},
   "outputs": [],
   "source": [
    "# display Purchasing Analysis (Age)"
   ]
  },
  {
   "cell_type": "markdown",
   "metadata": {},
   "source": [
    "## Top Spenders"
   ]
  },
  {
   "cell_type": "markdown",
   "metadata": {},
   "source": [
    "* Run basic calculations to obtain the results in the table below\n",
    "\n",
    "\n",
    "* Create a summary data frame to hold the results\n",
    "\n",
    "\n",
    "* Sort the total purchase value column in descending order\n",
    "\n",
    "\n",
    "* Optional: give the displayed data cleaner formatting\n",
    "\n",
    "\n",
    "* Display a preview of the summary data frame\n",
    "\n"
   ]
  },
  {
   "cell_type": "code",
   "execution_count": 195,
   "metadata": {},
   "outputs": [
    {
     "output_type": "execute_result",
     "data": {
      "text/plain": [
       "{'Adairialis76': [467], 'Adastirin33': [142], 'Aeda94': [388], 'Aela59': [28], 'Aelaria33': [630], 'Aelastirin39': [218, 766], 'Aelidru27': [705], 'Aelin32': [52, 87, 584], 'Aelly27': [43, 428], 'Aellynun67': [286], 'Aellyria80': [746], 'Aelollo59': [203, 431], 'Aenarap34': [183], 'Aeral43': [263], 'Aeral68': [674], 'Aeral97': [167], 'Aeralria27': [32], 'Aeralstical35': [583], 'Aeri84': [303], 'Aerillorin70': [381], 'Aerithllora36': [274, 578], 'Aerithnucal56': [324], 'Aerithnuphos61': [517], 'Aerithriaphos45': [40], 'Aerithriaphos46': [236], 'Aesri53': [541], 'Aesty53': [124, 253], 'Aestysu37': [309, 416], 'Aesur96': [468], 'Aesurstilis64': [405], 'Aethedru70': [775], 'Aidai53': [219], 'Aidai61': [282], 'Aidai73': [720], 'Aidaillodeu39': [42, 146], 'Aidain51': [516], 'Aidaira26': [730], 'Aiduecal76': [97, 670], 'Aiduesu86': [429], 'Aillyriadru65': [523], 'Aillyrin83': [155], 'Aina42': [83, 363, 373], 'Aina43': [94], 'Airi27': [637], 'Aisur51': [184], 'Aisurdru79': [440, 618], 'Aisurria69': [423], 'Aithelis62': [703, 760], 'Alaephos75': [295], 'Alaesu77': [494], 'Alaesu91': [285], 'Alarap40': [391], 'Ali84': [360, 635], 'Alim85': [226], 'Alo38': [63], 'Anallorgue57': [272, 311], 'Ardcil81': [398, 544], 'Ardonmol96': [566], 'Arin32': [627, 734], 'Arirgue63': [470], 'Assassa81': [631], 'Assassasta79': [270, 768], 'Assastnya25': [565], 'Assehoan67': [258], 'Assesi91': [420], 'Assilsan72': [666], 'Assim27': [761], 'Assirra56': [587], 'Assistasda42': [73, 351], 'Assistasda90': [460], 'Assjaskan56': [79], 'Assjaskan73': [13], 'Assosia88': [41], 'Assylla81': [729], 'Asty82': [680], 'Asur53': [390, 762, 772], 'Asur96': [48], 'Baelollodeu94': [178, 569], 'Bartassaya73': [387, 644], 'Caesrinusuir82': [171, 671], 'Ceoral34': [329], 'Chadadarla74': [310, 614], 'Chadilsasta32': [331, 343], 'Chadirra90': [359], 'Chadista79': [186, 506], 'Chadistaya75': [92], 'Chadjask77': [686], 'Chadjask85': [647], 'Chadolyla44': [91, 198, 711], 'Chadossa56': [570], 'Chadossa89': [98], 'Chamadar79': [262], 'Chamadarnya73': [458], 'Chamadarsda63': [642], 'Chamalo71': [19], 'Chamassasya86': [3], 'Chamast86': [653], 'Chamastya76': [307], 'Chamilsala65': [347, 504], 'Chamiman85': [733], ...}"
      ]
     },
     "metadata": {},
     "execution_count": 195
    }
   ],
   "source": [
    "# Find Top 5 Spenders by total purchase value\n",
    "\n",
    "# creating df for finding Top 5 Spenders\n",
    "top_spenders_df = update_purchase_df[['SN','Price']]\n",
    "top_spenders_df = top_spenders_df.groupby('SN')"
   ]
  },
  {
   "cell_type": "code",
   "execution_count": 202,
   "metadata": {},
   "outputs": [
    {
     "output_type": "execute_result",
     "data": {
      "text/plain": [
       "             Price\n",
       "SN                \n",
       "Lisosia93    18.96\n",
       "Idastidru52  15.45\n",
       "Chamjask73   13.83\n",
       "Iral74       13.62\n",
       "Iskadarya95  13.10"
      ],
      "text/html": "<div>\n<style scoped>\n    .dataframe tbody tr th:only-of-type {\n        vertical-align: middle;\n    }\n\n    .dataframe tbody tr th {\n        vertical-align: top;\n    }\n\n    .dataframe thead th {\n        text-align: right;\n    }\n</style>\n<table border=\"1\" class=\"dataframe\">\n  <thead>\n    <tr style=\"text-align: right;\">\n      <th></th>\n      <th>Price</th>\n    </tr>\n    <tr>\n      <th>SN</th>\n      <th></th>\n    </tr>\n  </thead>\n  <tbody>\n    <tr>\n      <th>Lisosia93</th>\n      <td>18.96</td>\n    </tr>\n    <tr>\n      <th>Idastidru52</th>\n      <td>15.45</td>\n    </tr>\n    <tr>\n      <th>Chamjask73</th>\n      <td>13.83</td>\n    </tr>\n    <tr>\n      <th>Iral74</th>\n      <td>13.62</td>\n    </tr>\n    <tr>\n      <th>Iskadarya95</th>\n      <td>13.10</td>\n    </tr>\n  </tbody>\n</table>\n</div>"
     },
     "metadata": {},
     "execution_count": 202
    }
   ],
   "source": [
    "# ** Total Spent **\n",
    "# This new df contains the sum of the prices for each player\n",
    "spend_compare_df = top_spenders_df.sum()\n",
    "\n",
    "# This df saves the top 5 SPENDERS by sorting price as descending.\n",
    "top5_spend_df = spend_compare_df.sort_values(['Price'],ascending=False).head(5)\n",
    "top5_spend_df"
   ]
  },
  {
   "cell_type": "code",
   "execution_count": 203,
   "metadata": {},
   "outputs": [
    {
     "output_type": "execute_result",
     "data": {
      "text/plain": [
       "               Price\n",
       "SN                  \n",
       "Adairialis76       1\n",
       "Adastirin33        1\n",
       "Aeda94             1\n",
       "Aela59             1\n",
       "Aelaria33          1\n",
       "...              ...\n",
       "Yathecal82         3\n",
       "Yathedeu43         2\n",
       "Yoishirrala98      1\n",
       "Zhisrisu83         2\n",
       "Zontibe81          3\n",
       "\n",
       "[576 rows x 1 columns]"
      ],
      "text/html": "<div>\n<style scoped>\n    .dataframe tbody tr th:only-of-type {\n        vertical-align: middle;\n    }\n\n    .dataframe tbody tr th {\n        vertical-align: top;\n    }\n\n    .dataframe thead th {\n        text-align: right;\n    }\n</style>\n<table border=\"1\" class=\"dataframe\">\n  <thead>\n    <tr style=\"text-align: right;\">\n      <th></th>\n      <th>Price</th>\n    </tr>\n    <tr>\n      <th>SN</th>\n      <th></th>\n    </tr>\n  </thead>\n  <tbody>\n    <tr>\n      <th>Adairialis76</th>\n      <td>1</td>\n    </tr>\n    <tr>\n      <th>Adastirin33</th>\n      <td>1</td>\n    </tr>\n    <tr>\n      <th>Aeda94</th>\n      <td>1</td>\n    </tr>\n    <tr>\n      <th>Aela59</th>\n      <td>1</td>\n    </tr>\n    <tr>\n      <th>Aelaria33</th>\n      <td>1</td>\n    </tr>\n    <tr>\n      <th>...</th>\n      <td>...</td>\n    </tr>\n    <tr>\n      <th>Yathecal82</th>\n      <td>3</td>\n    </tr>\n    <tr>\n      <th>Yathedeu43</th>\n      <td>2</td>\n    </tr>\n    <tr>\n      <th>Yoishirrala98</th>\n      <td>1</td>\n    </tr>\n    <tr>\n      <th>Zhisrisu83</th>\n      <td>2</td>\n    </tr>\n    <tr>\n      <th>Zontibe81</th>\n      <td>3</td>\n    </tr>\n  </tbody>\n</table>\n<p>576 rows × 1 columns</p>\n</div>"
     },
     "metadata": {},
     "execution_count": 203
    }
   ],
   "source": [
    "## ** Number of Purchases **\n",
    "# This df contains the number of transactions for each player\n",
    "purchase_counts_df = top_spenders_df.count()\n",
    "purchase_counts_df"
   ]
  },
  {
   "cell_type": "code",
   "execution_count": 204,
   "metadata": {},
   "outputs": [
    {
     "output_type": "execute_result",
     "data": {
      "text/plain": [
       "             Price_x  Price_y\n",
       "SN                           \n",
       "Lisosia93      18.96        5\n",
       "Idastidru52    15.45        4\n",
       "Chamjask73     13.83        3\n",
       "Iral74         13.62        4\n",
       "Iskadarya95    13.10        3"
      ],
      "text/html": "<div>\n<style scoped>\n    .dataframe tbody tr th:only-of-type {\n        vertical-align: middle;\n    }\n\n    .dataframe tbody tr th {\n        vertical-align: top;\n    }\n\n    .dataframe thead th {\n        text-align: right;\n    }\n</style>\n<table border=\"1\" class=\"dataframe\">\n  <thead>\n    <tr style=\"text-align: right;\">\n      <th></th>\n      <th>Price_x</th>\n      <th>Price_y</th>\n    </tr>\n    <tr>\n      <th>SN</th>\n      <th></th>\n      <th></th>\n    </tr>\n  </thead>\n  <tbody>\n    <tr>\n      <th>Lisosia93</th>\n      <td>18.96</td>\n      <td>5</td>\n    </tr>\n    <tr>\n      <th>Idastidru52</th>\n      <td>15.45</td>\n      <td>4</td>\n    </tr>\n    <tr>\n      <th>Chamjask73</th>\n      <td>13.83</td>\n      <td>3</td>\n    </tr>\n    <tr>\n      <th>Iral74</th>\n      <td>13.62</td>\n      <td>4</td>\n    </tr>\n    <tr>\n      <th>Iskadarya95</th>\n      <td>13.10</td>\n      <td>3</td>\n    </tr>\n  </tbody>\n</table>\n</div>"
     },
     "metadata": {},
     "execution_count": 204
    }
   ],
   "source": [
    "# Join top 5 spenders to their purchase counts via inner join\n",
    "top5_hold_df = pd.merge(top5_spend_df, purchase_counts_df, on='SN')\n",
    "top5_hold_df"
   ]
  },
  {
   "cell_type": "code",
   "execution_count": 205,
   "metadata": {},
   "outputs": [
    {
     "output_type": "execute_result",
     "data": {
      "text/plain": [
       "             Total Purchase Value  Purchase Count\n",
       "SN                                               \n",
       "Lisosia93                   18.96               5\n",
       "Idastidru52                 15.45               4\n",
       "Chamjask73                  13.83               3\n",
       "Iral74                      13.62               4\n",
       "Iskadarya95                 13.10               3"
      ],
      "text/html": "<div>\n<style scoped>\n    .dataframe tbody tr th:only-of-type {\n        vertical-align: middle;\n    }\n\n    .dataframe tbody tr th {\n        vertical-align: top;\n    }\n\n    .dataframe thead th {\n        text-align: right;\n    }\n</style>\n<table border=\"1\" class=\"dataframe\">\n  <thead>\n    <tr style=\"text-align: right;\">\n      <th></th>\n      <th>Total Purchase Value</th>\n      <th>Purchase Count</th>\n    </tr>\n    <tr>\n      <th>SN</th>\n      <th></th>\n      <th></th>\n    </tr>\n  </thead>\n  <tbody>\n    <tr>\n      <th>Lisosia93</th>\n      <td>18.96</td>\n      <td>5</td>\n    </tr>\n    <tr>\n      <th>Idastidru52</th>\n      <td>15.45</td>\n      <td>4</td>\n    </tr>\n    <tr>\n      <th>Chamjask73</th>\n      <td>13.83</td>\n      <td>3</td>\n    </tr>\n    <tr>\n      <th>Iral74</th>\n      <td>13.62</td>\n      <td>4</td>\n    </tr>\n    <tr>\n      <th>Iskadarya95</th>\n      <td>13.10</td>\n      <td>3</td>\n    </tr>\n  </tbody>\n</table>\n</div>"
     },
     "metadata": {},
     "execution_count": 205
    }
   ],
   "source": [
    "# Renaming columns\n",
    "top5_hold_df2 = top5_hold_df.rename(columns={'Price_x': 'Total Purchase Value', 'Price_y': 'Purchase Count'})\n",
    "top5_hold_df2"
   ]
  },
  {
   "cell_type": "code",
   "execution_count": 250,
   "metadata": {},
   "outputs": [
    {
     "output_type": "execute_result",
     "data": {
      "text/plain": [
       "             Total Purchase Value  Purchase Count  Average Purchase Price\n",
       "SN                                                                       \n",
       "Lisosia93                   18.96               5                3.792000\n",
       "Idastidru52                 15.45               4                3.862500\n",
       "Chamjask73                  13.83               3                4.610000\n",
       "Iral74                      13.62               4                3.405000\n",
       "Iskadarya95                 13.10               3                4.366667"
      ],
      "text/html": "<div>\n<style scoped>\n    .dataframe tbody tr th:only-of-type {\n        vertical-align: middle;\n    }\n\n    .dataframe tbody tr th {\n        vertical-align: top;\n    }\n\n    .dataframe thead th {\n        text-align: right;\n    }\n</style>\n<table border=\"1\" class=\"dataframe\">\n  <thead>\n    <tr style=\"text-align: right;\">\n      <th></th>\n      <th>Total Purchase Value</th>\n      <th>Purchase Count</th>\n      <th>Average Purchase Price</th>\n    </tr>\n    <tr>\n      <th>SN</th>\n      <th></th>\n      <th></th>\n      <th></th>\n    </tr>\n  </thead>\n  <tbody>\n    <tr>\n      <th>Lisosia93</th>\n      <td>18.96</td>\n      <td>5</td>\n      <td>3.792000</td>\n    </tr>\n    <tr>\n      <th>Idastidru52</th>\n      <td>15.45</td>\n      <td>4</td>\n      <td>3.862500</td>\n    </tr>\n    <tr>\n      <th>Chamjask73</th>\n      <td>13.83</td>\n      <td>3</td>\n      <td>4.610000</td>\n    </tr>\n    <tr>\n      <th>Iral74</th>\n      <td>13.62</td>\n      <td>4</td>\n      <td>3.405000</td>\n    </tr>\n    <tr>\n      <th>Iskadarya95</th>\n      <td>13.10</td>\n      <td>3</td>\n      <td>4.366667</td>\n    </tr>\n  </tbody>\n</table>\n</div>"
     },
     "metadata": {},
     "execution_count": 250
    }
   ],
   "source": [
    "# create a new column with calculated avg price per transaction\n",
    "top5_hold_df2['Average Purchase Price'] = (top5_hold_df2['Total Purchase Value'] / top5_hold_df2['Purchase Count'])\n",
    "top5_hold_df2"
   ]
  },
  {
   "cell_type": "code",
   "execution_count": 208,
   "metadata": {},
   "outputs": [
    {
     "output_type": "execute_result",
     "data": {
      "text/plain": [
       "             Purchase Count  Average Purchase Price  Total Purchase Value\n",
       "SN                                                                       \n",
       "Lisosia93                 5                3.792000                 18.96\n",
       "Idastidru52               4                3.862500                 15.45\n",
       "Chamjask73                3                4.610000                 13.83\n",
       "Iral74                    4                3.405000                 13.62\n",
       "Iskadarya95               3                4.366667                 13.10"
      ],
      "text/html": "<div>\n<style scoped>\n    .dataframe tbody tr th:only-of-type {\n        vertical-align: middle;\n    }\n\n    .dataframe tbody tr th {\n        vertical-align: top;\n    }\n\n    .dataframe thead th {\n        text-align: right;\n    }\n</style>\n<table border=\"1\" class=\"dataframe\">\n  <thead>\n    <tr style=\"text-align: right;\">\n      <th></th>\n      <th>Purchase Count</th>\n      <th>Average Purchase Price</th>\n      <th>Total Purchase Value</th>\n    </tr>\n    <tr>\n      <th>SN</th>\n      <th></th>\n      <th></th>\n      <th></th>\n    </tr>\n  </thead>\n  <tbody>\n    <tr>\n      <th>Lisosia93</th>\n      <td>5</td>\n      <td>3.792000</td>\n      <td>18.96</td>\n    </tr>\n    <tr>\n      <th>Idastidru52</th>\n      <td>4</td>\n      <td>3.862500</td>\n      <td>15.45</td>\n    </tr>\n    <tr>\n      <th>Chamjask73</th>\n      <td>3</td>\n      <td>4.610000</td>\n      <td>13.83</td>\n    </tr>\n    <tr>\n      <th>Iral74</th>\n      <td>4</td>\n      <td>3.405000</td>\n      <td>13.62</td>\n    </tr>\n    <tr>\n      <th>Iskadarya95</th>\n      <td>3</td>\n      <td>4.366667</td>\n      <td>13.10</td>\n    </tr>\n  </tbody>\n</table>\n</div>"
     },
     "metadata": {},
     "execution_count": 208
    }
   ],
   "source": [
    "## TOP SPENDERS ##\n",
    "# Table should have: SN, purchase count, average purchase price, total purchase value\n",
    "top5_final_df = top5_hold_df2[['Purchase Count', 'Average Purchase Price', 'Total Purchase Value']].head(5)\n",
    "top5_final_df"
   ]
  },
  {
   "cell_type": "markdown",
   "metadata": {},
   "source": [
    "## Most Popular Items"
   ]
  },
  {
   "cell_type": "markdown",
   "metadata": {},
   "source": [
    "* Retrieve the Item ID, Item Name, and Item Price columns\n",
    "\n",
    "\n",
    "* Group by Item ID and Item Name. Perform calculations to obtain purchase count, average item price, and total purchase value\n",
    "\n",
    "\n",
    "* Create a summary data frame to hold the results\n",
    "\n",
    "\n",
    "* Sort the purchase count column in descending order\n",
    "\n",
    "\n",
    "* Optional: give the displayed data cleaner formatting\n",
    "\n",
    "\n",
    "* Display a preview of the summary data frame\n",
    "\n"
   ]
  },
  {
   "cell_type": "code",
   "execution_count": 212,
   "metadata": {},
   "outputs": [
    {
     "output_type": "execute_result",
     "data": {
      "text/plain": [
       "     ItemID                                   ItemName  Price\n",
       "0       108  Extraction, Quickblade Of Trembling Hands   3.53\n",
       "1       143                          Frenzied Scimitar   1.56\n",
       "2        92                               Final Critic   4.88\n",
       "3       100                                Blindscythe   3.27\n",
       "4       131                                       Fury   1.44\n",
       "..      ...                                        ...    ...\n",
       "764     113                          Solitude's Reaver   4.07\n",
       "765     130                                      Alpha   2.07\n",
       "766      58          Freak's Bite, Favor of Holy Might   4.14\n",
       "777      67      Celeste, Incarnation of the Corrupted   3.46\n",
       "779      50                                       Dawn   4.60\n",
       "\n",
       "[690 rows x 3 columns]"
      ],
      "text/html": "<div>\n<style scoped>\n    .dataframe tbody tr th:only-of-type {\n        vertical-align: middle;\n    }\n\n    .dataframe tbody tr th {\n        vertical-align: top;\n    }\n\n    .dataframe thead th {\n        text-align: right;\n    }\n</style>\n<table border=\"1\" class=\"dataframe\">\n  <thead>\n    <tr style=\"text-align: right;\">\n      <th></th>\n      <th>ItemID</th>\n      <th>ItemName</th>\n      <th>Price</th>\n    </tr>\n  </thead>\n  <tbody>\n    <tr>\n      <th>0</th>\n      <td>108</td>\n      <td>Extraction, Quickblade Of Trembling Hands</td>\n      <td>3.53</td>\n    </tr>\n    <tr>\n      <th>1</th>\n      <td>143</td>\n      <td>Frenzied Scimitar</td>\n      <td>1.56</td>\n    </tr>\n    <tr>\n      <th>2</th>\n      <td>92</td>\n      <td>Final Critic</td>\n      <td>4.88</td>\n    </tr>\n    <tr>\n      <th>3</th>\n      <td>100</td>\n      <td>Blindscythe</td>\n      <td>3.27</td>\n    </tr>\n    <tr>\n      <th>4</th>\n      <td>131</td>\n      <td>Fury</td>\n      <td>1.44</td>\n    </tr>\n    <tr>\n      <th>...</th>\n      <td>...</td>\n      <td>...</td>\n      <td>...</td>\n    </tr>\n    <tr>\n      <th>764</th>\n      <td>113</td>\n      <td>Solitude's Reaver</td>\n      <td>4.07</td>\n    </tr>\n    <tr>\n      <th>765</th>\n      <td>130</td>\n      <td>Alpha</td>\n      <td>2.07</td>\n    </tr>\n    <tr>\n      <th>766</th>\n      <td>58</td>\n      <td>Freak's Bite, Favor of Holy Might</td>\n      <td>4.14</td>\n    </tr>\n    <tr>\n      <th>777</th>\n      <td>67</td>\n      <td>Celeste, Incarnation of the Corrupted</td>\n      <td>3.46</td>\n    </tr>\n    <tr>\n      <th>779</th>\n      <td>50</td>\n      <td>Dawn</td>\n      <td>4.60</td>\n    </tr>\n  </tbody>\n</table>\n<p>690 rows × 3 columns</p>\n</div>"
     },
     "metadata": {},
     "execution_count": 212
    }
   ],
   "source": [
    "# create df for items\n",
    "item_df = update_purchase_df[['ItemID', 'ItemName', 'Price']]\n",
    "item_df = item_df.groupby(['ItemID', 'ItemName'])\n",
    "\n",
    "item_df.head()"
   ]
  },
  {
   "cell_type": "code",
   "execution_count": 222,
   "metadata": {},
   "outputs": [
    {
     "output_type": "execute_result",
     "data": {
      "text/plain": [
       "                                                     Price\n",
       "ItemID ItemName                                           \n",
       "92     Final Critic                                     13\n",
       "178    Oathbreaker, Last Hope of the Breaking Storm     12\n",
       "145    Fiery Glass Crusader                              9\n",
       "132    Persuasion                                        9\n",
       "108    Extraction, Quickblade Of Trembling Hands         9\n",
       "...                                                    ...\n",
       "42     The Decapitator                                   1\n",
       "51     Endbringer                                        1\n",
       "118    Ghost Reaver, Longsword of Magic                  1\n",
       "104    Gladiator's Glaive                                1\n",
       "91     Celeste                                           1\n",
       "\n",
       "[179 rows x 1 columns]"
      ],
      "text/html": "<div>\n<style scoped>\n    .dataframe tbody tr th:only-of-type {\n        vertical-align: middle;\n    }\n\n    .dataframe tbody tr th {\n        vertical-align: top;\n    }\n\n    .dataframe thead th {\n        text-align: right;\n    }\n</style>\n<table border=\"1\" class=\"dataframe\">\n  <thead>\n    <tr style=\"text-align: right;\">\n      <th></th>\n      <th></th>\n      <th>Price</th>\n    </tr>\n    <tr>\n      <th>ItemID</th>\n      <th>ItemName</th>\n      <th></th>\n    </tr>\n  </thead>\n  <tbody>\n    <tr>\n      <th>92</th>\n      <th>Final Critic</th>\n      <td>13</td>\n    </tr>\n    <tr>\n      <th>178</th>\n      <th>Oathbreaker, Last Hope of the Breaking Storm</th>\n      <td>12</td>\n    </tr>\n    <tr>\n      <th>145</th>\n      <th>Fiery Glass Crusader</th>\n      <td>9</td>\n    </tr>\n    <tr>\n      <th>132</th>\n      <th>Persuasion</th>\n      <td>9</td>\n    </tr>\n    <tr>\n      <th>108</th>\n      <th>Extraction, Quickblade Of Trembling Hands</th>\n      <td>9</td>\n    </tr>\n    <tr>\n      <th>...</th>\n      <th>...</th>\n      <td>...</td>\n    </tr>\n    <tr>\n      <th>42</th>\n      <th>The Decapitator</th>\n      <td>1</td>\n    </tr>\n    <tr>\n      <th>51</th>\n      <th>Endbringer</th>\n      <td>1</td>\n    </tr>\n    <tr>\n      <th>118</th>\n      <th>Ghost Reaver, Longsword of Magic</th>\n      <td>1</td>\n    </tr>\n    <tr>\n      <th>104</th>\n      <th>Gladiator's Glaive</th>\n      <td>1</td>\n    </tr>\n    <tr>\n      <th>91</th>\n      <th>Celeste</th>\n      <td>1</td>\n    </tr>\n  </tbody>\n</table>\n<p>179 rows × 1 columns</p>\n</div>"
     },
     "metadata": {},
     "execution_count": 222
    }
   ],
   "source": [
    "# purchase count sorted descending\n",
    "item_counts_df = item_df.count()\n",
    "item_counts_df = item_counts_df.sort_values(['Price'],ascending=False)\n",
    "item_counts_df"
   ]
  },
  {
   "cell_type": "code",
   "execution_count": 219,
   "metadata": {},
   "outputs": [
    {
     "output_type": "execute_result",
     "data": {
      "text/plain": [
       "                                                      Price\n",
       "ItemID ItemName                                            \n",
       "0      Splinter                                      1.2800\n",
       "1      Crucifer                                      2.9425\n",
       "2      Verdict                                       2.4800\n",
       "3      Phantomlight                                  2.4900\n",
       "4      Bloodlord's Fetish                            1.7000\n",
       "...                                                     ...\n",
       "178    Oathbreaker, Last Hope of the Breaking Storm  4.2300\n",
       "179    Wolf, Promise of the Moonwalker               4.4800\n",
       "181    Reaper's Toll                                 1.6600\n",
       "182    Toothpick                                     4.0300\n",
       "183    Dragon's Greatsword                           1.0900\n",
       "\n",
       "[179 rows x 1 columns]"
      ],
      "text/html": "<div>\n<style scoped>\n    .dataframe tbody tr th:only-of-type {\n        vertical-align: middle;\n    }\n\n    .dataframe tbody tr th {\n        vertical-align: top;\n    }\n\n    .dataframe thead th {\n        text-align: right;\n    }\n</style>\n<table border=\"1\" class=\"dataframe\">\n  <thead>\n    <tr style=\"text-align: right;\">\n      <th></th>\n      <th></th>\n      <th>Price</th>\n    </tr>\n    <tr>\n      <th>ItemID</th>\n      <th>ItemName</th>\n      <th></th>\n    </tr>\n  </thead>\n  <tbody>\n    <tr>\n      <th>0</th>\n      <th>Splinter</th>\n      <td>1.2800</td>\n    </tr>\n    <tr>\n      <th>1</th>\n      <th>Crucifer</th>\n      <td>2.9425</td>\n    </tr>\n    <tr>\n      <th>2</th>\n      <th>Verdict</th>\n      <td>2.4800</td>\n    </tr>\n    <tr>\n      <th>3</th>\n      <th>Phantomlight</th>\n      <td>2.4900</td>\n    </tr>\n    <tr>\n      <th>4</th>\n      <th>Bloodlord's Fetish</th>\n      <td>1.7000</td>\n    </tr>\n    <tr>\n      <th>...</th>\n      <th>...</th>\n      <td>...</td>\n    </tr>\n    <tr>\n      <th>178</th>\n      <th>Oathbreaker, Last Hope of the Breaking Storm</th>\n      <td>4.2300</td>\n    </tr>\n    <tr>\n      <th>179</th>\n      <th>Wolf, Promise of the Moonwalker</th>\n      <td>4.4800</td>\n    </tr>\n    <tr>\n      <th>181</th>\n      <th>Reaper's Toll</th>\n      <td>1.6600</td>\n    </tr>\n    <tr>\n      <th>182</th>\n      <th>Toothpick</th>\n      <td>4.0300</td>\n    </tr>\n    <tr>\n      <th>183</th>\n      <th>Dragon's Greatsword</th>\n      <td>1.0900</td>\n    </tr>\n  </tbody>\n</table>\n<p>179 rows × 1 columns</p>\n</div>"
     },
     "metadata": {},
     "execution_count": 219
    }
   ],
   "source": [
    "# average item price\n",
    "item_avg_df = item_df.mean()\n",
    "item_avg_df"
   ]
  },
  {
   "cell_type": "code",
   "execution_count": 215,
   "metadata": {},
   "outputs": [
    {
     "output_type": "execute_result",
     "data": {
      "text/plain": [
       "                                                     Price\n",
       "ItemID ItemName                                           \n",
       "0      Splinter                                       5.12\n",
       "1      Crucifer                                      11.77\n",
       "2      Verdict                                       14.88\n",
       "3      Phantomlight                                  14.94\n",
       "4      Bloodlord's Fetish                             8.50\n",
       "...                                                    ...\n",
       "178    Oathbreaker, Last Hope of the Breaking Storm  50.76\n",
       "179    Wolf, Promise of the Moonwalker               26.88\n",
       "181    Reaper's Toll                                  8.30\n",
       "182    Toothpick                                     12.09\n",
       "183    Dragon's Greatsword                            3.27\n",
       "\n",
       "[179 rows x 1 columns]"
      ],
      "text/html": "<div>\n<style scoped>\n    .dataframe tbody tr th:only-of-type {\n        vertical-align: middle;\n    }\n\n    .dataframe tbody tr th {\n        vertical-align: top;\n    }\n\n    .dataframe thead th {\n        text-align: right;\n    }\n</style>\n<table border=\"1\" class=\"dataframe\">\n  <thead>\n    <tr style=\"text-align: right;\">\n      <th></th>\n      <th></th>\n      <th>Price</th>\n    </tr>\n    <tr>\n      <th>ItemID</th>\n      <th>ItemName</th>\n      <th></th>\n    </tr>\n  </thead>\n  <tbody>\n    <tr>\n      <th>0</th>\n      <th>Splinter</th>\n      <td>5.12</td>\n    </tr>\n    <tr>\n      <th>1</th>\n      <th>Crucifer</th>\n      <td>11.77</td>\n    </tr>\n    <tr>\n      <th>2</th>\n      <th>Verdict</th>\n      <td>14.88</td>\n    </tr>\n    <tr>\n      <th>3</th>\n      <th>Phantomlight</th>\n      <td>14.94</td>\n    </tr>\n    <tr>\n      <th>4</th>\n      <th>Bloodlord's Fetish</th>\n      <td>8.50</td>\n    </tr>\n    <tr>\n      <th>...</th>\n      <th>...</th>\n      <td>...</td>\n    </tr>\n    <tr>\n      <th>178</th>\n      <th>Oathbreaker, Last Hope of the Breaking Storm</th>\n      <td>50.76</td>\n    </tr>\n    <tr>\n      <th>179</th>\n      <th>Wolf, Promise of the Moonwalker</th>\n      <td>26.88</td>\n    </tr>\n    <tr>\n      <th>181</th>\n      <th>Reaper's Toll</th>\n      <td>8.30</td>\n    </tr>\n    <tr>\n      <th>182</th>\n      <th>Toothpick</th>\n      <td>12.09</td>\n    </tr>\n    <tr>\n      <th>183</th>\n      <th>Dragon's Greatsword</th>\n      <td>3.27</td>\n    </tr>\n  </tbody>\n</table>\n<p>179 rows × 1 columns</p>\n</div>"
     },
     "metadata": {},
     "execution_count": 215
    }
   ],
   "source": [
    "# total purchase value\n",
    "item_values_df = item_df.sum()\n",
    "item_values_df"
   ]
  },
  {
   "cell_type": "code",
   "execution_count": 236,
   "metadata": {},
   "outputs": [
    {
     "output_type": "execute_result",
     "data": {
      "text/plain": [
       "                                                     Price_x   Price_y\n",
       "ItemID ItemName                                                       \n",
       "92     Final Critic                                       13  4.614615\n",
       "178    Oathbreaker, Last Hope of the Breaking Storm       12  4.230000\n",
       "145    Fiery Glass Crusader                                9  4.580000\n",
       "132    Persuasion                                          9  3.221111\n",
       "108    Extraction, Quickblade Of Trembling Hands           9  3.530000"
      ],
      "text/html": "<div>\n<style scoped>\n    .dataframe tbody tr th:only-of-type {\n        vertical-align: middle;\n    }\n\n    .dataframe tbody tr th {\n        vertical-align: top;\n    }\n\n    .dataframe thead th {\n        text-align: right;\n    }\n</style>\n<table border=\"1\" class=\"dataframe\">\n  <thead>\n    <tr style=\"text-align: right;\">\n      <th></th>\n      <th></th>\n      <th>Price_x</th>\n      <th>Price_y</th>\n    </tr>\n    <tr>\n      <th>ItemID</th>\n      <th>ItemName</th>\n      <th></th>\n      <th></th>\n    </tr>\n  </thead>\n  <tbody>\n    <tr>\n      <th>92</th>\n      <th>Final Critic</th>\n      <td>13</td>\n      <td>4.614615</td>\n    </tr>\n    <tr>\n      <th>178</th>\n      <th>Oathbreaker, Last Hope of the Breaking Storm</th>\n      <td>12</td>\n      <td>4.230000</td>\n    </tr>\n    <tr>\n      <th>145</th>\n      <th>Fiery Glass Crusader</th>\n      <td>9</td>\n      <td>4.580000</td>\n    </tr>\n    <tr>\n      <th>132</th>\n      <th>Persuasion</th>\n      <td>9</td>\n      <td>3.221111</td>\n    </tr>\n    <tr>\n      <th>108</th>\n      <th>Extraction, Quickblade Of Trembling Hands</th>\n      <td>9</td>\n      <td>3.530000</td>\n    </tr>\n  </tbody>\n</table>\n</div>"
     },
     "metadata": {},
     "execution_count": 236
    }
   ],
   "source": [
    "# merge counts to avg\n",
    "item_hold_df = pd.merge(item_counts_df, item_avg_df, on=['ItemID', 'ItemName'],how='outer')\n",
    "item_hold_df.head()"
   ]
  },
  {
   "cell_type": "code",
   "execution_count": 238,
   "metadata": {},
   "outputs": [
    {
     "output_type": "execute_result",
     "data": {
      "text/plain": [
       "                                                     Price_x   Price_y  Price\n",
       "ItemID ItemName                                                              \n",
       "92     Final Critic                                       13  4.614615  59.99\n",
       "178    Oathbreaker, Last Hope of the Breaking Storm       12  4.230000  50.76\n",
       "145    Fiery Glass Crusader                                9  4.580000  41.22\n",
       "132    Persuasion                                          9  3.221111  28.99\n",
       "108    Extraction, Quickblade Of Trembling Hands           9  3.530000  31.77\n",
       "...                                                      ...       ...    ...\n",
       "42     The Decapitator                                     1  1.750000   1.75\n",
       "51     Endbringer                                          1  4.660000   4.66\n",
       "118    Ghost Reaver, Longsword of Magic                    1  2.170000   2.17\n",
       "104    Gladiator's Glaive                                  1  1.930000   1.93\n",
       "91     Celeste                                             1  4.170000   4.17\n",
       "\n",
       "[179 rows x 3 columns]"
      ],
      "text/html": "<div>\n<style scoped>\n    .dataframe tbody tr th:only-of-type {\n        vertical-align: middle;\n    }\n\n    .dataframe tbody tr th {\n        vertical-align: top;\n    }\n\n    .dataframe thead th {\n        text-align: right;\n    }\n</style>\n<table border=\"1\" class=\"dataframe\">\n  <thead>\n    <tr style=\"text-align: right;\">\n      <th></th>\n      <th></th>\n      <th>Price_x</th>\n      <th>Price_y</th>\n      <th>Price</th>\n    </tr>\n    <tr>\n      <th>ItemID</th>\n      <th>ItemName</th>\n      <th></th>\n      <th></th>\n      <th></th>\n    </tr>\n  </thead>\n  <tbody>\n    <tr>\n      <th>92</th>\n      <th>Final Critic</th>\n      <td>13</td>\n      <td>4.614615</td>\n      <td>59.99</td>\n    </tr>\n    <tr>\n      <th>178</th>\n      <th>Oathbreaker, Last Hope of the Breaking Storm</th>\n      <td>12</td>\n      <td>4.230000</td>\n      <td>50.76</td>\n    </tr>\n    <tr>\n      <th>145</th>\n      <th>Fiery Glass Crusader</th>\n      <td>9</td>\n      <td>4.580000</td>\n      <td>41.22</td>\n    </tr>\n    <tr>\n      <th>132</th>\n      <th>Persuasion</th>\n      <td>9</td>\n      <td>3.221111</td>\n      <td>28.99</td>\n    </tr>\n    <tr>\n      <th>108</th>\n      <th>Extraction, Quickblade Of Trembling Hands</th>\n      <td>9</td>\n      <td>3.530000</td>\n      <td>31.77</td>\n    </tr>\n    <tr>\n      <th>...</th>\n      <th>...</th>\n      <td>...</td>\n      <td>...</td>\n      <td>...</td>\n    </tr>\n    <tr>\n      <th>42</th>\n      <th>The Decapitator</th>\n      <td>1</td>\n      <td>1.750000</td>\n      <td>1.75</td>\n    </tr>\n    <tr>\n      <th>51</th>\n      <th>Endbringer</th>\n      <td>1</td>\n      <td>4.660000</td>\n      <td>4.66</td>\n    </tr>\n    <tr>\n      <th>118</th>\n      <th>Ghost Reaver, Longsword of Magic</th>\n      <td>1</td>\n      <td>2.170000</td>\n      <td>2.17</td>\n    </tr>\n    <tr>\n      <th>104</th>\n      <th>Gladiator's Glaive</th>\n      <td>1</td>\n      <td>1.930000</td>\n      <td>1.93</td>\n    </tr>\n    <tr>\n      <th>91</th>\n      <th>Celeste</th>\n      <td>1</td>\n      <td>4.170000</td>\n      <td>4.17</td>\n    </tr>\n  </tbody>\n</table>\n<p>179 rows × 3 columns</p>\n</div>"
     },
     "metadata": {},
     "execution_count": 238
    }
   ],
   "source": [
    "# merge total values to others\n",
    "item_hold2_df = pd.merge(item_hold_df, item_values_df, on=['ItemID', 'ItemName'],how='outer')\n",
    "item_hold2_df"
   ]
  },
  {
   "cell_type": "code",
   "execution_count": 240,
   "metadata": {},
   "outputs": [
    {
     "output_type": "execute_result",
     "data": {
      "text/plain": [
       "                                                     Purchase Count  \\\n",
       "ItemID ItemName                                                       \n",
       "92     Final Critic                                              13   \n",
       "178    Oathbreaker, Last Hope of the Breaking Storm              12   \n",
       "145    Fiery Glass Crusader                                       9   \n",
       "132    Persuasion                                                 9   \n",
       "108    Extraction, Quickblade Of Trembling Hands                  9   \n",
       "...                                                             ...   \n",
       "42     The Decapitator                                            1   \n",
       "51     Endbringer                                                 1   \n",
       "118    Ghost Reaver, Longsword of Magic                           1   \n",
       "104    Gladiator's Glaive                                         1   \n",
       "91     Celeste                                                    1   \n",
       "\n",
       "                                                     Item Price  \\\n",
       "ItemID ItemName                                                   \n",
       "92     Final Critic                                    4.614615   \n",
       "178    Oathbreaker, Last Hope of the Breaking Storm    4.230000   \n",
       "145    Fiery Glass Crusader                            4.580000   \n",
       "132    Persuasion                                      3.221111   \n",
       "108    Extraction, Quickblade Of Trembling Hands       3.530000   \n",
       "...                                                         ...   \n",
       "42     The Decapitator                                 1.750000   \n",
       "51     Endbringer                                      4.660000   \n",
       "118    Ghost Reaver, Longsword of Magic                2.170000   \n",
       "104    Gladiator's Glaive                              1.930000   \n",
       "91     Celeste                                         4.170000   \n",
       "\n",
       "                                                     Total Purchase Value  \n",
       "ItemID ItemName                                                            \n",
       "92     Final Critic                                                 59.99  \n",
       "178    Oathbreaker, Last Hope of the Breaking Storm                 50.76  \n",
       "145    Fiery Glass Crusader                                         41.22  \n",
       "132    Persuasion                                                   28.99  \n",
       "108    Extraction, Quickblade Of Trembling Hands                    31.77  \n",
       "...                                                                   ...  \n",
       "42     The Decapitator                                               1.75  \n",
       "51     Endbringer                                                    4.66  \n",
       "118    Ghost Reaver, Longsword of Magic                              2.17  \n",
       "104    Gladiator's Glaive                                            1.93  \n",
       "91     Celeste                                                       4.17  \n",
       "\n",
       "[179 rows x 3 columns]"
      ],
      "text/html": "<div>\n<style scoped>\n    .dataframe tbody tr th:only-of-type {\n        vertical-align: middle;\n    }\n\n    .dataframe tbody tr th {\n        vertical-align: top;\n    }\n\n    .dataframe thead th {\n        text-align: right;\n    }\n</style>\n<table border=\"1\" class=\"dataframe\">\n  <thead>\n    <tr style=\"text-align: right;\">\n      <th></th>\n      <th></th>\n      <th>Purchase Count</th>\n      <th>Item Price</th>\n      <th>Total Purchase Value</th>\n    </tr>\n    <tr>\n      <th>ItemID</th>\n      <th>ItemName</th>\n      <th></th>\n      <th></th>\n      <th></th>\n    </tr>\n  </thead>\n  <tbody>\n    <tr>\n      <th>92</th>\n      <th>Final Critic</th>\n      <td>13</td>\n      <td>4.614615</td>\n      <td>59.99</td>\n    </tr>\n    <tr>\n      <th>178</th>\n      <th>Oathbreaker, Last Hope of the Breaking Storm</th>\n      <td>12</td>\n      <td>4.230000</td>\n      <td>50.76</td>\n    </tr>\n    <tr>\n      <th>145</th>\n      <th>Fiery Glass Crusader</th>\n      <td>9</td>\n      <td>4.580000</td>\n      <td>41.22</td>\n    </tr>\n    <tr>\n      <th>132</th>\n      <th>Persuasion</th>\n      <td>9</td>\n      <td>3.221111</td>\n      <td>28.99</td>\n    </tr>\n    <tr>\n      <th>108</th>\n      <th>Extraction, Quickblade Of Trembling Hands</th>\n      <td>9</td>\n      <td>3.530000</td>\n      <td>31.77</td>\n    </tr>\n    <tr>\n      <th>...</th>\n      <th>...</th>\n      <td>...</td>\n      <td>...</td>\n      <td>...</td>\n    </tr>\n    <tr>\n      <th>42</th>\n      <th>The Decapitator</th>\n      <td>1</td>\n      <td>1.750000</td>\n      <td>1.75</td>\n    </tr>\n    <tr>\n      <th>51</th>\n      <th>Endbringer</th>\n      <td>1</td>\n      <td>4.660000</td>\n      <td>4.66</td>\n    </tr>\n    <tr>\n      <th>118</th>\n      <th>Ghost Reaver, Longsword of Magic</th>\n      <td>1</td>\n      <td>2.170000</td>\n      <td>2.17</td>\n    </tr>\n    <tr>\n      <th>104</th>\n      <th>Gladiator's Glaive</th>\n      <td>1</td>\n      <td>1.930000</td>\n      <td>1.93</td>\n    </tr>\n    <tr>\n      <th>91</th>\n      <th>Celeste</th>\n      <td>1</td>\n      <td>4.170000</td>\n      <td>4.17</td>\n    </tr>\n  </tbody>\n</table>\n<p>179 rows × 3 columns</p>\n</div>"
     },
     "metadata": {},
     "execution_count": 240
    }
   ],
   "source": [
    "# rename columns\n",
    "item_analysis_df = item_hold2_df.rename(columns={'Price_x': 'Purchase Count', 'Price_y': 'Item Price', 'Price': 'Total Purchase Value'})\n",
    "item_analysis_df"
   ]
  },
  {
   "cell_type": "code",
   "execution_count": 243,
   "metadata": {},
   "outputs": [
    {
     "output_type": "execute_result",
     "data": {
      "text/plain": [
       "                                                     Purchase Count  \\\n",
       "ItemID ItemName                                                       \n",
       "92     Final Critic                                              13   \n",
       "178    Oathbreaker, Last Hope of the Breaking Storm              12   \n",
       "145    Fiery Glass Crusader                                       9   \n",
       "132    Persuasion                                                 9   \n",
       "108    Extraction, Quickblade Of Trembling Hands                  9   \n",
       "\n",
       "                                                     Item Price  \\\n",
       "ItemID ItemName                                                   \n",
       "92     Final Critic                                    4.614615   \n",
       "178    Oathbreaker, Last Hope of the Breaking Storm    4.230000   \n",
       "145    Fiery Glass Crusader                            4.580000   \n",
       "132    Persuasion                                      3.221111   \n",
       "108    Extraction, Quickblade Of Trembling Hands       3.530000   \n",
       "\n",
       "                                                     Total Purchase Value  \n",
       "ItemID ItemName                                                            \n",
       "92     Final Critic                                                 59.99  \n",
       "178    Oathbreaker, Last Hope of the Breaking Storm                 50.76  \n",
       "145    Fiery Glass Crusader                                         41.22  \n",
       "132    Persuasion                                                   28.99  \n",
       "108    Extraction, Quickblade Of Trembling Hands                    31.77  "
      ],
      "text/html": "<div>\n<style scoped>\n    .dataframe tbody tr th:only-of-type {\n        vertical-align: middle;\n    }\n\n    .dataframe tbody tr th {\n        vertical-align: top;\n    }\n\n    .dataframe thead th {\n        text-align: right;\n    }\n</style>\n<table border=\"1\" class=\"dataframe\">\n  <thead>\n    <tr style=\"text-align: right;\">\n      <th></th>\n      <th></th>\n      <th>Purchase Count</th>\n      <th>Item Price</th>\n      <th>Total Purchase Value</th>\n    </tr>\n    <tr>\n      <th>ItemID</th>\n      <th>ItemName</th>\n      <th></th>\n      <th></th>\n      <th></th>\n    </tr>\n  </thead>\n  <tbody>\n    <tr>\n      <th>92</th>\n      <th>Final Critic</th>\n      <td>13</td>\n      <td>4.614615</td>\n      <td>59.99</td>\n    </tr>\n    <tr>\n      <th>178</th>\n      <th>Oathbreaker, Last Hope of the Breaking Storm</th>\n      <td>12</td>\n      <td>4.230000</td>\n      <td>50.76</td>\n    </tr>\n    <tr>\n      <th>145</th>\n      <th>Fiery Glass Crusader</th>\n      <td>9</td>\n      <td>4.580000</td>\n      <td>41.22</td>\n    </tr>\n    <tr>\n      <th>132</th>\n      <th>Persuasion</th>\n      <td>9</td>\n      <td>3.221111</td>\n      <td>28.99</td>\n    </tr>\n    <tr>\n      <th>108</th>\n      <th>Extraction, Quickblade Of Trembling Hands</th>\n      <td>9</td>\n      <td>3.530000</td>\n      <td>31.77</td>\n    </tr>\n  </tbody>\n</table>\n</div>"
     },
     "metadata": {},
     "execution_count": 243
    }
   ],
   "source": [
    "# Most Popular Items Table\n",
    "top5_items_df = item_analysis_df.head(5)\n",
    "top5_items_df"
   ]
  },
  {
   "cell_type": "markdown",
   "metadata": {},
   "source": [
    "## Most Profitable Items"
   ]
  },
  {
   "cell_type": "markdown",
   "metadata": {},
   "source": [
    "* Sort the above table by total purchase value in descending order\n",
    "\n",
    "\n",
    "* Optional: give the displayed data cleaner formatting\n",
    "\n",
    "\n",
    "* Display a preview of the data frame\n",
    "\n"
   ]
  },
  {
   "cell_type": "code",
   "execution_count": 247,
   "metadata": {
    "scrolled": true
   },
   "outputs": [
    {
     "output_type": "execute_result",
     "data": {
      "text/plain": [
       "                                                     Purchase Count  \\\n",
       "ItemID ItemName                                                       \n",
       "92     Final Critic                                              13   \n",
       "178    Oathbreaker, Last Hope of the Breaking Storm              12   \n",
       "82     Nirvana                                                    9   \n",
       "145    Fiery Glass Crusader                                       9   \n",
       "103    Singed Scalpel                                             8   \n",
       "...                                                             ...   \n",
       "28     Flux, Destroyer of Due Diligence                           2   \n",
       "126    Exiled Mithril Longsword                                   1   \n",
       "125    Whistling Mithril Warblade                                 2   \n",
       "104    Gladiator's Glaive                                         1   \n",
       "42     The Decapitator                                            1   \n",
       "\n",
       "                                                     Item Price  \\\n",
       "ItemID ItemName                                                   \n",
       "92     Final Critic                                    4.614615   \n",
       "178    Oathbreaker, Last Hope of the Breaking Storm    4.230000   \n",
       "82     Nirvana                                         4.900000   \n",
       "145    Fiery Glass Crusader                            4.580000   \n",
       "103    Singed Scalpel                                  4.350000   \n",
       "...                                                         ...   \n",
       "28     Flux, Destroyer of Due Diligence                1.060000   \n",
       "126    Exiled Mithril Longsword                        2.000000   \n",
       "125    Whistling Mithril Warblade                      1.000000   \n",
       "104    Gladiator's Glaive                              1.930000   \n",
       "42     The Decapitator                                 1.750000   \n",
       "\n",
       "                                                     Total Purchase Value  \n",
       "ItemID ItemName                                                            \n",
       "92     Final Critic                                                 59.99  \n",
       "178    Oathbreaker, Last Hope of the Breaking Storm                 50.76  \n",
       "82     Nirvana                                                      44.10  \n",
       "145    Fiery Glass Crusader                                         41.22  \n",
       "103    Singed Scalpel                                               34.80  \n",
       "...                                                                   ...  \n",
       "28     Flux, Destroyer of Due Diligence                              2.12  \n",
       "126    Exiled Mithril Longsword                                      2.00  \n",
       "125    Whistling Mithril Warblade                                    2.00  \n",
       "104    Gladiator's Glaive                                            1.93  \n",
       "42     The Decapitator                                               1.75  \n",
       "\n",
       "[179 rows x 3 columns]"
      ],
      "text/html": "<div>\n<style scoped>\n    .dataframe tbody tr th:only-of-type {\n        vertical-align: middle;\n    }\n\n    .dataframe tbody tr th {\n        vertical-align: top;\n    }\n\n    .dataframe thead th {\n        text-align: right;\n    }\n</style>\n<table border=\"1\" class=\"dataframe\">\n  <thead>\n    <tr style=\"text-align: right;\">\n      <th></th>\n      <th></th>\n      <th>Purchase Count</th>\n      <th>Item Price</th>\n      <th>Total Purchase Value</th>\n    </tr>\n    <tr>\n      <th>ItemID</th>\n      <th>ItemName</th>\n      <th></th>\n      <th></th>\n      <th></th>\n    </tr>\n  </thead>\n  <tbody>\n    <tr>\n      <th>92</th>\n      <th>Final Critic</th>\n      <td>13</td>\n      <td>4.614615</td>\n      <td>59.99</td>\n    </tr>\n    <tr>\n      <th>178</th>\n      <th>Oathbreaker, Last Hope of the Breaking Storm</th>\n      <td>12</td>\n      <td>4.230000</td>\n      <td>50.76</td>\n    </tr>\n    <tr>\n      <th>82</th>\n      <th>Nirvana</th>\n      <td>9</td>\n      <td>4.900000</td>\n      <td>44.10</td>\n    </tr>\n    <tr>\n      <th>145</th>\n      <th>Fiery Glass Crusader</th>\n      <td>9</td>\n      <td>4.580000</td>\n      <td>41.22</td>\n    </tr>\n    <tr>\n      <th>103</th>\n      <th>Singed Scalpel</th>\n      <td>8</td>\n      <td>4.350000</td>\n      <td>34.80</td>\n    </tr>\n    <tr>\n      <th>...</th>\n      <th>...</th>\n      <td>...</td>\n      <td>...</td>\n      <td>...</td>\n    </tr>\n    <tr>\n      <th>28</th>\n      <th>Flux, Destroyer of Due Diligence</th>\n      <td>2</td>\n      <td>1.060000</td>\n      <td>2.12</td>\n    </tr>\n    <tr>\n      <th>126</th>\n      <th>Exiled Mithril Longsword</th>\n      <td>1</td>\n      <td>2.000000</td>\n      <td>2.00</td>\n    </tr>\n    <tr>\n      <th>125</th>\n      <th>Whistling Mithril Warblade</th>\n      <td>2</td>\n      <td>1.000000</td>\n      <td>2.00</td>\n    </tr>\n    <tr>\n      <th>104</th>\n      <th>Gladiator's Glaive</th>\n      <td>1</td>\n      <td>1.930000</td>\n      <td>1.93</td>\n    </tr>\n    <tr>\n      <th>42</th>\n      <th>The Decapitator</th>\n      <td>1</td>\n      <td>1.750000</td>\n      <td>1.75</td>\n    </tr>\n  </tbody>\n</table>\n<p>179 rows × 3 columns</p>\n</div>"
     },
     "metadata": {},
     "execution_count": 247
    }
   ],
   "source": [
    "# Resorting item_analysis_df by purchase value rather than item count\n",
    "item_profit_df = item_analysis_df.sort_values(['Total Purchase Value'],ascending=False)\n",
    "item_profit_df"
   ]
  },
  {
   "cell_type": "code",
   "execution_count": 249,
   "metadata": {},
   "outputs": [
    {
     "output_type": "execute_result",
     "data": {
      "text/plain": [
       "                                                     Purchase Count  \\\n",
       "ItemID ItemName                                                       \n",
       "92     Final Critic                                              13   \n",
       "178    Oathbreaker, Last Hope of the Breaking Storm              12   \n",
       "82     Nirvana                                                    9   \n",
       "145    Fiery Glass Crusader                                       9   \n",
       "103    Singed Scalpel                                             8   \n",
       "\n",
       "                                                     Item Price  \\\n",
       "ItemID ItemName                                                   \n",
       "92     Final Critic                                    4.614615   \n",
       "178    Oathbreaker, Last Hope of the Breaking Storm    4.230000   \n",
       "82     Nirvana                                         4.900000   \n",
       "145    Fiery Glass Crusader                            4.580000   \n",
       "103    Singed Scalpel                                  4.350000   \n",
       "\n",
       "                                                     Total Purchase Value  \n",
       "ItemID ItemName                                                            \n",
       "92     Final Critic                                                 59.99  \n",
       "178    Oathbreaker, Last Hope of the Breaking Storm                 50.76  \n",
       "82     Nirvana                                                      44.10  \n",
       "145    Fiery Glass Crusader                                         41.22  \n",
       "103    Singed Scalpel                                               34.80  "
      ],
      "text/html": "<div>\n<style scoped>\n    .dataframe tbody tr th:only-of-type {\n        vertical-align: middle;\n    }\n\n    .dataframe tbody tr th {\n        vertical-align: top;\n    }\n\n    .dataframe thead th {\n        text-align: right;\n    }\n</style>\n<table border=\"1\" class=\"dataframe\">\n  <thead>\n    <tr style=\"text-align: right;\">\n      <th></th>\n      <th></th>\n      <th>Purchase Count</th>\n      <th>Item Price</th>\n      <th>Total Purchase Value</th>\n    </tr>\n    <tr>\n      <th>ItemID</th>\n      <th>ItemName</th>\n      <th></th>\n      <th></th>\n      <th></th>\n    </tr>\n  </thead>\n  <tbody>\n    <tr>\n      <th>92</th>\n      <th>Final Critic</th>\n      <td>13</td>\n      <td>4.614615</td>\n      <td>59.99</td>\n    </tr>\n    <tr>\n      <th>178</th>\n      <th>Oathbreaker, Last Hope of the Breaking Storm</th>\n      <td>12</td>\n      <td>4.230000</td>\n      <td>50.76</td>\n    </tr>\n    <tr>\n      <th>82</th>\n      <th>Nirvana</th>\n      <td>9</td>\n      <td>4.900000</td>\n      <td>44.10</td>\n    </tr>\n    <tr>\n      <th>145</th>\n      <th>Fiery Glass Crusader</th>\n      <td>9</td>\n      <td>4.580000</td>\n      <td>41.22</td>\n    </tr>\n    <tr>\n      <th>103</th>\n      <th>Singed Scalpel</th>\n      <td>8</td>\n      <td>4.350000</td>\n      <td>34.80</td>\n    </tr>\n  </tbody>\n</table>\n</div>"
     },
     "metadata": {},
     "execution_count": 249
    }
   ],
   "source": [
    "# Table for Most Profitable Items\n",
    "top5_profit_df = item_profit_df.head(5)\n",
    "top5_profit_df"
   ]
  },
  {
   "cell_type": "code",
   "execution_count": null,
   "metadata": {},
   "outputs": [],
   "source": []
  }
 ],
 "metadata": {
  "anaconda-cloud": {},
  "kernel_info": {
   "name": "python3"
  },
  "kernelspec": {
   "name": "python385jvsc74a57bd0797aaa517c2851f29685343c41d423cf5c6e3497bc2091e34cd352c6f05b7b6f",
   "display_name": "Python 3.8.5 64-bit ('base': conda)"
  },
  "language_info": {
   "codemirror_mode": {
    "name": "ipython",
    "version": 3
   },
   "file_extension": ".py",
   "mimetype": "text/x-python",
   "name": "python",
   "nbconvert_exporter": "python",
   "pygments_lexer": "ipython3",
   "version": "3.8.5"
  },
  "latex_envs": {
   "LaTeX_envs_menu_present": true,
   "autoclose": false,
   "autocomplete": true,
   "bibliofile": "biblio.bib",
   "cite_by": "apalike",
   "current_citInitial": 1,
   "eqLabelWithNumbers": true,
   "eqNumInitial": 1,
   "hotkeys": {
    "equation": "Ctrl-E",
    "itemize": "Ctrl-I"
   },
   "labels_anchors": false,
   "latex_user_defs": false,
   "report_style_numbering": false,
   "user_envs_cfg": false
  },
  "nteract": {
   "version": "0.2.0"
  },
  "metadata": {
   "interpreter": {
    "hash": "aee8b7b246df8f9039afb4144a1f6fd8d2ca17a180786b69acc140d282b71a49"
   }
  }
 },
 "nbformat": 4,
 "nbformat_minor": 2
}