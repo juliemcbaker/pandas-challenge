{
 "cells": [
  {
   "cell_type": "markdown",
   "metadata": {},
   "source": [
    "### Note\n",
    "* Instructions have been included for each segment. You do not have to follow them exactly, but they are included to help you think through the steps."
   ]
  },
  {
   "cell_type": "code",
   "execution_count": null,
   "metadata": {},
   "outputs": [],
   "source": [
    "# Julie Baker\n",
    "# Heroes of Pymoli\n",
    "# June 2021"
   ]
  },
  {
   "cell_type": "code",
   "execution_count": 58,
   "metadata": {},
   "outputs": [],
   "source": [
    "# Dependencies and Setup --> need to make sure it's on my 3.8.5 to get to work right now\n",
    "import pandas as pd\n",
    "import os\n",
    "import csv\n",
    "\n",
    "# File to Load (Remember to Change These)\n",
    "file_to_load = os.path.join(os.getcwd(), \"Resources\", \"purchase_data.csv\")\n",
    "\n",
    "# Read Purchasing File and store into Pandas data frame\n",
    "purchase_df = pd.read_csv(file_to_load)"
   ]
  },
  {
   "cell_type": "code",
   "execution_count": 59,
   "metadata": {},
   "outputs": [
    {
     "output_type": "execute_result",
     "data": {
      "text/plain": [
       "   Purchase ID             SN  Age Gender  Item ID  \\\n",
       "0            0        Lisim78   20   Male      108   \n",
       "1            1    Lisovynya38   40   Male      143   \n",
       "2            2     Ithergue48   24   Male       92   \n",
       "3            3  Chamassasya86   24   Male      100   \n",
       "4            4      Iskosia90   23   Male      131   \n",
       "\n",
       "                                   Item Name  Price  \n",
       "0  Extraction, Quickblade Of Trembling Hands   3.53  \n",
       "1                          Frenzied Scimitar   1.56  \n",
       "2                               Final Critic   4.88  \n",
       "3                                Blindscythe   3.27  \n",
       "4                                       Fury   1.44  "
      ],
      "text/html": "<div>\n<style scoped>\n    .dataframe tbody tr th:only-of-type {\n        vertical-align: middle;\n    }\n\n    .dataframe tbody tr th {\n        vertical-align: top;\n    }\n\n    .dataframe thead th {\n        text-align: right;\n    }\n</style>\n<table border=\"1\" class=\"dataframe\">\n  <thead>\n    <tr style=\"text-align: right;\">\n      <th></th>\n      <th>Purchase ID</th>\n      <th>SN</th>\n      <th>Age</th>\n      <th>Gender</th>\n      <th>Item ID</th>\n      <th>Item Name</th>\n      <th>Price</th>\n    </tr>\n  </thead>\n  <tbody>\n    <tr>\n      <th>0</th>\n      <td>0</td>\n      <td>Lisim78</td>\n      <td>20</td>\n      <td>Male</td>\n      <td>108</td>\n      <td>Extraction, Quickblade Of Trembling Hands</td>\n      <td>3.53</td>\n    </tr>\n    <tr>\n      <th>1</th>\n      <td>1</td>\n      <td>Lisovynya38</td>\n      <td>40</td>\n      <td>Male</td>\n      <td>143</td>\n      <td>Frenzied Scimitar</td>\n      <td>1.56</td>\n    </tr>\n    <tr>\n      <th>2</th>\n      <td>2</td>\n      <td>Ithergue48</td>\n      <td>24</td>\n      <td>Male</td>\n      <td>92</td>\n      <td>Final Critic</td>\n      <td>4.88</td>\n    </tr>\n    <tr>\n      <th>3</th>\n      <td>3</td>\n      <td>Chamassasya86</td>\n      <td>24</td>\n      <td>Male</td>\n      <td>100</td>\n      <td>Blindscythe</td>\n      <td>3.27</td>\n    </tr>\n    <tr>\n      <th>4</th>\n      <td>4</td>\n      <td>Iskosia90</td>\n      <td>23</td>\n      <td>Male</td>\n      <td>131</td>\n      <td>Fury</td>\n      <td>1.44</td>\n    </tr>\n  </tbody>\n</table>\n</div>"
     },
     "metadata": {},
     "execution_count": 59
    }
   ],
   "source": [
    "# just looking at data\n",
    "purchase_df.head(5)"
   ]
  },
  {
   "cell_type": "markdown",
   "metadata": {},
   "source": [
    "## Player Count"
   ]
  },
  {
   "cell_type": "markdown",
   "metadata": {},
   "source": [
    "* Display the total number of players\n"
   ]
  },
  {
   "cell_type": "code",
   "execution_count": 60,
   "metadata": {},
   "outputs": [
    {
     "output_type": "stream",
     "name": "stdout",
     "text": [
      "576\n"
     ]
    }
   ],
   "source": [
    "# SN unique\n",
    "user_count = len(purchase_df['SN'].unique())\n",
    "print(user_count)"
   ]
  },
  {
   "cell_type": "markdown",
   "metadata": {},
   "source": [
    "## Purchasing Analysis (Total)"
   ]
  },
  {
   "cell_type": "markdown",
   "metadata": {},
   "source": [
    "* Run basic calculations to obtain number of unique items, average price, etc.\n",
    "\n",
    "\n",
    "* Create a summary data frame to hold the results\n",
    "\n",
    "\n",
    "* Optional: give the displayed data cleaner formatting\n",
    "\n",
    "\n",
    "* Display the summary data frame\n"
   ]
  },
  {
   "cell_type": "code",
   "execution_count": 61,
   "metadata": {},
   "outputs": [
    {
     "output_type": "execute_result",
     "data": {
      "text/plain": [
       "   Unique Users  Unique Items  Average Price  Total Purchases  Total Revenue\n",
       "0           576           179       3.050987              780        2379.77"
      ],
      "text/html": "<div>\n<style scoped>\n    .dataframe tbody tr th:only-of-type {\n        vertical-align: middle;\n    }\n\n    .dataframe tbody tr th {\n        vertical-align: top;\n    }\n\n    .dataframe thead th {\n        text-align: right;\n    }\n</style>\n<table border=\"1\" class=\"dataframe\">\n  <thead>\n    <tr style=\"text-align: right;\">\n      <th></th>\n      <th>Unique Users</th>\n      <th>Unique Items</th>\n      <th>Average Price</th>\n      <th>Total Purchases</th>\n      <th>Total Revenue</th>\n    </tr>\n  </thead>\n  <tbody>\n    <tr>\n      <th>0</th>\n      <td>576</td>\n      <td>179</td>\n      <td>3.050987</td>\n      <td>780</td>\n      <td>2379.77</td>\n    </tr>\n  </tbody>\n</table>\n</div>"
     },
     "metadata": {},
     "execution_count": 61
    }
   ],
   "source": [
    "## WORK ON FORMATTING IF TIME LATER ##\n",
    "# ===================================\n",
    "# unique items\n",
    "item_count = len(purchase_df[\"Item ID\"].unique())\n",
    "# average purchase price\n",
    "avg_purchase = purchase_df.Price.mean()\n",
    "#.. avg_purchase['Average Price'] = avg_purchase['Average Price'].map(\"${:,.2}\".format)\n",
    "# total number of purchases\n",
    "total_purchases = len(purchase_df['Purchase ID'])\n",
    "# total revenue\n",
    "total_rev = purchase_df.Price.sum()\n",
    "\n",
    "purchase_analysis_df = pd.DataFrame(data = [[user_count, item_count, avg_purchase, total_purchases, total_rev]], columns=[\"Unique Users\", \"Unique Items\", \"Average Price\", \"Total Purchases\", \"Total Revenue\"])\n",
    "\n",
    "### pd.options.display.float_format = '${:, .2f}'.format\n",
    "\n",
    "purchase_analysis_df"
   ]
  },
  {
   "cell_type": "code",
   "execution_count": 62,
   "metadata": {
    "scrolled": true
   },
   "outputs": [
    {
     "output_type": "execute_result",
     "data": {
      "text/plain": [
       "     PurchaseID             SN  Age  Gender  ItemID  \\\n",
       "0             0        Lisim78   20    Male     108   \n",
       "1             1    Lisovynya38   40    Male     143   \n",
       "2             2     Ithergue48   24    Male      92   \n",
       "3             3  Chamassasya86   24    Male     100   \n",
       "4             4      Iskosia90   23    Male     131   \n",
       "..          ...            ...  ...     ...     ...   \n",
       "775         775     Aethedru70   21  Female      60   \n",
       "776         776         Iral74   21    Male     164   \n",
       "777         777     Yathecal72   20    Male      67   \n",
       "778         778        Sisur91    7    Male      92   \n",
       "779         779      Ennrian78   24    Male      50   \n",
       "\n",
       "                                      ItemName  Price  \n",
       "0    Extraction, Quickblade Of Trembling Hands   3.53  \n",
       "1                            Frenzied Scimitar   1.56  \n",
       "2                                 Final Critic   4.88  \n",
       "3                                  Blindscythe   3.27  \n",
       "4                                         Fury   1.44  \n",
       "..                                         ...    ...  \n",
       "775                                       Wolf   3.54  \n",
       "776                           Exiled Doomblade   1.63  \n",
       "777      Celeste, Incarnation of the Corrupted   3.46  \n",
       "778                               Final Critic   4.19  \n",
       "779                                       Dawn   4.60  \n",
       "\n",
       "[780 rows x 7 columns]"
      ],
      "text/html": "<div>\n<style scoped>\n    .dataframe tbody tr th:only-of-type {\n        vertical-align: middle;\n    }\n\n    .dataframe tbody tr th {\n        vertical-align: top;\n    }\n\n    .dataframe thead th {\n        text-align: right;\n    }\n</style>\n<table border=\"1\" class=\"dataframe\">\n  <thead>\n    <tr style=\"text-align: right;\">\n      <th></th>\n      <th>PurchaseID</th>\n      <th>SN</th>\n      <th>Age</th>\n      <th>Gender</th>\n      <th>ItemID</th>\n      <th>ItemName</th>\n      <th>Price</th>\n    </tr>\n  </thead>\n  <tbody>\n    <tr>\n      <th>0</th>\n      <td>0</td>\n      <td>Lisim78</td>\n      <td>20</td>\n      <td>Male</td>\n      <td>108</td>\n      <td>Extraction, Quickblade Of Trembling Hands</td>\n      <td>3.53</td>\n    </tr>\n    <tr>\n      <th>1</th>\n      <td>1</td>\n      <td>Lisovynya38</td>\n      <td>40</td>\n      <td>Male</td>\n      <td>143</td>\n      <td>Frenzied Scimitar</td>\n      <td>1.56</td>\n    </tr>\n    <tr>\n      <th>2</th>\n      <td>2</td>\n      <td>Ithergue48</td>\n      <td>24</td>\n      <td>Male</td>\n      <td>92</td>\n      <td>Final Critic</td>\n      <td>4.88</td>\n    </tr>\n    <tr>\n      <th>3</th>\n      <td>3</td>\n      <td>Chamassasya86</td>\n      <td>24</td>\n      <td>Male</td>\n      <td>100</td>\n      <td>Blindscythe</td>\n      <td>3.27</td>\n    </tr>\n    <tr>\n      <th>4</th>\n      <td>4</td>\n      <td>Iskosia90</td>\n      <td>23</td>\n      <td>Male</td>\n      <td>131</td>\n      <td>Fury</td>\n      <td>1.44</td>\n    </tr>\n    <tr>\n      <th>...</th>\n      <td>...</td>\n      <td>...</td>\n      <td>...</td>\n      <td>...</td>\n      <td>...</td>\n      <td>...</td>\n      <td>...</td>\n    </tr>\n    <tr>\n      <th>775</th>\n      <td>775</td>\n      <td>Aethedru70</td>\n      <td>21</td>\n      <td>Female</td>\n      <td>60</td>\n      <td>Wolf</td>\n      <td>3.54</td>\n    </tr>\n    <tr>\n      <th>776</th>\n      <td>776</td>\n      <td>Iral74</td>\n      <td>21</td>\n      <td>Male</td>\n      <td>164</td>\n      <td>Exiled Doomblade</td>\n      <td>1.63</td>\n    </tr>\n    <tr>\n      <th>777</th>\n      <td>777</td>\n      <td>Yathecal72</td>\n      <td>20</td>\n      <td>Male</td>\n      <td>67</td>\n      <td>Celeste, Incarnation of the Corrupted</td>\n      <td>3.46</td>\n    </tr>\n    <tr>\n      <th>778</th>\n      <td>778</td>\n      <td>Sisur91</td>\n      <td>7</td>\n      <td>Male</td>\n      <td>92</td>\n      <td>Final Critic</td>\n      <td>4.19</td>\n    </tr>\n    <tr>\n      <th>779</th>\n      <td>779</td>\n      <td>Ennrian78</td>\n      <td>24</td>\n      <td>Male</td>\n      <td>50</td>\n      <td>Dawn</td>\n      <td>4.60</td>\n    </tr>\n  </tbody>\n</table>\n<p>780 rows × 7 columns</p>\n</div>"
     },
     "metadata": {},
     "execution_count": 62
    }
   ],
   "source": [
    "# Renaming columns to remove spaces \n",
    "update_purchase_df = purchase_df.rename(columns={'Purchase ID':'PurchaseID', 'Item ID' : 'ItemID', 'Item Name' : 'ItemName'})\n",
    "\n",
    "update_purchase_df"
   ]
  },
  {
   "cell_type": "markdown",
   "metadata": {},
   "source": [
    "## Gender Demographics"
   ]
  },
  {
   "cell_type": "markdown",
   "metadata": {},
   "source": [
    "* Percentage and Count of Male Players\n",
    "\n",
    "\n",
    "* Percentage and Count of Female Players\n",
    "\n",
    "\n",
    "* Percentage and Count of Other / Non-Disclosed\n",
    "\n",
    "\n"
   ]
  },
  {
   "cell_type": "code",
   "execution_count": 63,
   "metadata": {},
   "outputs": [
    {
     "output_type": "execute_result",
     "data": {
      "text/plain": [
       "SN             Gender\n",
       "Adairialis76   Male      1\n",
       "Adastirin33    Female    1\n",
       "Aeda94         Male      1\n",
       "Aela59         Male      1\n",
       "Aelaria33      Male      1\n",
       "                        ..\n",
       "Yathecal82     Female    3\n",
       "Yathedeu43     Male      2\n",
       "Yoishirrala98  Female    1\n",
       "Zhisrisu83     Male      2\n",
       "Zontibe81      Male      3\n",
       "Name: Gender, Length: 576, dtype: int64"
      ]
     },
     "metadata": {},
     "execution_count": 63
    }
   ],
   "source": [
    "# gender demographics; based on code example from stackoverflow.com\n",
    "gender_fixed = update_purchase_df.groupby(['SN','Gender'])['Gender'].count()\n",
    "\n",
    "## THERE IS A PROBLEM WITH THIS -- it's based on all lines of data (thus summing to 780), but should just be subset based on user id (which is 576) to remove duplicates--discrepancy can be seen between these values and those generated from the newly created dataframes below\n",
    "gender_fixed"
   ]
  },
  {
   "cell_type": "code",
   "execution_count": 64,
   "metadata": {},
   "outputs": [],
   "source": [
    "# Creating dataframes for each gender group because using the original dataframe doesn't take duplicate users into account\n",
    "\n",
    "# Female users\n",
    "female_users_df = update_purchase_df.loc[update_purchase_df[\"Gender\"] == \"Female\", :]\n",
    "# Male users\n",
    "male_users_df = update_purchase_df.loc[update_purchase_df[\"Gender\"] == \"Male\", :]\n",
    "# Other users\n",
    "other_users_df = update_purchase_df.loc[update_purchase_df[\"Gender\"] == \"Other / Non-Disclosed\", :]"
   ]
  },
  {
   "cell_type": "code",
   "execution_count": 65,
   "metadata": {},
   "outputs": [],
   "source": [
    "# female count\n",
    "female_count = len(female_users_df.SN.unique())\n",
    "# female percentage\n",
    "female_percent = (female_count / user_count)*100"
   ]
  },
  {
   "cell_type": "code",
   "execution_count": 66,
   "metadata": {},
   "outputs": [],
   "source": [
    "# male count & percentage\n",
    "male_count = len(male_users_df.SN.unique())\n",
    "male_percent = male_count / user_count*100"
   ]
  },
  {
   "cell_type": "code",
   "execution_count": 67,
   "metadata": {},
   "outputs": [],
   "source": [
    "# other count & percentage\n",
    "other_count = len(other_users_df.SN.unique())\n",
    "other_percent = (other_count / user_count)*100"
   ]
  },
  {
   "cell_type": "code",
   "execution_count": 68,
   "metadata": {},
   "outputs": [
    {
     "output_type": "execute_result",
     "data": {
      "text/plain": [
       "                  Gender  Player Count  Percent of Players\n",
       "0                 Female            81           14.062500\n",
       "1                   Male           484           84.027778\n",
       "2  Other / Not Disclosed            11            1.909722\n",
       "3          Total Players           576          100.000000"
      ],
      "text/html": "<div>\n<style scoped>\n    .dataframe tbody tr th:only-of-type {\n        vertical-align: middle;\n    }\n\n    .dataframe tbody tr th {\n        vertical-align: top;\n    }\n\n    .dataframe thead th {\n        text-align: right;\n    }\n</style>\n<table border=\"1\" class=\"dataframe\">\n  <thead>\n    <tr style=\"text-align: right;\">\n      <th></th>\n      <th>Gender</th>\n      <th>Player Count</th>\n      <th>Percent of Players</th>\n    </tr>\n  </thead>\n  <tbody>\n    <tr>\n      <th>0</th>\n      <td>Female</td>\n      <td>81</td>\n      <td>14.062500</td>\n    </tr>\n    <tr>\n      <th>1</th>\n      <td>Male</td>\n      <td>484</td>\n      <td>84.027778</td>\n    </tr>\n    <tr>\n      <th>2</th>\n      <td>Other / Not Disclosed</td>\n      <td>11</td>\n      <td>1.909722</td>\n    </tr>\n    <tr>\n      <th>3</th>\n      <td>Total Players</td>\n      <td>576</td>\n      <td>100.000000</td>\n    </tr>\n  </tbody>\n</table>\n</div>"
     },
     "metadata": {},
     "execution_count": 68
    }
   ],
   "source": [
    "# Gender Demographics Output\n",
    "\n",
    "gender_demo_df = pd.DataFrame({\n",
    "    \"Gender\": [\"Female\", \"Male\", \"Other / Not Disclosed\", \"Total Players\"],\n",
    "    \"Player Count\": [female_count, male_count, other_count, user_count],\n",
    "    \"Percent of Players\": [female_percent, male_percent, other_percent, 100]\n",
    "})\n",
    "\n",
    "# gender_demo_df[\"Percent of Players\"] = gender_demo_df[\"Percent of Players\"].map('{:.2%f}')\n",
    "# pd.options.display.float_format = '{:.2%}'.format FIGURE THIS OUT LATER, WAS MESSING UP STUFF LATER\n",
    "\n",
    "#purchase_analysis_df = pd.DataFrame(data = [[user_count, item_count, avg_purchase, total_purchases, total_rev]], columns=[\"Unique Users\", \"Unique Items\", \"Average Price\", \"Total Purchases\", \"Total Revenue\"])\n",
    "gender_demo_df"
   ]
  },
  {
   "cell_type": "markdown",
   "metadata": {},
   "source": [
    "\n",
    "## Purchasing Analysis (Gender)"
   ]
  },
  {
   "cell_type": "markdown",
   "metadata": {},
   "source": [
    "* Run basic calculations to obtain purchase count, avg. purchase price, avg. purchase total per person etc. by gender\n",
    "\n",
    "\n",
    "\n",
    "\n",
    "* Create a summary data frame to hold the results\n",
    "\n",
    "\n",
    "* Optional: give the displayed data cleaner formatting\n",
    "\n",
    "\n",
    "* Display the summary data frame"
   ]
  },
  {
   "cell_type": "code",
   "execution_count": 69,
   "metadata": {},
   "outputs": [],
   "source": [
    "# purchase count by gender\n",
    "female_purchases = female_users_df[\"PurchaseID\"].count()\n",
    "male_purchases = male_users_df[\"PurchaseID\"].count()\n",
    "other_purchases = other_users_df[\"PurchaseID\"].count()"
   ]
  },
  {
   "cell_type": "code",
   "execution_count": 70,
   "metadata": {},
   "outputs": [],
   "source": [
    "# average purchase price by gender\n",
    "avg_price_female = female_users_df.Price.mean()\n",
    "avg_price_male = male_users_df.Price.mean()\n",
    "avg_price_other = other_users_df.Price.mean()"
   ]
  },
  {
   "cell_type": "code",
   "execution_count": 71,
   "metadata": {},
   "outputs": [],
   "source": [
    "# total purchase value by gender\n",
    "total_rev = purchase_df.Price.sum()\n",
    "total_purchase_female = female_users_df.Price.sum()\n",
    "total_purchase_male = male_users_df.Price.sum()\n",
    "total_purchase_other = other_users_df.Price.sum()"
   ]
  },
  {
   "cell_type": "code",
   "execution_count": 72,
   "metadata": {},
   "outputs": [],
   "source": [
    "# average purchase total per PERSON per GENDER\n",
    "avg_purchase = purchase_df.Price.mean()\n",
    "avg_total_females = total_purchase_female/female_count\n",
    "avg_total_males = total_purchase_male/male_count\n",
    "avg_total_other = total_purchase_other/other_count\n"
   ]
  },
  {
   "cell_type": "code",
   "execution_count": 73,
   "metadata": {},
   "outputs": [
    {
     "output_type": "execute_result",
     "data": {
      "text/plain": [
       "                  Gender  Player Count  Percent of Players  Purchase Count  \\\n",
       "0                 Female            81           14.062500             113   \n",
       "1                   Male           484           84.027778             652   \n",
       "2  Other / Not Disclosed            11            1.909722              15   \n",
       "\n",
       "   Average Purchase Price  Total Purchase Value  \\\n",
       "0                3.203009                361.94   \n",
       "1                3.017853               1967.64   \n",
       "2                3.346000                 50.19   \n",
       "\n",
       "   Average Purchase Total per Person by Gender  \n",
       "0                                     4.468395  \n",
       "1                                     4.065372  \n",
       "2                                     4.562727  "
      ],
      "text/html": "<div>\n<style scoped>\n    .dataframe tbody tr th:only-of-type {\n        vertical-align: middle;\n    }\n\n    .dataframe tbody tr th {\n        vertical-align: top;\n    }\n\n    .dataframe thead th {\n        text-align: right;\n    }\n</style>\n<table border=\"1\" class=\"dataframe\">\n  <thead>\n    <tr style=\"text-align: right;\">\n      <th></th>\n      <th>Gender</th>\n      <th>Player Count</th>\n      <th>Percent of Players</th>\n      <th>Purchase Count</th>\n      <th>Average Purchase Price</th>\n      <th>Total Purchase Value</th>\n      <th>Average Purchase Total per Person by Gender</th>\n    </tr>\n  </thead>\n  <tbody>\n    <tr>\n      <th>0</th>\n      <td>Female</td>\n      <td>81</td>\n      <td>14.062500</td>\n      <td>113</td>\n      <td>3.203009</td>\n      <td>361.94</td>\n      <td>4.468395</td>\n    </tr>\n    <tr>\n      <th>1</th>\n      <td>Male</td>\n      <td>484</td>\n      <td>84.027778</td>\n      <td>652</td>\n      <td>3.017853</td>\n      <td>1967.64</td>\n      <td>4.065372</td>\n    </tr>\n    <tr>\n      <th>2</th>\n      <td>Other / Not Disclosed</td>\n      <td>11</td>\n      <td>1.909722</td>\n      <td>15</td>\n      <td>3.346000</td>\n      <td>50.19</td>\n      <td>4.562727</td>\n    </tr>\n  </tbody>\n</table>\n</div>"
     },
     "metadata": {},
     "execution_count": 73
    }
   ],
   "source": [
    "## PURCHASING ANALYSIS (Gender)\n",
    "\n",
    "gender_purchasing_df = pd.DataFrame({\n",
    "    \"Gender\": [\"Female\", \"Male\", \"Other / Not Disclosed\"],\n",
    "    \"Player Count\": [female_count, male_count, other_count],\n",
    "    \"Percent of Players\": [female_percent, male_percent, other_percent],\n",
    "    \"Purchase Count\": [female_purchases, male_purchases, other_purchases],\n",
    "    \"Average Purchase Price\": [avg_price_female, avg_price_male, avg_price_other],\n",
    "    \"Total Purchase Value\": [total_purchase_female, total_purchase_male, total_purchase_other],\n",
    "    \"Average Purchase Total per Person by Gender\": [avg_total_females, avg_total_males, avg_total_other]\n",
    "})\n",
    "gender_purchasing_df"
   ]
  },
  {
   "cell_type": "markdown",
   "metadata": {},
   "source": [
    "## Age Demographics"
   ]
  },
  {
   "cell_type": "markdown",
   "metadata": {},
   "source": [
    "* Establish bins for ages\n",
    "\n",
    "\n",
    "* Categorize the existing players using the age bins. Hint: use pd.cut()\n",
    "\n",
    "\n",
    "* Calculate the numbers and percentages by age group\n",
    "\n",
    "\n",
    "* Create a summary data frame to hold the results\n",
    "\n",
    "\n",
    "* Optional: round the percentage column to two decimal points\n",
    "\n",
    "\n",
    "* Display Age Demographics Table\n"
   ]
  },
  {
   "cell_type": "code",
   "execution_count": 74,
   "metadata": {},
   "outputs": [],
   "source": [
    "# esatblish bins for ages\n",
    "bins = [0, 10, 14, 18, 22, 26, 30, 34, 38, 42, 46]\n",
    "age_labels = [\"10 and under\", \"11-14\", \"15-18\", \"19-22\", \"23-26\", \"27-30\", \"31-34\", \"35-38\", \"39-42\", \"43-46\"]"
   ]
  },
  {
   "cell_type": "code",
   "execution_count": 75,
   "metadata": {},
   "outputs": [
    {
     "output_type": "execute_result",
     "data": {
      "text/plain": [
       "     PurchaseID             SN  Age  Gender  ItemID  \\\n",
       "0             0        Lisim78   20    Male     108   \n",
       "1             1    Lisovynya38   40    Male     143   \n",
       "2             2     Ithergue48   24    Male      92   \n",
       "3             3  Chamassasya86   24    Male     100   \n",
       "4             4      Iskosia90   23    Male     131   \n",
       "..          ...            ...  ...     ...     ...   \n",
       "775         775     Aethedru70   21  Female      60   \n",
       "776         776         Iral74   21    Male     164   \n",
       "777         777     Yathecal72   20    Male      67   \n",
       "778         778        Sisur91    7    Male      92   \n",
       "779         779      Ennrian78   24    Male      50   \n",
       "\n",
       "                                      ItemName  Price     Age Group  \n",
       "0    Extraction, Quickblade Of Trembling Hands   3.53         19-22  \n",
       "1                            Frenzied Scimitar   1.56         39-42  \n",
       "2                                 Final Critic   4.88         23-26  \n",
       "3                                  Blindscythe   3.27         23-26  \n",
       "4                                         Fury   1.44         23-26  \n",
       "..                                         ...    ...           ...  \n",
       "775                                       Wolf   3.54         19-22  \n",
       "776                           Exiled Doomblade   1.63         19-22  \n",
       "777      Celeste, Incarnation of the Corrupted   3.46         19-22  \n",
       "778                               Final Critic   4.19  10 and under  \n",
       "779                                       Dawn   4.60         23-26  \n",
       "\n",
       "[780 rows x 8 columns]"
      ],
      "text/html": "<div>\n<style scoped>\n    .dataframe tbody tr th:only-of-type {\n        vertical-align: middle;\n    }\n\n    .dataframe tbody tr th {\n        vertical-align: top;\n    }\n\n    .dataframe thead th {\n        text-align: right;\n    }\n</style>\n<table border=\"1\" class=\"dataframe\">\n  <thead>\n    <tr style=\"text-align: right;\">\n      <th></th>\n      <th>PurchaseID</th>\n      <th>SN</th>\n      <th>Age</th>\n      <th>Gender</th>\n      <th>ItemID</th>\n      <th>ItemName</th>\n      <th>Price</th>\n      <th>Age Group</th>\n    </tr>\n  </thead>\n  <tbody>\n    <tr>\n      <th>0</th>\n      <td>0</td>\n      <td>Lisim78</td>\n      <td>20</td>\n      <td>Male</td>\n      <td>108</td>\n      <td>Extraction, Quickblade Of Trembling Hands</td>\n      <td>3.53</td>\n      <td>19-22</td>\n    </tr>\n    <tr>\n      <th>1</th>\n      <td>1</td>\n      <td>Lisovynya38</td>\n      <td>40</td>\n      <td>Male</td>\n      <td>143</td>\n      <td>Frenzied Scimitar</td>\n      <td>1.56</td>\n      <td>39-42</td>\n    </tr>\n    <tr>\n      <th>2</th>\n      <td>2</td>\n      <td>Ithergue48</td>\n      <td>24</td>\n      <td>Male</td>\n      <td>92</td>\n      <td>Final Critic</td>\n      <td>4.88</td>\n      <td>23-26</td>\n    </tr>\n    <tr>\n      <th>3</th>\n      <td>3</td>\n      <td>Chamassasya86</td>\n      <td>24</td>\n      <td>Male</td>\n      <td>100</td>\n      <td>Blindscythe</td>\n      <td>3.27</td>\n      <td>23-26</td>\n    </tr>\n    <tr>\n      <th>4</th>\n      <td>4</td>\n      <td>Iskosia90</td>\n      <td>23</td>\n      <td>Male</td>\n      <td>131</td>\n      <td>Fury</td>\n      <td>1.44</td>\n      <td>23-26</td>\n    </tr>\n    <tr>\n      <th>...</th>\n      <td>...</td>\n      <td>...</td>\n      <td>...</td>\n      <td>...</td>\n      <td>...</td>\n      <td>...</td>\n      <td>...</td>\n      <td>...</td>\n    </tr>\n    <tr>\n      <th>775</th>\n      <td>775</td>\n      <td>Aethedru70</td>\n      <td>21</td>\n      <td>Female</td>\n      <td>60</td>\n      <td>Wolf</td>\n      <td>3.54</td>\n      <td>19-22</td>\n    </tr>\n    <tr>\n      <th>776</th>\n      <td>776</td>\n      <td>Iral74</td>\n      <td>21</td>\n      <td>Male</td>\n      <td>164</td>\n      <td>Exiled Doomblade</td>\n      <td>1.63</td>\n      <td>19-22</td>\n    </tr>\n    <tr>\n      <th>777</th>\n      <td>777</td>\n      <td>Yathecal72</td>\n      <td>20</td>\n      <td>Male</td>\n      <td>67</td>\n      <td>Celeste, Incarnation of the Corrupted</td>\n      <td>3.46</td>\n      <td>19-22</td>\n    </tr>\n    <tr>\n      <th>778</th>\n      <td>778</td>\n      <td>Sisur91</td>\n      <td>7</td>\n      <td>Male</td>\n      <td>92</td>\n      <td>Final Critic</td>\n      <td>4.19</td>\n      <td>10 and under</td>\n    </tr>\n    <tr>\n      <th>779</th>\n      <td>779</td>\n      <td>Ennrian78</td>\n      <td>24</td>\n      <td>Male</td>\n      <td>50</td>\n      <td>Dawn</td>\n      <td>4.60</td>\n      <td>23-26</td>\n    </tr>\n  </tbody>\n</table>\n<p>780 rows × 8 columns</p>\n</div>"
     },
     "metadata": {},
     "execution_count": 75
    }
   ],
   "source": [
    "# use pd.cut() to categorize players using age bins\n",
    "age_df = update_purchase_df\n",
    "age_df[\"Age Group\"] = pd.cut(age_df[\"Age\"], bins, labels=age_labels)\n",
    "age_df"
   ]
  },
  {
   "cell_type": "code",
   "execution_count": 76,
   "metadata": {},
   "outputs": [
    {
     "output_type": "execute_result",
     "data": {
      "text/plain": [
       "Age Group\n",
       "10 and under     24\n",
       "11-14            15\n",
       "15-18            90\n",
       "19-22           178\n",
       "23-26           151\n",
       "27-30            48\n",
       "31-34            27\n",
       "35-38            25\n",
       "39-42            14\n",
       "43-46             4\n",
       "Name: SN, dtype: int64"
      ]
     },
     "metadata": {},
     "execution_count": 76
    }
   ],
   "source": [
    "# Using the groupby function on this data per the rubric--but again, because it doesn't account for duplicate purchases by a user it isn't accurate, so the values in my tables will come from other calculations\n",
    "\n",
    "age_duplicates = age_df.groupby(['Age Group'])['SN'].nunique()\n",
    "age_duplicates"
   ]
  },
  {
   "cell_type": "code",
   "execution_count": 77,
   "metadata": {},
   "outputs": [],
   "source": [
    "# Creating dataframes for each age group\n",
    "\n",
    "group01_df = age_df.loc[update_purchase_df[\"Age Group\"] == \"10 and under\", :]\n",
    "group02_df = age_df.loc[update_purchase_df[\"Age Group\"] == \"11-14\", :]\n",
    "group03_df = age_df.loc[update_purchase_df[\"Age Group\"] == \"15-18\", :]\n",
    "group04_df = age_df.loc[update_purchase_df[\"Age Group\"] == \"19-22\", :]\n",
    "group05_df = age_df.loc[update_purchase_df[\"Age Group\"] == \"23-26\", :]\n",
    "group06_df = age_df.loc[update_purchase_df[\"Age Group\"] == \"27-30\", :]\n",
    "group07_df = age_df.loc[update_purchase_df[\"Age Group\"] == \"31-34\", :]\n",
    "group08_df = age_df.loc[update_purchase_df[\"Age Group\"] == \"35-38\", :]\n",
    "group09_df = age_df.loc[update_purchase_df[\"Age Group\"] == \"39-42\", :]\n",
    "group10_df = age_df.loc[update_purchase_df[\"Age Group\"] == \"43-46\", :]"
   ]
  },
  {
   "cell_type": "code",
   "execution_count": 78,
   "metadata": {},
   "outputs": [],
   "source": [
    "# age group counts\n",
    "grp01_users = len(group01_df['SN'].unique())\n",
    "grp02_users = len(group02_df['SN'].unique())\n",
    "grp03_users = len(group03_df['SN'].unique())\n",
    "grp04_users = len(group04_df['SN'].unique())\n",
    "grp05_users = len(group05_df['SN'].unique())\n",
    "grp06_users = len(group06_df['SN'].unique())\n",
    "grp07_users = len(group07_df['SN'].unique())\n",
    "grp08_users = len(group08_df['SN'].unique())\n",
    "grp09_users = len(group09_df['SN'].unique())\n",
    "grp10_users = len(group10_df['SN'].unique())\n",
    "\n",
    "age_counts = [grp01_users, grp02_users, grp03_users, grp04_users, grp05_users, grp06_users, grp07_users, grp08_users, grp09_users, grp10_users]"
   ]
  },
  {
   "cell_type": "code",
   "execution_count": 79,
   "metadata": {},
   "outputs": [],
   "source": [
    "# age group percents\n",
    "grp01_percent = grp01_users / user_count *100\n",
    "grp02_percent = grp02_users / user_count *100\n",
    "grp03_percent = grp03_users / user_count *100\n",
    "grp04_percent = grp04_users / user_count *100\n",
    "grp05_percent = grp05_users / user_count *100\n",
    "grp06_percent = grp06_users / user_count *100\n",
    "grp07_percent = grp07_users / user_count *100\n",
    "grp08_percent = grp08_users / user_count *100\n",
    "grp09_percent = grp09_users / user_count *100\n",
    "grp10_percent = grp10_users / user_count *100\n",
    "\n",
    "age_percents = [grp01_percent, grp02_percent, grp03_percent, grp04_percent, grp05_percent, grp06_percent, grp07_percent, grp08_percent, grp09_percent, grp10_percent]"
   ]
  },
  {
   "cell_type": "code",
   "execution_count": 80,
   "metadata": {},
   "outputs": [],
   "source": [
    "# create a summary df to hold the results; opt: round percentage to two decimals\n",
    "age_demo_df = pd.DataFrame({\n",
    "    \"Age\": age_labels,\n",
    "    \"Player Count\": age_counts,\n",
    "    \"Percent of Players\": age_percents\n",
    "})"
   ]
  },
  {
   "cell_type": "code",
   "execution_count": 81,
   "metadata": {},
   "outputs": [
    {
     "output_type": "execute_result",
     "data": {
      "text/plain": [
       "            Age  Player Count  Percent of Players\n",
       "0  10 and under            24            4.166667\n",
       "1         11-14            15            2.604167\n",
       "2         15-18            90           15.625000\n",
       "3         19-22           178           30.902778\n",
       "4         23-26           151           26.215278\n",
       "5         27-30            48            8.333333\n",
       "6         31-34            27            4.687500\n",
       "7         35-38            25            4.340278\n",
       "8         39-42            14            2.430556\n",
       "9         43-46             4            0.694444"
      ],
      "text/html": "<div>\n<style scoped>\n    .dataframe tbody tr th:only-of-type {\n        vertical-align: middle;\n    }\n\n    .dataframe tbody tr th {\n        vertical-align: top;\n    }\n\n    .dataframe thead th {\n        text-align: right;\n    }\n</style>\n<table border=\"1\" class=\"dataframe\">\n  <thead>\n    <tr style=\"text-align: right;\">\n      <th></th>\n      <th>Age</th>\n      <th>Player Count</th>\n      <th>Percent of Players</th>\n    </tr>\n  </thead>\n  <tbody>\n    <tr>\n      <th>0</th>\n      <td>10 and under</td>\n      <td>24</td>\n      <td>4.166667</td>\n    </tr>\n    <tr>\n      <th>1</th>\n      <td>11-14</td>\n      <td>15</td>\n      <td>2.604167</td>\n    </tr>\n    <tr>\n      <th>2</th>\n      <td>15-18</td>\n      <td>90</td>\n      <td>15.625000</td>\n    </tr>\n    <tr>\n      <th>3</th>\n      <td>19-22</td>\n      <td>178</td>\n      <td>30.902778</td>\n    </tr>\n    <tr>\n      <th>4</th>\n      <td>23-26</td>\n      <td>151</td>\n      <td>26.215278</td>\n    </tr>\n    <tr>\n      <th>5</th>\n      <td>27-30</td>\n      <td>48</td>\n      <td>8.333333</td>\n    </tr>\n    <tr>\n      <th>6</th>\n      <td>31-34</td>\n      <td>27</td>\n      <td>4.687500</td>\n    </tr>\n    <tr>\n      <th>7</th>\n      <td>35-38</td>\n      <td>25</td>\n      <td>4.340278</td>\n    </tr>\n    <tr>\n      <th>8</th>\n      <td>39-42</td>\n      <td>14</td>\n      <td>2.430556</td>\n    </tr>\n    <tr>\n      <th>9</th>\n      <td>43-46</td>\n      <td>4</td>\n      <td>0.694444</td>\n    </tr>\n  </tbody>\n</table>\n</div>"
     },
     "metadata": {},
     "execution_count": 81
    }
   ],
   "source": [
    "# display Age Demographics Table\n",
    "age_demo_df"
   ]
  },
  {
   "cell_type": "markdown",
   "metadata": {},
   "source": [
    "## Purchasing Analysis (Age)"
   ]
  },
  {
   "cell_type": "markdown",
   "metadata": {},
   "source": [
    "* Bin the purchase_data data frame by age\n",
    "\n",
    "\n",
    "* Run basic calculations to obtain purchase count, avg. purchase price, avg. purchase total per person etc. in the table below\n",
    "\n",
    "\n",
    "* Create a summary data frame to hold the results\n",
    "\n",
    "\n",
    "* Optional: give the displayed data cleaner formatting\n",
    "\n",
    "\n",
    "* Display the summary data frame"
   ]
  },
  {
   "cell_type": "code",
   "execution_count": 82,
   "metadata": {},
   "outputs": [],
   "source": [
    "# calculate the numbers & percentages by age group: purchase count, avg purchase price, total purchase value, avg purchase total per person by age\n",
    "###  NEED TO FIGURE OUT HOW TO SAVE THIS IN A WAY THAT OUTPUT CAN BE CALLED -OUTSIDE- THE FUNCTION SO CAN CONCATENATE ALL RESULTS\n",
    "\n",
    "def analyze_purchases(your_frame):\n",
    "    your_group = your_frame[\"SN\"]\n",
    "    purchase_count = len(your_frame['PurchaseID'])\n",
    "    avg_price = your_frame.Price.mean()\n",
    "    total_value = your_frame.Price.sum()\n",
    "    users_in_grp = your_frame['SN'].nunique()\n",
    "    avg_total_grp = total_value / users_in_grp\n",
    "    your_output_df = pd.DataFrame({\n",
    "        \"Age Group\": [your_group],\n",
    "        \"Users in Group\": [users_in_grp],\n",
    "        \"Purchase Count\": [purchase_count],\n",
    "        \"Average Purchase Price\": [avg_price],\n",
    "        \"Total Purchase Value\": [total_value],\n",
    "        \"Average Purchase Total per Person by Age\": [avg_total_grp] \n",
    "        })\n",
    "    #print(purchase_count, avg_price, total_value, users_in_grp, avg_total_grp)\n",
    "    return your_output_df\n",
    "    # export as CSV to read in later? TRY AGAIN ON THIS LATER\n",
    "    # your_output_df.to_csv(os.path.join(os.getcwd(),\"HeroesOfPymoli\", \"Output\",\"fileOut.csv\"))"
   ]
  },
  {
   "cell_type": "code",
   "execution_count": null,
   "metadata": {},
   "outputs": [],
   "source": []
  },
  {
   "cell_type": "code",
   "execution_count": 83,
   "metadata": {},
   "outputs": [
    {
     "output_type": "execute_result",
     "data": {
      "text/plain": [
       "                                           Age Group  Users in Group  \\\n",
       "0  248      Isursuir31\n",
       "674         Aeral68\n",
       "728   ...               4   \n",
       "\n",
       "   Purchase Count  Average Purchase Price  Total Purchase Value  \\\n",
       "0               4                   2.765                 11.06   \n",
       "\n",
       "   Average Purchase Total per Person by Age  \n",
       "0                                     2.765  "
      ],
      "text/html": "<div>\n<style scoped>\n    .dataframe tbody tr th:only-of-type {\n        vertical-align: middle;\n    }\n\n    .dataframe tbody tr th {\n        vertical-align: top;\n    }\n\n    .dataframe thead th {\n        text-align: right;\n    }\n</style>\n<table border=\"1\" class=\"dataframe\">\n  <thead>\n    <tr style=\"text-align: right;\">\n      <th></th>\n      <th>Age Group</th>\n      <th>Users in Group</th>\n      <th>Purchase Count</th>\n      <th>Average Purchase Price</th>\n      <th>Total Purchase Value</th>\n      <th>Average Purchase Total per Person by Age</th>\n    </tr>\n  </thead>\n  <tbody>\n    <tr>\n      <th>0</th>\n      <td>248      Isursuir31\n674         Aeral68\n728   ...</td>\n      <td>4</td>\n      <td>4</td>\n      <td>2.765</td>\n      <td>11.06</td>\n      <td>2.765</td>\n    </tr>\n  </tbody>\n</table>\n</div>"
     },
     "metadata": {},
     "execution_count": 83
    }
   ],
   "source": [
    "### Why does my output_df not look like a df?\n",
    "### Why am I getting multiple lines on this? \n",
    "grp_10_results_df = analyze_purchases(group10_df)\n",
    "grp_10_results_df"
   ]
  },
  {
   "cell_type": "code",
   "execution_count": 84,
   "metadata": {},
   "outputs": [
    {
     "output_type": "stream",
     "name": "stdout",
     "text": [
      "                                           Age Group  Users in Group  \\\n0  248      Isursuir31\n674         Aeral68\n728   ...               4   \n\n   Purchase Count  Average Purchase Price  Total Purchase Value  \\\n0               4                   2.765                 11.06   \n\n   Average Purchase Total per Person by Age  \n0                                     2.765  \n"
     ]
    }
   ],
   "source": [
    "# Compile all summary data\n",
    "print(grp_10_results_df)"
   ]
  },
  {
   "cell_type": "code",
   "execution_count": 85,
   "metadata": {},
   "outputs": [],
   "source": [
    "# display Purchasing Analysis (Age)"
   ]
  },
  {
   "cell_type": "markdown",
   "metadata": {},
   "source": [
    "## Top Spenders"
   ]
  },
  {
   "cell_type": "markdown",
   "metadata": {},
   "source": [
    "* Run basic calculations to obtain the results in the table below\n",
    "\n",
    "\n",
    "* Create a summary data frame to hold the results\n",
    "\n",
    "\n",
    "* Sort the total purchase value column in descending order\n",
    "\n",
    "\n",
    "* Optional: give the displayed data cleaner formatting\n",
    "\n",
    "\n",
    "* Display a preview of the summary data frame\n",
    "\n"
   ]
  },
  {
   "cell_type": "code",
   "execution_count": 94,
   "metadata": {},
   "outputs": [
    {
     "output_type": "execute_result",
     "data": {
      "text/plain": [
       "     PurchaseID            SN  Age  Gender  ItemID  \\\n",
       "467         467  Adairialis76   16    Male     123   \n",
       "142         142   Adastirin33   35  Female     175   \n",
       "388         388        Aeda94   17    Male     128   \n",
       "28           28        Aela59   21    Male     119   \n",
       "630         630     Aelaria33   23    Male     171   \n",
       "..          ...           ...  ...     ...     ...   \n",
       "141         141    Zhisrisu83   10    Male      60   \n",
       "54           54    Zhisrisu83   10    Male      25   \n",
       "17           17     Zontibe81   21    Male     161   \n",
       "560         560     Zontibe81   21    Male       2   \n",
       "442         442     Zontibe81   21    Male      84   \n",
       "\n",
       "                                      ItemName  Price     Age Group  \n",
       "467                          Twilight's Carver   2.28         15-18  \n",
       "142                 Woeful Adamantite Claymore   4.48         35-38  \n",
       "388              Blazeguard, Reach of Eternity   4.91         15-18  \n",
       "28   Stormbringer, Dark Blade of Ending Misery   4.32         19-22  \n",
       "630                                    Scalpel   1.79         23-26  \n",
       "..                                         ...    ...           ...  \n",
       "141                                       Wolf   3.54  10 and under  \n",
       "54                                   Hero Cane   4.35  10 and under  \n",
       "17                                      Devine   1.76         19-22  \n",
       "560                                    Verdict   2.48         19-22  \n",
       "442                                 Arcane Gem   3.79         19-22  \n",
       "\n",
       "[780 rows x 8 columns]"
      ],
      "text/html": "<div>\n<style scoped>\n    .dataframe tbody tr th:only-of-type {\n        vertical-align: middle;\n    }\n\n    .dataframe tbody tr th {\n        vertical-align: top;\n    }\n\n    .dataframe thead th {\n        text-align: right;\n    }\n</style>\n<table border=\"1\" class=\"dataframe\">\n  <thead>\n    <tr style=\"text-align: right;\">\n      <th></th>\n      <th>PurchaseID</th>\n      <th>SN</th>\n      <th>Age</th>\n      <th>Gender</th>\n      <th>ItemID</th>\n      <th>ItemName</th>\n      <th>Price</th>\n      <th>Age Group</th>\n    </tr>\n  </thead>\n  <tbody>\n    <tr>\n      <th>467</th>\n      <td>467</td>\n      <td>Adairialis76</td>\n      <td>16</td>\n      <td>Male</td>\n      <td>123</td>\n      <td>Twilight's Carver</td>\n      <td>2.28</td>\n      <td>15-18</td>\n    </tr>\n    <tr>\n      <th>142</th>\n      <td>142</td>\n      <td>Adastirin33</td>\n      <td>35</td>\n      <td>Female</td>\n      <td>175</td>\n      <td>Woeful Adamantite Claymore</td>\n      <td>4.48</td>\n      <td>35-38</td>\n    </tr>\n    <tr>\n      <th>388</th>\n      <td>388</td>\n      <td>Aeda94</td>\n      <td>17</td>\n      <td>Male</td>\n      <td>128</td>\n      <td>Blazeguard, Reach of Eternity</td>\n      <td>4.91</td>\n      <td>15-18</td>\n    </tr>\n    <tr>\n      <th>28</th>\n      <td>28</td>\n      <td>Aela59</td>\n      <td>21</td>\n      <td>Male</td>\n      <td>119</td>\n      <td>Stormbringer, Dark Blade of Ending Misery</td>\n      <td>4.32</td>\n      <td>19-22</td>\n    </tr>\n    <tr>\n      <th>630</th>\n      <td>630</td>\n      <td>Aelaria33</td>\n      <td>23</td>\n      <td>Male</td>\n      <td>171</td>\n      <td>Scalpel</td>\n      <td>1.79</td>\n      <td>23-26</td>\n    </tr>\n    <tr>\n      <th>...</th>\n      <td>...</td>\n      <td>...</td>\n      <td>...</td>\n      <td>...</td>\n      <td>...</td>\n      <td>...</td>\n      <td>...</td>\n      <td>...</td>\n    </tr>\n    <tr>\n      <th>141</th>\n      <td>141</td>\n      <td>Zhisrisu83</td>\n      <td>10</td>\n      <td>Male</td>\n      <td>60</td>\n      <td>Wolf</td>\n      <td>3.54</td>\n      <td>10 and under</td>\n    </tr>\n    <tr>\n      <th>54</th>\n      <td>54</td>\n      <td>Zhisrisu83</td>\n      <td>10</td>\n      <td>Male</td>\n      <td>25</td>\n      <td>Hero Cane</td>\n      <td>4.35</td>\n      <td>10 and under</td>\n    </tr>\n    <tr>\n      <th>17</th>\n      <td>17</td>\n      <td>Zontibe81</td>\n      <td>21</td>\n      <td>Male</td>\n      <td>161</td>\n      <td>Devine</td>\n      <td>1.76</td>\n      <td>19-22</td>\n    </tr>\n    <tr>\n      <th>560</th>\n      <td>560</td>\n      <td>Zontibe81</td>\n      <td>21</td>\n      <td>Male</td>\n      <td>2</td>\n      <td>Verdict</td>\n      <td>2.48</td>\n      <td>19-22</td>\n    </tr>\n    <tr>\n      <th>442</th>\n      <td>442</td>\n      <td>Zontibe81</td>\n      <td>21</td>\n      <td>Male</td>\n      <td>84</td>\n      <td>Arcane Gem</td>\n      <td>3.79</td>\n      <td>19-22</td>\n    </tr>\n  </tbody>\n</table>\n<p>780 rows × 8 columns</p>\n</div>"
     },
     "metadata": {},
     "execution_count": 94
    }
   ],
   "source": [
    "update_purchase_df.sort_values(['SN','Price'])"
   ]
  },
  {
   "cell_type": "code",
   "execution_count": 95,
   "metadata": {},
   "outputs": [
    {
     "output_type": "execute_result",
     "data": {
      "text/plain": [
       "     PurchaseID            SN  Age  Gender  ItemID  \\\n",
       "17           17     Zontibe81   21    Male     161   \n",
       "560         560     Zontibe81   21    Male       2   \n",
       "442         442     Zontibe81   21    Male      84   \n",
       "141         141    Zhisrisu83   10    Male      60   \n",
       "54           54    Zhisrisu83   10    Male      25   \n",
       "..          ...           ...  ...     ...     ...   \n",
       "630         630     Aelaria33   23    Male     171   \n",
       "28           28        Aela59   21    Male     119   \n",
       "388         388        Aeda94   17    Male     128   \n",
       "142         142   Adastirin33   35  Female     175   \n",
       "467         467  Adairialis76   16    Male     123   \n",
       "\n",
       "                                      ItemName  Price     Age Group  \n",
       "17                                      Devine   1.76         19-22  \n",
       "560                                    Verdict   2.48         19-22  \n",
       "442                                 Arcane Gem   3.79         19-22  \n",
       "141                                       Wolf   3.54  10 and under  \n",
       "54                                   Hero Cane   4.35  10 and under  \n",
       "..                                         ...    ...           ...  \n",
       "630                                    Scalpel   1.79         23-26  \n",
       "28   Stormbringer, Dark Blade of Ending Misery   4.32         19-22  \n",
       "388              Blazeguard, Reach of Eternity   4.91         15-18  \n",
       "142                 Woeful Adamantite Claymore   4.48         35-38  \n",
       "467                          Twilight's Carver   2.28         15-18  \n",
       "\n",
       "[780 rows x 8 columns]"
      ],
      "text/html": "<div>\n<style scoped>\n    .dataframe tbody tr th:only-of-type {\n        vertical-align: middle;\n    }\n\n    .dataframe tbody tr th {\n        vertical-align: top;\n    }\n\n    .dataframe thead th {\n        text-align: right;\n    }\n</style>\n<table border=\"1\" class=\"dataframe\">\n  <thead>\n    <tr style=\"text-align: right;\">\n      <th></th>\n      <th>PurchaseID</th>\n      <th>SN</th>\n      <th>Age</th>\n      <th>Gender</th>\n      <th>ItemID</th>\n      <th>ItemName</th>\n      <th>Price</th>\n      <th>Age Group</th>\n    </tr>\n  </thead>\n  <tbody>\n    <tr>\n      <th>17</th>\n      <td>17</td>\n      <td>Zontibe81</td>\n      <td>21</td>\n      <td>Male</td>\n      <td>161</td>\n      <td>Devine</td>\n      <td>1.76</td>\n      <td>19-22</td>\n    </tr>\n    <tr>\n      <th>560</th>\n      <td>560</td>\n      <td>Zontibe81</td>\n      <td>21</td>\n      <td>Male</td>\n      <td>2</td>\n      <td>Verdict</td>\n      <td>2.48</td>\n      <td>19-22</td>\n    </tr>\n    <tr>\n      <th>442</th>\n      <td>442</td>\n      <td>Zontibe81</td>\n      <td>21</td>\n      <td>Male</td>\n      <td>84</td>\n      <td>Arcane Gem</td>\n      <td>3.79</td>\n      <td>19-22</td>\n    </tr>\n    <tr>\n      <th>141</th>\n      <td>141</td>\n      <td>Zhisrisu83</td>\n      <td>10</td>\n      <td>Male</td>\n      <td>60</td>\n      <td>Wolf</td>\n      <td>3.54</td>\n      <td>10 and under</td>\n    </tr>\n    <tr>\n      <th>54</th>\n      <td>54</td>\n      <td>Zhisrisu83</td>\n      <td>10</td>\n      <td>Male</td>\n      <td>25</td>\n      <td>Hero Cane</td>\n      <td>4.35</td>\n      <td>10 and under</td>\n    </tr>\n    <tr>\n      <th>...</th>\n      <td>...</td>\n      <td>...</td>\n      <td>...</td>\n      <td>...</td>\n      <td>...</td>\n      <td>...</td>\n      <td>...</td>\n      <td>...</td>\n    </tr>\n    <tr>\n      <th>630</th>\n      <td>630</td>\n      <td>Aelaria33</td>\n      <td>23</td>\n      <td>Male</td>\n      <td>171</td>\n      <td>Scalpel</td>\n      <td>1.79</td>\n      <td>23-26</td>\n    </tr>\n    <tr>\n      <th>28</th>\n      <td>28</td>\n      <td>Aela59</td>\n      <td>21</td>\n      <td>Male</td>\n      <td>119</td>\n      <td>Stormbringer, Dark Blade of Ending Misery</td>\n      <td>4.32</td>\n      <td>19-22</td>\n    </tr>\n    <tr>\n      <th>388</th>\n      <td>388</td>\n      <td>Aeda94</td>\n      <td>17</td>\n      <td>Male</td>\n      <td>128</td>\n      <td>Blazeguard, Reach of Eternity</td>\n      <td>4.91</td>\n      <td>15-18</td>\n    </tr>\n    <tr>\n      <th>142</th>\n      <td>142</td>\n      <td>Adastirin33</td>\n      <td>35</td>\n      <td>Female</td>\n      <td>175</td>\n      <td>Woeful Adamantite Claymore</td>\n      <td>4.48</td>\n      <td>35-38</td>\n    </tr>\n    <tr>\n      <th>467</th>\n      <td>467</td>\n      <td>Adairialis76</td>\n      <td>16</td>\n      <td>Male</td>\n      <td>123</td>\n      <td>Twilight's Carver</td>\n      <td>2.28</td>\n      <td>15-18</td>\n    </tr>\n  </tbody>\n</table>\n<p>780 rows × 8 columns</p>\n</div>"
     },
     "metadata": {},
     "execution_count": 95
    }
   ],
   "source": [
    "update_purchase_df.sort_values(['SN','Price'], ascending=[False, True])"
   ]
  },
  {
   "cell_type": "code",
   "execution_count": 117,
   "metadata": {},
   "outputs": [
    {
     "output_type": "execute_result",
     "data": {
      "text/plain": [
       "{'Adairialis76': [467], 'Adastirin33': [142], 'Aeda94': [388], 'Aela59': [28], 'Aelaria33': [630], 'Aelastirin39': [218, 766], 'Aelidru27': [705], 'Aelin32': [52, 87, 584], 'Aelly27': [43, 428], 'Aellynun67': [286], 'Aellyria80': [746], 'Aelollo59': [203, 431], 'Aenarap34': [183], 'Aeral43': [263], 'Aeral68': [674], 'Aeral97': [167], 'Aeralria27': [32], 'Aeralstical35': [583], 'Aeri84': [303], 'Aerillorin70': [381], 'Aerithllora36': [274, 578], 'Aerithnucal56': [324], 'Aerithnuphos61': [517], 'Aerithriaphos45': [40], 'Aerithriaphos46': [236], 'Aesri53': [541], 'Aesty53': [124, 253], 'Aestysu37': [309, 416], 'Aesur96': [468], 'Aesurstilis64': [405], 'Aethedru70': [775], 'Aidai53': [219], 'Aidai61': [282], 'Aidai73': [720], 'Aidaillodeu39': [42, 146], 'Aidain51': [516], 'Aidaira26': [730], 'Aiduecal76': [97, 670], 'Aiduesu86': [429], 'Aillyriadru65': [523], 'Aillyrin83': [155], 'Aina42': [83, 363, 373], 'Aina43': [94], 'Airi27': [637], 'Aisur51': [184], 'Aisurdru79': [440, 618], 'Aisurria69': [423], 'Aithelis62': [703, 760], 'Alaephos75': [295], 'Alaesu77': [494], 'Alaesu91': [285], 'Alarap40': [391], 'Ali84': [360, 635], 'Alim85': [226], 'Alo38': [63], 'Anallorgue57': [272, 311], 'Ardcil81': [398, 544], 'Ardonmol96': [566], 'Arin32': [627, 734], 'Arirgue63': [470], 'Assassa81': [631], 'Assassasta79': [270, 768], 'Assastnya25': [565], 'Assehoan67': [258], 'Assesi91': [420], 'Assilsan72': [666], 'Assim27': [761], 'Assirra56': [587], 'Assistasda42': [73, 351], 'Assistasda90': [460], 'Assjaskan56': [79], 'Assjaskan73': [13], 'Assosia88': [41], 'Assylla81': [729], 'Asty82': [680], 'Asur53': [390, 762, 772], 'Asur96': [48], 'Baelollodeu94': [178, 569], 'Bartassaya73': [387, 644], 'Caesrinusuir82': [171, 671], 'Ceoral34': [329], 'Chadadarla74': [310, 614], 'Chadilsasta32': [331, 343], 'Chadirra90': [359], 'Chadista79': [186, 506], 'Chadistaya75': [92], 'Chadjask77': [686], 'Chadjask85': [647], 'Chadolyla44': [91, 198, 711], 'Chadossa56': [570], 'Chadossa89': [98], 'Chamadar79': [262], 'Chamadarnya73': [458], 'Chamadarsda63': [642], 'Chamalo71': [19], 'Chamassasya86': [3], 'Chamast86': [653], 'Chamastya76': [307], 'Chamilsala65': [347, 504], 'Chamiman85': [733], ...}"
      ]
     },
     "metadata": {},
     "execution_count": 117
    }
   ],
   "source": [
    "# Find Top 5 Spenders by total purchase value\n",
    "# 1. need to determine value each person spent; 2. need to create list of top 5 spenders; 3. need to pull number of transactions for those users; 4. need to calculate average price per transaction\n",
    "\n",
    "top_spenders_df = update_purchase_df.groupby('SN')\n",
    "test_spenders_df = update_purchase_df.sort_values(['SN','Price']).Price.sum()\n",
    "\n",
    "top_spenders_df.groups\n"
   ]
  },
  {
   "cell_type": "code",
   "execution_count": 118,
   "metadata": {},
   "outputs": [
    {
     "output_type": "execute_result",
     "data": {
      "text/plain": [
       "     PurchaseID             SN  Age  Gender  ItemID  \\\n",
       "0             0        Lisim78   20    Male     108   \n",
       "1             1    Lisovynya38   40    Male     143   \n",
       "2             2     Ithergue48   24    Male      92   \n",
       "3             3  Chamassasya86   24    Male     100   \n",
       "4             4      Iskosia90   23    Male     131   \n",
       "..          ...            ...  ...     ...     ...   \n",
       "775         775     Aethedru70   21  Female      60   \n",
       "776         776         Iral74   21    Male     164   \n",
       "777         777     Yathecal72   20    Male      67   \n",
       "778         778        Sisur91    7    Male      92   \n",
       "779         779      Ennrian78   24    Male      50   \n",
       "\n",
       "                                      ItemName  Price     Age Group  \n",
       "0    Extraction, Quickblade Of Trembling Hands   3.53         19-22  \n",
       "1                            Frenzied Scimitar   1.56         39-42  \n",
       "2                                 Final Critic   4.88         23-26  \n",
       "3                                  Blindscythe   3.27         23-26  \n",
       "4                                         Fury   1.44         23-26  \n",
       "..                                         ...    ...           ...  \n",
       "775                                       Wolf   3.54         19-22  \n",
       "776                           Exiled Doomblade   1.63         19-22  \n",
       "777      Celeste, Incarnation of the Corrupted   3.46         19-22  \n",
       "778                               Final Critic   4.19  10 and under  \n",
       "779                                       Dawn   4.60         23-26  \n",
       "\n",
       "[780 rows x 8 columns]"
      ],
      "text/html": "<div>\n<style scoped>\n    .dataframe tbody tr th:only-of-type {\n        vertical-align: middle;\n    }\n\n    .dataframe tbody tr th {\n        vertical-align: top;\n    }\n\n    .dataframe thead th {\n        text-align: right;\n    }\n</style>\n<table border=\"1\" class=\"dataframe\">\n  <thead>\n    <tr style=\"text-align: right;\">\n      <th></th>\n      <th>PurchaseID</th>\n      <th>SN</th>\n      <th>Age</th>\n      <th>Gender</th>\n      <th>ItemID</th>\n      <th>ItemName</th>\n      <th>Price</th>\n      <th>Age Group</th>\n    </tr>\n  </thead>\n  <tbody>\n    <tr>\n      <th>0</th>\n      <td>0</td>\n      <td>Lisim78</td>\n      <td>20</td>\n      <td>Male</td>\n      <td>108</td>\n      <td>Extraction, Quickblade Of Trembling Hands</td>\n      <td>3.53</td>\n      <td>19-22</td>\n    </tr>\n    <tr>\n      <th>1</th>\n      <td>1</td>\n      <td>Lisovynya38</td>\n      <td>40</td>\n      <td>Male</td>\n      <td>143</td>\n      <td>Frenzied Scimitar</td>\n      <td>1.56</td>\n      <td>39-42</td>\n    </tr>\n    <tr>\n      <th>2</th>\n      <td>2</td>\n      <td>Ithergue48</td>\n      <td>24</td>\n      <td>Male</td>\n      <td>92</td>\n      <td>Final Critic</td>\n      <td>4.88</td>\n      <td>23-26</td>\n    </tr>\n    <tr>\n      <th>3</th>\n      <td>3</td>\n      <td>Chamassasya86</td>\n      <td>24</td>\n      <td>Male</td>\n      <td>100</td>\n      <td>Blindscythe</td>\n      <td>3.27</td>\n      <td>23-26</td>\n    </tr>\n    <tr>\n      <th>4</th>\n      <td>4</td>\n      <td>Iskosia90</td>\n      <td>23</td>\n      <td>Male</td>\n      <td>131</td>\n      <td>Fury</td>\n      <td>1.44</td>\n      <td>23-26</td>\n    </tr>\n    <tr>\n      <th>...</th>\n      <td>...</td>\n      <td>...</td>\n      <td>...</td>\n      <td>...</td>\n      <td>...</td>\n      <td>...</td>\n      <td>...</td>\n      <td>...</td>\n    </tr>\n    <tr>\n      <th>775</th>\n      <td>775</td>\n      <td>Aethedru70</td>\n      <td>21</td>\n      <td>Female</td>\n      <td>60</td>\n      <td>Wolf</td>\n      <td>3.54</td>\n      <td>19-22</td>\n    </tr>\n    <tr>\n      <th>776</th>\n      <td>776</td>\n      <td>Iral74</td>\n      <td>21</td>\n      <td>Male</td>\n      <td>164</td>\n      <td>Exiled Doomblade</td>\n      <td>1.63</td>\n      <td>19-22</td>\n    </tr>\n    <tr>\n      <th>777</th>\n      <td>777</td>\n      <td>Yathecal72</td>\n      <td>20</td>\n      <td>Male</td>\n      <td>67</td>\n      <td>Celeste, Incarnation of the Corrupted</td>\n      <td>3.46</td>\n      <td>19-22</td>\n    </tr>\n    <tr>\n      <th>778</th>\n      <td>778</td>\n      <td>Sisur91</td>\n      <td>7</td>\n      <td>Male</td>\n      <td>92</td>\n      <td>Final Critic</td>\n      <td>4.19</td>\n      <td>10 and under</td>\n    </tr>\n    <tr>\n      <th>779</th>\n      <td>779</td>\n      <td>Ennrian78</td>\n      <td>24</td>\n      <td>Male</td>\n      <td>50</td>\n      <td>Dawn</td>\n      <td>4.60</td>\n      <td>23-26</td>\n    </tr>\n  </tbody>\n</table>\n<p>780 rows × 8 columns</p>\n</div>"
     },
     "metadata": {},
     "execution_count": 118
    }
   ],
   "source": [
    "top_spenders_df.head()"
   ]
  },
  {
   "cell_type": "code",
   "execution_count": 123,
   "metadata": {},
   "outputs": [
    {
     "output_type": "execute_result",
     "data": {
      "text/plain": [
       "              PurchaseID  Age  ItemID  Price\n",
       "SN                                          \n",
       "Lisosia93           1630  125     442  18.96\n",
       "Idastidru52         1999   96     527  15.45\n",
       "Chamjask73          1306   66     339  13.83\n",
       "Iral74              2285   84     518  13.62\n",
       "Iskadarya95          713   60     321  13.10\n",
       "Ilarin91            1474   66     243  12.70\n",
       "Ialallo29           1097   45     323  11.84\n",
       "Tyidaim51           1257   48     153  11.83\n",
       "Lassilsala30        1390   63     288  11.51\n",
       "Chadolyla44         1000   60     306  11.46"
      ],
      "text/html": "<div>\n<style scoped>\n    .dataframe tbody tr th:only-of-type {\n        vertical-align: middle;\n    }\n\n    .dataframe tbody tr th {\n        vertical-align: top;\n    }\n\n    .dataframe thead th {\n        text-align: right;\n    }\n</style>\n<table border=\"1\" class=\"dataframe\">\n  <thead>\n    <tr style=\"text-align: right;\">\n      <th></th>\n      <th>PurchaseID</th>\n      <th>Age</th>\n      <th>ItemID</th>\n      <th>Price</th>\n    </tr>\n    <tr>\n      <th>SN</th>\n      <th></th>\n      <th></th>\n      <th></th>\n      <th></th>\n    </tr>\n  </thead>\n  <tbody>\n    <tr>\n      <th>Lisosia93</th>\n      <td>1630</td>\n      <td>125</td>\n      <td>442</td>\n      <td>18.96</td>\n    </tr>\n    <tr>\n      <th>Idastidru52</th>\n      <td>1999</td>\n      <td>96</td>\n      <td>527</td>\n      <td>15.45</td>\n    </tr>\n    <tr>\n      <th>Chamjask73</th>\n      <td>1306</td>\n      <td>66</td>\n      <td>339</td>\n      <td>13.83</td>\n    </tr>\n    <tr>\n      <th>Iral74</th>\n      <td>2285</td>\n      <td>84</td>\n      <td>518</td>\n      <td>13.62</td>\n    </tr>\n    <tr>\n      <th>Iskadarya95</th>\n      <td>713</td>\n      <td>60</td>\n      <td>321</td>\n      <td>13.10</td>\n    </tr>\n    <tr>\n      <th>Ilarin91</th>\n      <td>1474</td>\n      <td>66</td>\n      <td>243</td>\n      <td>12.70</td>\n    </tr>\n    <tr>\n      <th>Ialallo29</th>\n      <td>1097</td>\n      <td>45</td>\n      <td>323</td>\n      <td>11.84</td>\n    </tr>\n    <tr>\n      <th>Tyidaim51</th>\n      <td>1257</td>\n      <td>48</td>\n      <td>153</td>\n      <td>11.83</td>\n    </tr>\n    <tr>\n      <th>Lassilsala30</th>\n      <td>1390</td>\n      <td>63</td>\n      <td>288</td>\n      <td>11.51</td>\n    </tr>\n    <tr>\n      <th>Chadolyla44</th>\n      <td>1000</td>\n      <td>60</td>\n      <td>306</td>\n      <td>11.46</td>\n    </tr>\n  </tbody>\n</table>\n</div>"
     },
     "metadata": {},
     "execution_count": 123
    }
   ],
   "source": [
    "spend_compare_df = top_spenders_df.sum()\n",
    "spend_compare_df.sort_values(['Price'], ascending=False).head(10)"
   ]
  },
  {
   "cell_type": "code",
   "execution_count": 88,
   "metadata": {},
   "outputs": [
    {
     "output_type": "execute_result",
     "data": {
      "text/plain": [
       "SN\n",
       "Adairialis76     1\n",
       "Adastirin33      1\n",
       "Aeda94           1\n",
       "Aela59           1\n",
       "Aelaria33        1\n",
       "                ..\n",
       "Yathecal82       3\n",
       "Yathedeu43       2\n",
       "Yoishirrala98    1\n",
       "Zhisrisu83       2\n",
       "Zontibe81        3\n",
       "Length: 576, dtype: int64"
      ]
     },
     "metadata": {},
     "execution_count": 88
    }
   ],
   "source": [
    "#top_spenders_df.size()"
   ]
  },
  {
   "cell_type": "code",
   "execution_count": 96,
   "metadata": {},
   "outputs": [
    {
     "output_type": "error",
     "ename": "AttributeError",
     "evalue": "'DataFrameGroupBy' object has no attribute 'sort_values'",
     "traceback": [
      "\u001b[0;31m---------------------------------------------------------------------------\u001b[0m",
      "\u001b[0;31mAttributeError\u001b[0m                            Traceback (most recent call last)",
      "\u001b[0;32m<ipython-input-96-acafee03dc94>\u001b[0m in \u001b[0;36m<module>\u001b[0;34m\u001b[0m\n\u001b[0;32m----> 1\u001b[0;31m \u001b[0mtop_spenders_df\u001b[0m\u001b[0;34m.\u001b[0m\u001b[0msort_values\u001b[0m\u001b[0;34m(\u001b[0m\u001b[0;34m'ItemID'\u001b[0m\u001b[0;34m)\u001b[0m\u001b[0;34m\u001b[0m\u001b[0;34m\u001b[0m\u001b[0m\n\u001b[0m",
      "\u001b[0;32m~/opt/anaconda3/lib/python3.8/site-packages/pandas/core/groupby/groupby.py\u001b[0m in \u001b[0;36m__getattr__\u001b[0;34m(self, attr)\u001b[0m\n\u001b[1;32m    701\u001b[0m             \u001b[0;32mreturn\u001b[0m \u001b[0mself\u001b[0m\u001b[0;34m[\u001b[0m\u001b[0mattr\u001b[0m\u001b[0;34m]\u001b[0m\u001b[0;34m\u001b[0m\u001b[0;34m\u001b[0m\u001b[0m\n\u001b[1;32m    702\u001b[0m \u001b[0;34m\u001b[0m\u001b[0m\n\u001b[0;32m--> 703\u001b[0;31m         raise AttributeError(\n\u001b[0m\u001b[1;32m    704\u001b[0m             \u001b[0;34mf\"'{type(self).__name__}' object has no attribute '{attr}'\"\u001b[0m\u001b[0;34m\u001b[0m\u001b[0;34m\u001b[0m\u001b[0m\n\u001b[1;32m    705\u001b[0m         )\n",
      "\u001b[0;31mAttributeError\u001b[0m: 'DataFrameGroupBy' object has no attribute 'sort_values'"
     ]
    }
   ],
   "source": [
    "top_spenders_df.sort_values('ItemID')"
   ]
  },
  {
   "cell_type": "code",
   "execution_count": 46,
   "metadata": {},
   "outputs": [
    {
     "output_type": "execute_result",
     "data": {
      "text/plain": [
       "SN\n",
       "Adairialis76    2.28\n",
       "Adastirin33     4.48\n",
       "Aeda94          4.91\n",
       "Aela59          4.32\n",
       "Aelaria33       1.79\n",
       "Name: Price, dtype: float64"
      ]
     },
     "metadata": {},
     "execution_count": 46
    }
   ],
   "source": [
    "# 1. determine value each person spent\n",
    "Top_5_price_df = age_df.groupby(['SN'])['Price'].sum(['Price'])\n",
    "Top_5_price_df.head()\n",
    "#test_this = Top_5_df.groupby('Price')"
   ]
  },
  {
   "cell_type": "code",
   "execution_count": null,
   "metadata": {},
   "outputs": [],
   "source": [
    "# 2. find top 5 spenders\n",
    "#..does_this_work_df = Top_5_price_df.loc[Top_5_price_df[\"Price\"] > Top_5_price['Price'].mean(), :]\n",
    "\n",
    "# Am I going to have to do a loop to search for top spender, pull their data, remove them from the df & then rerun 4 times to get the top 5?\n",
    "##.top_5_SN"
   ]
  },
  {
   "cell_type": "code",
   "execution_count": null,
   "metadata": {},
   "outputs": [],
   "source": [
    "### If I can get this to work, I can do a merge between this & the earlier subset to pull from instead of having to cobble separately.\n",
    "\n",
    "# 3. pull number of transactions for top 5\n",
    "top_5_trans_df = age_df.groupby(['SN'])['ItemName'].count()\n",
    "top_5_trans_df"
   ]
  },
  {
   "cell_type": "code",
   "execution_count": null,
   "metadata": {},
   "outputs": [],
   "source": [
    "# 4. calculate avg price per transaction"
   ]
  },
  {
   "cell_type": "code",
   "execution_count": null,
   "metadata": {},
   "outputs": [],
   "source": [
    "# Table should have: SN, purchase count, average purchase price, total purchase value"
   ]
  },
  {
   "cell_type": "markdown",
   "metadata": {},
   "source": [
    "## Most Popular Items"
   ]
  },
  {
   "cell_type": "markdown",
   "metadata": {},
   "source": [
    "* Retrieve the Item ID, Item Name, and Item Price columns\n",
    "\n",
    "\n",
    "* Group by Item ID and Item Name. Perform calculations to obtain purchase count, average item price, and total purchase value\n",
    "\n",
    "\n",
    "* Create a summary data frame to hold the results\n",
    "\n",
    "\n",
    "* Sort the purchase count column in descending order\n",
    "\n",
    "\n",
    "* Optional: give the displayed data cleaner formatting\n",
    "\n",
    "\n",
    "* Display a preview of the summary data frame\n",
    "\n"
   ]
  },
  {
   "cell_type": "code",
   "execution_count": null,
   "metadata": {},
   "outputs": [],
   "source": [
    "# create df for items\n",
    "item_df = update_purchase_df"
   ]
  },
  {
   "cell_type": "markdown",
   "metadata": {},
   "source": [
    "## Most Profitable Items"
   ]
  },
  {
   "cell_type": "markdown",
   "metadata": {},
   "source": [
    "* Sort the above table by total purchase value in descending order\n",
    "\n",
    "\n",
    "* Optional: give the displayed data cleaner formatting\n",
    "\n",
    "\n",
    "* Display a preview of the data frame\n",
    "\n"
   ]
  },
  {
   "cell_type": "code",
   "execution_count": null,
   "metadata": {
    "scrolled": true
   },
   "outputs": [],
   "source": []
  }
 ],
 "metadata": {
  "anaconda-cloud": {},
  "kernel_info": {
   "name": "python3"
  },
  "kernelspec": {
   "name": "python385jvsc74a57bd0797aaa517c2851f29685343c41d423cf5c6e3497bc2091e34cd352c6f05b7b6f",
   "display_name": "Python 3.8.5 64-bit ('base': conda)"
  },
  "language_info": {
   "codemirror_mode": {
    "name": "ipython",
    "version": 3
   },
   "file_extension": ".py",
   "mimetype": "text/x-python",
   "name": "python",
   "nbconvert_exporter": "python",
   "pygments_lexer": "ipython3",
   "version": "3.8.5"
  },
  "latex_envs": {
   "LaTeX_envs_menu_present": true,
   "autoclose": false,
   "autocomplete": true,
   "bibliofile": "biblio.bib",
   "cite_by": "apalike",
   "current_citInitial": 1,
   "eqLabelWithNumbers": true,
   "eqNumInitial": 1,
   "hotkeys": {
    "equation": "Ctrl-E",
    "itemize": "Ctrl-I"
   },
   "labels_anchors": false,
   "latex_user_defs": false,
   "report_style_numbering": false,
   "user_envs_cfg": false
  },
  "nteract": {
   "version": "0.2.0"
  },
  "metadata": {
   "interpreter": {
    "hash": "aee8b7b246df8f9039afb4144a1f6fd8d2ca17a180786b69acc140d282b71a49"
   }
  }
 },
 "nbformat": 4,
 "nbformat_minor": 2
}